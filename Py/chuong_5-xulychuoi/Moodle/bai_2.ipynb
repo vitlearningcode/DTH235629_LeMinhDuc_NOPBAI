{
 "cells": [
  {
   "cell_type": "markdown",
   "id": "cffa5c21",
   "metadata": {},
   "source": [
    "Một Chuỗi được gọi là tối ưu khi: Không chứa các khoảng trắng dư thừa, các từ cách \n",
    "nhau bởi một khoảng trắng "
   ]
  },
  {
   "cell_type": "code",
   "execution_count": 1,
   "id": "dbae0dea",
   "metadata": {},
   "outputs": [
    {
     "name": "stdout",
     "output_type": "stream",
     "text": [
      "    Trần     Duy     Thanh    => 29\n",
      "Trần Duy Thanh => 14\n"
     ]
    }
   ],
   "source": [
    "def ToiUuChuoi(s): \n",
    "    s2=s \n",
    "    s2=s2.strip() \n",
    "    arr=s2.split(' ') \n",
    "    s2=\"\" \n",
    "    for x in arr: \n",
    "        word=x \n",
    "        if len(word.strip())!=0: \n",
    "            s2=s2+word+\" \" \n",
    "    return s2.strip() \n",
    " \n",
    "s=\"    Trần     Duy     Thanh   \" \n",
    "print(s,\"=>\",len(s)) \n",
    "s=ToiUuChuoi(s) \n",
    "print(s,\"=>\",len(s))"
   ]
  }
 ],
 "metadata": {
  "kernelspec": {
   "display_name": "Python 3",
   "language": "python",
   "name": "python3"
  },
  "language_info": {
   "codemirror_mode": {
    "name": "ipython",
    "version": 3
   },
   "file_extension": ".py",
   "mimetype": "text/x-python",
   "name": "python",
   "nbconvert_exporter": "python",
   "pygments_lexer": "ipython3",
   "version": "3.13.7"
  }
 },
 "nbformat": 4,
 "nbformat_minor": 5
}
