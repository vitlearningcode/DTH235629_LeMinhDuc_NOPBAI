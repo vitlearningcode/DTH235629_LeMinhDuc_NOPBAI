{
 "cells": [
  {
   "cell_type": "markdown",
   "id": "958223a3",
   "metadata": {},
   "source": [
    "Xử lý Tách chuỗi "
   ]
  },
  {
   "cell_type": "code",
   "execution_count": 1,
   "id": "e891ca0b",
   "metadata": {},
   "outputs": [
    {
     "name": "stdout",
     "output_type": "stream",
     "text": [
      "5\n",
      "7\n",
      "8\n",
      "-2\n",
      "8\n",
      "11\n",
      "-13\n",
      "9\n",
      "10\n",
      "Số chẵn = 4\n",
      "Số âm = 2\n",
      "Số Nguyên tố = 3\n",
      "Trung bình= 4.777777777777778\n"
     ]
    }
   ],
   "source": [
    "def CheckPrime(x): \n",
    "    dem=0 \n",
    "    for i in range(1,x+1): \n",
    "        if x % i ==0: \n",
    "            dem+=1 \n",
    "    return dem==2 \n",
    "s=\"5;7;8;-2;8;11;-13;9;10\" \n",
    "arr=s.split(';') \n",
    "sochan=0 \n",
    "soam=0 \n",
    "sont=0 \n",
    "sum=0 \n",
    "for x in arr: \n",
    "    print(x) \n",
    "    number=int(x) \n",
    "    if number %  2 ==0: \n",
    "        sochan+=1 \n",
    "    if number <0: \n",
    "        soam+=1 \n",
    "    if CheckPrime(number): \n",
    "        sont+=1 \n",
    "    sum=sum+number \n",
    "print(\"Số chẵn =\",sochan) \n",
    "print(\"Số âm =\",soam) \n",
    "print(\"Số Nguyên tố =\",sont) \n",
    "print(\"Trung bình=\",sum/len(arr)) "
   ]
  }
 ],
 "metadata": {
  "kernelspec": {
   "display_name": "Python 3",
   "language": "python",
   "name": "python3"
  },
  "language_info": {
   "codemirror_mode": {
    "name": "ipython",
    "version": 3
   },
   "file_extension": ".py",
   "mimetype": "text/x-python",
   "name": "python",
   "nbconvert_exporter": "python",
   "pygments_lexer": "ipython3",
   "version": "3.13.7"
  }
 },
 "nbformat": 4,
 "nbformat_minor": 5
}
