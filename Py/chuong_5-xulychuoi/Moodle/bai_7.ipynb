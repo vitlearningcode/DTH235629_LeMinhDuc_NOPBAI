{
 "cells": [
  {
   "cell_type": "markdown",
   "id": "6daca0ee",
   "metadata": {},
   "source": [
    "Viết chương trình tối ưu Chuỗi danh từ \n",
    "Một Chuỗi được gọi là tối ưu khi: Không chứa các khoảng trắng dư thừa, các từ cách \n",
    "nhau bởi một khoảng trắng, Ký tự đầu tiên của các từ Viết Hoa \n",
    "Ví dụ: \n",
    "Input “    \n",
    " TRần    \n",
    "duY \n",
    "Output “Trần Duy Thanh” \n",
    "           thAnH   ”"
   ]
  },
  {
   "cell_type": "code",
   "execution_count": 1,
   "id": "544506c8",
   "metadata": {},
   "outputs": [
    {
     "name": "stdout",
     "output_type": "stream",
     "text": [
      "Chuỗi tối ưu: Le Minh Duc\n"
     ]
    }
   ],
   "source": [
    "s = input(\"Nhập chuỗi: \")\n",
    "\n",
    "# Xóa khoảng trắng đầu/cuối\n",
    "s = s.strip()\n",
    "\n",
    "# Tách các từ, xóa khoảng trắng thừa giữa\n",
    "words = s.split()  # split() tự bỏ khoảng trắng dư\n",
    "\n",
    "# Viết hoa chữ cái đầu\n",
    "words = [word.capitalize() for word in words]\n",
    "\n",
    "# Nối lại thành chuỗi tối ưu\n",
    "result = ' '.join(words)\n",
    "\n",
    "print(\"Chuỗi tối ưu:\", result)\n"
   ]
  },
  {
   "cell_type": "code",
   "execution_count": 2,
   "id": "9d8de3bf",
   "metadata": {},
   "outputs": [
    {
     "name": "stdout",
     "output_type": "stream",
     "text": [
      "Chuỗi tối ưu: Ttruong Dai Hoc An Giang\n"
     ]
    }
   ],
   "source": [
    "def ToiUuChuoi(s):\n",
    "    # Xóa khoảng trắng dư thừa\n",
    "    s = s.strip()\n",
    "    words = s.split()\n",
    "    # Viết hoa chữ cái đầu mỗi từ\n",
    "    words = [word.capitalize() for word in words]\n",
    "    return ' '.join(words)\n",
    "\n",
    "chuoi = input(\"Nhập chuỗi: \")\n",
    "print(\"Chuỗi tối ưu:\", ToiUuChuoi(chuoi))\n"
   ]
  },
  {
   "cell_type": "code",
   "execution_count": 3,
   "id": "eff3f2ec",
   "metadata": {},
   "outputs": [
    {
     "name": "stdout",
     "output_type": "stream",
     "text": [
      "Chuỗi tối ưu: Helllo World\n"
     ]
    }
   ],
   "source": [
    "def ToiUuChuoi(s):\n",
    "    return ' '.join(word.capitalize() for word in s.split())\n",
    "\n",
    "chuoi = input(\"Nhập chuỗi: \")\n",
    "print(\"Chuỗi tối ưu:\", ToiUuChuoi(chuoi))\n"
   ]
  }
 ],
 "metadata": {
  "kernelspec": {
   "display_name": "Python 3",
   "language": "python",
   "name": "python3"
  },
  "language_info": {
   "codemirror_mode": {
    "name": "ipython",
    "version": 3
   },
   "file_extension": ".py",
   "mimetype": "text/x-python",
   "name": "python",
   "nbconvert_exporter": "python",
   "pygments_lexer": "ipython3",
   "version": "3.13.7"
  }
 },
 "nbformat": 4,
 "nbformat_minor": 5
}
