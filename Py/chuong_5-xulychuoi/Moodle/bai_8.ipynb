{
 "cells": [
  {
   "cell_type": "code",
   "execution_count": 1,
   "id": "ebdfdfdc",
   "metadata": {},
   "outputs": [
    {
     "name": "stdout",
     "output_type": "stream",
     "text": [
      "muabui.mp3\n",
      "muabui\n"
     ]
    }
   ],
   "source": [
    "def lay_ten_file(duong_dan):\n",
    "    # Lấy tên file kèm phần mở rộng\n",
    "    return duong_dan.split(\"\\\\\")[-1]\n",
    "\n",
    "def lay_ten_file_khong_duoi(duong_dan):\n",
    "    # Lấy tên file, loại bỏ phần mở rộng\n",
    "    ten_file = lay_ten_file(duong_dan)\n",
    "    return ten_file.split(\".\")[0]\n",
    "\n",
    "# Ví dụ\n",
    "duong_dan = r\"d:\\music\\muabui.mp3\"\n",
    "print(lay_ten_file(duong_dan))            # muabui.mp3\n",
    "print(lay_ten_file_khong_duoi(duong_dan)) # muabui\n"
   ]
  },
  {
   "cell_type": "code",
   "execution_count": 2,
   "id": "bb0cfd4b",
   "metadata": {},
   "outputs": [
    {
     "name": "stdout",
     "output_type": "stream",
     "text": [
      "muabui.mp3\n",
      "muabui\n"
     ]
    }
   ],
   "source": [
    "import os\n",
    "\n",
    "def lay_ten_file(duong_dan):\n",
    "    return os.path.basename(duong_dan)\n",
    "\n",
    "def lay_ten_file_khong_duoi(duong_dan):\n",
    "    return os.path.splitext(os.path.basename(duong_dan))[0]\n",
    "\n",
    "# Ví dụ\n",
    "duong_dan = r\"d:\\music\\muabui.mp3\"\n",
    "print(lay_ten_file(duong_dan))            # muabui.mp3\n",
    "print(lay_ten_file_khong_duoi(duong_dan)) # muabui\n"
   ]
  },
  {
   "cell_type": "code",
   "execution_count": 3,
   "id": "d237b109",
   "metadata": {},
   "outputs": [
    {
     "name": "stdout",
     "output_type": "stream",
     "text": [
      "muabui.mp3\n",
      "muabui\n"
     ]
    }
   ],
   "source": [
    "import os\n",
    "\n",
    "lay_ten_file = lambda path: os.path.basename(path)\n",
    "lay_ten_file_khong_duoi = lambda path: os.path.splitext(os.path.basename(path))[0]\n",
    "\n",
    "duong_dan = r\"d:\\music\\muabui.mp3\"\n",
    "print(lay_ten_file(duong_dan))            # muabui.mp3\n",
    "print(lay_ten_file_khong_duoi(duong_dan)) # muabui\n"
   ]
  }
 ],
 "metadata": {
  "kernelspec": {
   "display_name": "Python 3",
   "language": "python",
   "name": "python3"
  },
  "language_info": {
   "codemirror_mode": {
    "name": "ipython",
    "version": 3
   },
   "file_extension": ".py",
   "mimetype": "text/x-python",
   "name": "python",
   "nbconvert_exporter": "python",
   "pygments_lexer": "ipython3",
   "version": "3.13.7"
  }
 },
 "nbformat": 4,
 "nbformat_minor": 5
}
