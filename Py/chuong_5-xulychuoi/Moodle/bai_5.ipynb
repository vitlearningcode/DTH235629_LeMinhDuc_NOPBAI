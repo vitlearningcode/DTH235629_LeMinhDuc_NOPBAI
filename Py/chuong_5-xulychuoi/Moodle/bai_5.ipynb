{
 "cells": [
  {
   "cell_type": "markdown",
   "id": "363d2845",
   "metadata": {},
   "source": [
    "Viết chương trình cho phép nhập vào 1 chuỗi. Yêu cầu xuất ra: - - - - - - - \n",
    "Bao nhiêu chữ IN HOA   \n",
    "Bao nhiêu chữ in thường  \n",
    "Bao nhiêu chữ là chữ số  \n",
    "Bao nhiêu chữ là ký tự đặc biệt  \n",
    "Bao nhiêu chữ là khoảng trắng   \n",
    "Bao nhiêu chữ là N  "
   ]
  },
  {
   "cell_type": "code",
   "execution_count": 1,
   "id": "19baa84d",
   "metadata": {},
   "outputs": [
    {
     "name": "stdout",
     "output_type": "stream",
     "text": [
      "Số chữ IN HOA: 3\n",
      "Số chữ in thường: 6\n",
      "Số chữ số: 0\n",
      "Số ký tự đặc biệt: 0\n",
      "Số khoảng trắng: 0\n"
     ]
    }
   ],
   "source": [
    "s = input(\"Nhập chuỗi: \")\n",
    "\n",
    "in_hoa = in_thuong = so = dac_biet = khoang_trang = 0\n",
    "\n",
    "for c in s:\n",
    "    if c.isupper():\n",
    "        in_hoa += 1\n",
    "    elif c.islower():\n",
    "        in_thuong += 1\n",
    "    elif c.isdigit():\n",
    "        so += 1\n",
    "    elif c.isspace():\n",
    "        khoang_trang += 1\n",
    "    else:\n",
    "        dac_biet += 1\n",
    "\n",
    "print(\"Số chữ IN HOA:\", in_hoa)\n",
    "print(\"Số chữ in thường:\", in_thuong)\n",
    "print(\"Số chữ số:\", so)\n",
    "print(\"Số ký tự đặc biệt:\", dac_biet)\n",
    "print(\"Số khoảng trắng:\", khoang_trang)\n"
   ]
  },
  {
   "cell_type": "code",
   "execution_count": 2,
   "id": "8280bc76",
   "metadata": {},
   "outputs": [
    {
     "name": "stdout",
     "output_type": "stream",
     "text": [
      "------------------------------\n",
      "Chữ IN HOA: 3\n",
      "Chữ in thường: 6\n",
      "Chữ số: 0\n",
      "Ký tự đặc biệt: 0\n",
      "Khoảng trắng: 2\n",
      "------------------------------\n"
     ]
    }
   ],
   "source": [
    "def dem_ky_tu(s):\n",
    "    in_hoa = in_thuong = so = dac_biet = khoang_trang = 0\n",
    "    for c in s:\n",
    "        if c.isupper():\n",
    "            in_hoa += 1\n",
    "        elif c.islower():\n",
    "            in_thuong += 1\n",
    "        elif c.isdigit():\n",
    "            so += 1\n",
    "        elif c.isspace():\n",
    "            khoang_trang += 1\n",
    "        else:\n",
    "            dac_biet += 1\n",
    "    return in_hoa, in_thuong, so, dac_biet, khoang_trang\n",
    "\n",
    "chuoi = input(\"Nhập chuỗi: \")\n",
    "in_hoa, in_thuong, so, dac_biet, khoang_trang = dem_ky_tu(chuoi)\n",
    "\n",
    "print(\"-\"*30)\n",
    "print(f\"Chữ IN HOA: {in_hoa}\")\n",
    "print(f\"Chữ in thường: {in_thuong}\")\n",
    "print(f\"Chữ số: {so}\")\n",
    "print(f\"Ký tự đặc biệt: {dac_biet}\")\n",
    "print(f\"Khoảng trắng: {khoang_trang}\")\n",
    "print(\"-\"*30)\n"
   ]
  },
  {
   "cell_type": "code",
   "execution_count": 3,
   "id": "aba98a35",
   "metadata": {},
   "outputs": [
    {
     "name": "stdout",
     "output_type": "stream",
     "text": [
      "------------------------------\n",
      "Chữ IN HOA: 4\n",
      "Chữ in thường: 5\n",
      "Chữ số: 0\n",
      "Ký tự đặc biệt: 0\n",
      "Khoảng trắng: 2\n",
      "------------------------------\n"
     ]
    }
   ],
   "source": [
    "s = input(\"Nhập chuỗi: \")\n",
    "\n",
    "in_hoa = sum(1 for c in s if c.isupper())\n",
    "in_thuong = sum(1 for c in s if c.islower())\n",
    "so = sum(1 for c in s if c.isdigit())\n",
    "khoang_trang = sum(1 for c in s if c.isspace())\n",
    "dac_biet = len(s) - (in_hoa + in_thuong + so + khoang_trang)\n",
    "\n",
    "print(\"-\"*30)\n",
    "print(f\"Chữ IN HOA: {in_hoa}\")\n",
    "print(f\"Chữ in thường: {in_thuong}\")\n",
    "print(f\"Chữ số: {so}\")\n",
    "print(f\"Ký tự đặc biệt: {dac_biet}\")\n",
    "print(f\"Khoảng trắng: {khoang_trang}\")\n",
    "print(\"-\"*30)\n"
   ]
  }
 ],
 "metadata": {
  "kernelspec": {
   "display_name": "Python 3",
   "language": "python",
   "name": "python3"
  },
  "language_info": {
   "codemirror_mode": {
    "name": "ipython",
    "version": 3
   },
   "file_extension": ".py",
   "mimetype": "text/x-python",
   "name": "python",
   "nbconvert_exporter": "python",
   "pygments_lexer": "ipython3",
   "version": "3.13.7"
  }
 },
 "nbformat": 4,
 "nbformat_minor": 5
}
