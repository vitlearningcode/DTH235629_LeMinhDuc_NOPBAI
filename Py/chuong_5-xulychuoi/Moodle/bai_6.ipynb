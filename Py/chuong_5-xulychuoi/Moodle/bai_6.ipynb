{
 "cells": [
  {
   "cell_type": "markdown",
   "id": "9b883857",
   "metadata": {},
   "source": [
    "Viết một hàm đặt tên là NegativeNumberInStrings(str). Hàm này có đối số truyền vào \n",
    "là một chuỗi bất kỳ, Hãy viết lệnh để xuất ra các số nguyên âm trong chuỗi. \n",
    "Ví dụ: Nếu nhập vào chuỗi “abc-5xyz-12k9l--p” thì hàm phải xuất ra được 2 số nguyên \n",
    "âm đó là -5 và -12"
   ]
  },
  {
   "cell_type": "code",
   "execution_count": 1,
   "id": "9983a1f8",
   "metadata": {},
   "outputs": [
    {
     "name": "stdout",
     "output_type": "stream",
     "text": [
      "[-5, -12]\n"
     ]
    }
   ],
   "source": [
    "def NegativeNumberInStrings(s):\n",
    "    negatives = []\n",
    "    i = 0\n",
    "    while i < len(s):\n",
    "        if s[i] == '-' and i+1 < len(s) and s[i+1].isdigit():\n",
    "            j = i + 1\n",
    "            while j < len(s) and s[j].isdigit():\n",
    "                j += 1\n",
    "            negatives.append(int(s[i:j]))\n",
    "            i = j\n",
    "        else:\n",
    "            i += 1\n",
    "    return negatives\n",
    "\n",
    "# Ví dụ\n",
    "s = \"abc-5xyz-12k9l--p\"\n",
    "print(NegativeNumberInStrings(s))  # Output: [-5, -12]\n"
   ]
  },
  {
   "cell_type": "code",
   "execution_count": 2,
   "id": "115dafdd",
   "metadata": {},
   "outputs": [
    {
     "name": "stdout",
     "output_type": "stream",
     "text": [
      "[-5, -12]\n"
     ]
    }
   ],
   "source": [
    "import re\n",
    "\n",
    "def NegativeNumberInStrings(s):\n",
    "    # Tìm tất cả mẫu số âm: dấu - theo sau ít nhất 1 chữ số\n",
    "    return list(map(int, re.findall(r'-\\d+', s)))\n",
    "\n",
    "# Ví dụ\n",
    "s = \"abc-5xyz-12k9l--p\"\n",
    "print(NegativeNumberInStrings(s))  # Output: [-5, -12]\n"
   ]
  },
  {
   "cell_type": "code",
   "execution_count": 4,
   "id": "0201d6cc",
   "metadata": {},
   "outputs": [
    {
     "name": "stdout",
     "output_type": "stream",
     "text": [
      "Các số nguyên âm: [-2, -342, -3]\n"
     ]
    }
   ],
   "source": [
    "import re\n",
    "\n",
    "NegativeNumberInStrings = lambda s: list(map(int, re.findall(r'-\\d+', s)))\n",
    "\n",
    "s = input(\"Nhập chuỗi: \")\n",
    "print(\"Các số nguyên âm:\", NegativeNumberInStrings(s))\n"
   ]
  }
 ],
 "metadata": {
  "kernelspec": {
   "display_name": "Python 3",
   "language": "python",
   "name": "python3"
  },
  "language_info": {
   "codemirror_mode": {
    "name": "ipython",
    "version": 3
   },
   "file_extension": ".py",
   "mimetype": "text/x-python",
   "name": "python",
   "nbconvert_exporter": "python",
   "pygments_lexer": "ipython3",
   "version": "3.13.7"
  }
 },
 "nbformat": 4,
 "nbformat_minor": 5
}
