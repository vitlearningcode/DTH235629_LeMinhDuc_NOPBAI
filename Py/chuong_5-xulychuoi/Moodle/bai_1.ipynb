{
 "cells": [
  {
   "cell_type": "markdown",
   "id": "fa9ad4d3",
   "metadata": {},
   "source": [
    "Dùng vòng lặp while vĩnh cửu, cho phép Nhập vào một Chuỗi➔Xuất Chuỗi này có phải \n",
    "đối xứng hay không? Hỏi người sử dụng có tiếp tục phần mềm. Nếu tiếp tục thì nhập \n",
    "Chuỗi mới, còn không thì thoát và thông báo cảm ơn"
   ]
  },
  {
   "cell_type": "code",
   "execution_count": 3,
   "id": "c385d57e",
   "metadata": {},
   "outputs": [
    {
     "name": "stdout",
     "output_type": "stream",
     "text": [
      "Nhập 1 chuỗi:\n",
      "Chuỗi bạn nhập không đối xứng\n",
      "Tiếp không Thím?(c/k):\n",
      "Nhập 1 chuỗi:\n",
      "Chuỗi bạn nhập đối xứng\n",
      "Tiếp không Thím?(c/k):\n",
      "CÁM ƠN THÍM\n"
     ]
    }
   ],
   "source": [
    "def CheckDoiXung(s): \n",
    "    flag=True \n",
    "    for i in range(len(s)): \n",
    "        if s[i]!=s[len(s)-i-1]: \n",
    "            flag=False \n",
    "            break \n",
    "    return flag \n",
    "def main(): \n",
    "    print(\"Nhập 1 chuỗi:\") \n",
    "    s=input() \n",
    "    if(CheckDoiXung(s)): \n",
    "        print(\"Chuỗi bạn nhập đối xứng\") \n",
    "    else: \n",
    "        print(\"Chuỗi bạn nhập không đối xứng\") \n",
    "while True: \n",
    "        main() \n",
    "        print(\"Tiếp không Thím?(c/k):\") \n",
    "        s=input() \n",
    "        if s==\"k\": \n",
    "            break \n",
    "print(\"CÁM ƠN THÍM\") "
   ]
  },
  {
   "cell_type": "code",
   "execution_count": 4,
   "id": "c2046f4a",
   "metadata": {},
   "outputs": [
    {
     "name": "stdout",
     "output_type": "stream",
     "text": [
      "Chuỗi bạn nhập đối xứng\n",
      "CÁM ƠN THÍM\n"
     ]
    }
   ],
   "source": [
    "def CheckDoiXung(s):\n",
    "    \"\"\"\n",
    "    Trả về True nếu s là chuỗi đối xứng, False nếu không\n",
    "    \"\"\"\n",
    "    for i in range(len(s)):\n",
    "        if s[i] != s[-i-1]:\n",
    "            return False\n",
    "    return True\n",
    "\n",
    "def main():\n",
    "    while True:\n",
    "        s = input(\"Nhập 1 chuỗi: \")\n",
    "        if CheckDoiXung(s):\n",
    "            print(\"Chuỗi bạn nhập đối xứng\")\n",
    "        else:\n",
    "            print(\"Chuỗi bạn nhập không đối xứng\")\n",
    "        \n",
    "        hoi = input(\"Tiếp không Thím? (c/k): \").lower()\n",
    "        if hoi == \"k\":\n",
    "            print(\"CÁM ƠN THÍM\")\n",
    "            break\n",
    "\n",
    "# Chạy chương trình\n",
    "main()\n"
   ]
  }
 ],
 "metadata": {
  "kernelspec": {
   "display_name": "Python 3",
   "language": "python",
   "name": "python3"
  },
  "language_info": {
   "codemirror_mode": {
    "name": "ipython",
    "version": 3
   },
   "file_extension": ".py",
   "mimetype": "text/x-python",
   "name": "python",
   "nbconvert_exporter": "python",
   "pygments_lexer": "ipython3",
   "version": "3.13.7"
  }
 },
 "nbformat": 4,
 "nbformat_minor": 5
}
