{
 "cells": [
  {
   "cell_type": "markdown",
   "id": "8be400fb",
   "metadata": {},
   "source": [
    "Viết chương trình tính loga x với a, x là các số thực nhập vào từ bàn phím, và x>0, a>0, a \n",
    "!= 1.( dùng logax=lnx/lna) "
   ]
  },
  {
   "cell_type": "code",
   "execution_count": 4,
   "id": "0e1d089d",
   "metadata": {},
   "outputs": [
    {
     "name": "stdout",
     "output_type": "stream",
     "text": [
      "log_2.0(8.0) = 3.0\n"
     ]
    }
   ],
   "source": [
    "from math import log\n",
    "\n",
    "x = float(input(\"Nhập x (>0): \"))\n",
    "a = float(input(\"Nhập cơ số a (>0, !=1): \"))\n",
    "\n",
    "if x <= 0 or a <= 0 or a == 1:\n",
    "    print(\"Giá trị không hợp lệ!\")\n",
    "else:\n",
    "    loga_x = log(x) / log(a)\n",
    "    print(f\"log_{a}({x}) = {loga_x}\")\n"
   ]
  },
  {
   "cell_type": "code",
   "execution_count": 6,
   "id": "161d98d4",
   "metadata": {},
   "outputs": [
    {
     "name": "stdout",
     "output_type": "stream",
     "text": [
      "log_2.0(8.0) = 3.0000\n"
     ]
    }
   ],
   "source": [
    "from math import log\n",
    "\n",
    "def nhap_so(prompt, dieukien):\n",
    "    while True:\n",
    "        try:\n",
    "            x = float(input(prompt))\n",
    "            if dieukien(x):\n",
    "                return x\n",
    "            else:\n",
    "                print(\"Giá trị không hợp lệ, thử lại!\")\n",
    "        except ValueError:\n",
    "            print(\"Vui lòng nhập số hợp lệ!\")\n",
    "\n",
    "x = nhap_so(\"Nhập x (>0): \", lambda x: x > 0)\n",
    "a = nhap_so(\"Nhập a (>0, !=1): \", lambda a: a > 0 and a != 1)\n",
    "\n",
    "loga_x = log(x) / log(a)\n",
    "print(f\"log_{a}({x}) = {loga_x:.4f}\")\n"
   ]
  },
  {
   "cell_type": "code",
   "execution_count": 7,
   "id": "5996f82c",
   "metadata": {},
   "outputs": [
    {
     "name": "stdout",
     "output_type": "stream",
     "text": [
      "log_2.0(8.0) = 3.0000\n"
     ]
    }
   ],
   "source": [
    "from math import log\n",
    "\n",
    "valid = lambda v, t: v>0 and (t != 'a' or v != 1)\n",
    "\n",
    "x = float(input(\"Nhập x (>0): \"))\n",
    "while x <= 0:\n",
    "    x = float(input(\"Nhập x (>0): \"))\n",
    "\n",
    "a = float(input(\"Nhập a (>0, !=1): \"))\n",
    "while not valid(a, 'a'):\n",
    "    a = float(input(\"Nhập a (>0, !=1): \"))\n",
    "\n",
    "print(f\"log_{a}({x}) = {log(x)/log(a):.4f}\")\n"
   ]
  }
 ],
 "metadata": {
  "kernelspec": {
   "display_name": "Python 3",
   "language": "python",
   "name": "python3"
  },
  "language_info": {
   "codemirror_mode": {
    "name": "ipython",
    "version": 3
   },
   "file_extension": ".py",
   "mimetype": "text/x-python",
   "name": "python",
   "nbconvert_exporter": "python",
   "pygments_lexer": "ipython3",
   "version": "3.13.7"
  }
 },
 "nbformat": 4,
 "nbformat_minor": 5
}
