{
 "cells": [
  {
   "cell_type": "markdown",
   "id": "41672745",
   "metadata": {},
   "source": [
    "Hãy viết hàm oscillate để khi chạy phần mềm, nó ra kết quả: -3   3   -2   \n",
    "2   -1   1   0   0   1   -1   2   -2   3   -3   4   -4"
   ]
  },
  {
   "cell_type": "code",
   "execution_count": 1,
   "id": "2f251592",
   "metadata": {},
   "outputs": [
    {
     "name": "stdout",
     "output_type": "stream",
     "text": [
      "-3 3 -2 2 -1 1 -1 1 0 0 1 -1 2 -2 3 -3 4 -4\n"
     ]
    }
   ],
   "source": [
    "def oscillate():\n",
    "    nums = []\n",
    "    \n",
    "    # Sinh n từ 3 trở về 1\n",
    "    for i in range(3, 0, -1):\n",
    "        nums.append(-i)\n",
    "        nums.append(i)\n",
    "    \n",
    "    # Thêm số -1, 1, 0, 0\n",
    "    nums.extend([-1, 1, 0, 0])\n",
    "    \n",
    "    # Sinh lại đối xứng\n",
    "    for i in range(1, 5):\n",
    "        nums.append(i)\n",
    "        nums.append(-i)\n",
    "    \n",
    "    print(*nums)\n",
    "\n",
    "oscillate()\n"
   ]
  },
  {
   "cell_type": "code",
   "execution_count": 2,
   "id": "354ffb5f",
   "metadata": {},
   "outputs": [
    {
     "name": "stdout",
     "output_type": "stream",
     "text": [
      "-3 -2 -1 3 2 1 -1 1 0 0 1 2 3 4 -1 -2 -3 -4\n"
     ]
    }
   ],
   "source": [
    "def oscillate():\n",
    "    nums = [-i for i in range(3, 0, -1)]  # [-3, -2, -1]\n",
    "    nums += [i for i in range(3, 0, -1)]  # [3, 2, 1]\n",
    "    nums += [-1, 1, 0, 0]                 # [-1, 1, 0, 0]\n",
    "    nums += [i for i in range(1, 5)]      # [1, 2, 3, 4]\n",
    "    nums += [-i for i in range(1, 5)]     # [-1, -2, -3, -4]\n",
    "    print(*nums)\n",
    "\n",
    "oscillate()\n"
   ]
  }
 ],
 "metadata": {
  "kernelspec": {
   "display_name": "Python 3",
   "language": "python",
   "name": "python3"
  },
  "language_info": {
   "codemirror_mode": {
    "name": "ipython",
    "version": 3
   },
   "file_extension": ".py",
   "mimetype": "text/x-python",
   "name": "python",
   "nbconvert_exporter": "python",
   "pygments_lexer": "ipython3",
   "version": "3.13.7"
  }
 },
 "nbformat": 4,
 "nbformat_minor": 5
}
