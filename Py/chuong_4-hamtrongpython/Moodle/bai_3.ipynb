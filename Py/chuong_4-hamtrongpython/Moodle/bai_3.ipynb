{
 "cells": [
  {
   "cell_type": "markdown",
   "id": "10b1e5a6",
   "metadata": {},
   "source": [
    "Viết Hàm tính BMI "
   ]
  },
  {
   "cell_type": "code",
   "execution_count": 1,
   "id": "31016513",
   "metadata": {},
   "outputs": [
    {
     "name": "stdout",
     "output_type": "stream",
     "text": [
      "Nhập vào chiều cao:\n",
      "Nhập vào cân nặng:\n",
      "BMI của bạn= 0.002768166089965398\n",
      "Phân loại bạn= Gầy\n",
      "Nguy cơ bệnh của Thím= Thấp\n"
     ]
    }
   ],
   "source": [
    "def BMI(height,weight): \n",
    "    return weight/(height**2) \n",
    "def PhanLoai(bmi): \n",
    "    if bmi<18.5: \n",
    "        return \"Gầy\" \n",
    "    elif bmi<=24.9: \n",
    "        return \"Bình thường\" \n",
    "    elif bmi<=29.9: \n",
    "        return \"Hơi Béo\" \n",
    "    elif bmi<=34.9: \n",
    "        return \"Béo Phì Cấp Độ 1\" \n",
    "    elif bmi<=39.9: \n",
    "        return \"Béo Phì Cấp Độ 2\" \n",
    "    else: \n",
    "        return \"Béo Phì Cấp độ 3\" \n",
    "def NguyCoBenh(bmi): \n",
    "    if bmi<18.5: \n",
    "        return \"Thấp\" \n",
    "    elif bmi<=24.9: \n",
    " \n",
    "        return \"Trung Bình\" \n",
    "    elif bmi<=29.9: \n",
    "        return \"Cao\" \n",
    "    elif bmi<=34.9: \n",
    "        return \"Cao\" \n",
    "    elif bmi<=39.9: \n",
    "        return \"Rất cao\" \n",
    "    else: \n",
    "        return \"Nguy Hiểm\" \n",
    "print(\"Nhập vào chiều cao:\") \n",
    "height=float(input()) \n",
    "print(\"Nhập vào cân nặng:\") \n",
    "weight=float(input()) \n",
    "bmi=BMI(height,weight) \n",
    "print(\"BMI của bạn=\",bmi) \n",
    "print(\"Phân loại bạn=\",PhanLoai(bmi)) \n",
    "print(\"Nguy cơ bệnh của Thím=\",NguyCoBenh(bmi)) "
   ]
  },
  {
   "cell_type": "code",
   "execution_count": 2,
   "id": "801e5c76",
   "metadata": {},
   "outputs": [
    {
     "name": "stdout",
     "output_type": "stream",
     "text": [
      "Vui lòng nhập số hợp lệ!\n",
      "Vui lòng nhập số hợp lệ!\n",
      "Vui lòng nhập số hợp lệ!\n",
      "Vui lòng nhập số hợp lệ!\n",
      "BMI của bạn = 0.01\n",
      "Phân loại: Gầy\n",
      "Nguy cơ bệnh: Thấp\n",
      "Bạn nên tăng cân và bổ sung dinh dưỡng.\n"
     ]
    }
   ],
   "source": [
    "def nhap_so(prompt):\n",
    "    while True:\n",
    "        try:\n",
    "            x = float(input(prompt))\n",
    "            if x <= 0:\n",
    "                print(\"Phải lớn hơn 0, thử lại!\")\n",
    "            else:\n",
    "                return x\n",
    "        except ValueError:\n",
    "            print(\"Vui lòng nhập số hợp lệ!\")\n",
    "\n",
    "height = nhap_so(\"Nhập chiều cao (m): \")\n",
    "weight = nhap_so(\"Nhập cân nặng (kg): \")\n",
    "\n",
    "bmi = BMI(height, weight)\n",
    "phan_loai = PhanLoai(bmi)\n",
    "nguy_co = NguyCoBenh(bmi)\n",
    "\n",
    "print(f\"BMI của bạn = {bmi:.2f}\")\n",
    "print(f\"Phân loại: {phan_loai}\")\n",
    "print(f\"Nguy cơ bệnh: {nguy_co}\")\n",
    "\n",
    "# Lời khuyên\n",
    "if bmi < 18.5:\n",
    "    print(\"Bạn nên tăng cân và bổ sung dinh dưỡng.\")\n",
    "elif bmi <= 24.9:\n",
    "    print(\"Cân nặng bình thường, duy trì lối sống lành mạnh.\")\n",
    "elif bmi <= 29.9:\n",
    "    print(\"Cần kiểm soát chế độ ăn và tăng cường vận động.\")\n",
    "else:\n",
    "    print(\"Nên tham khảo bác sĩ hoặc chuyên gia dinh dưỡng.\")\n"
   ]
  },
  {
   "cell_type": "code",
   "execution_count": 3,
   "id": "510604f0",
   "metadata": {},
   "outputs": [
    {
     "name": "stdout",
     "output_type": "stream",
     "text": [
      "BMI = 27.68\n",
      "Phân loại: Hơi Béo\n",
      "Nguy cơ bệnh: Cao\n"
     ]
    }
   ],
   "source": [
    "def BMI(h, w): return w / (h ** 2)\n",
    "\n",
    "phan_loai = [(18.5, \"Gầy\"), (24.9, \"Bình thường\"), (29.9, \"Hơi Béo\"),\n",
    "             (34.9, \"Béo Phì Cấp Độ 1\"), (39.9, \"Béo Phì Cấp Độ 2\"), (float('inf'), \"Béo Phì Cấp Độ 3\")]\n",
    "\n",
    "nguy_co = [(18.5, \"Thấp\"), (24.9, \"Trung Bình\"), (34.9, \"Cao\"), (39.9, \"Rất cao\"), (float('inf'), \"Nguy Hiểm\")]\n",
    "\n",
    "def xep_loai(bmi, bang_phan_loai):\n",
    "    for m, loai in bang_phan_loai:\n",
    "        if bmi <= m:\n",
    "            return loai\n",
    "\n",
    "h = float(input(\"Chiều cao (m): \"))\n",
    "w = float(input(\"Cân nặng (kg): \"))\n",
    "bmi = BMI(h, w)\n",
    "print(f\"BMI = {bmi:.2f}\")\n",
    "print(\"Phân loại:\", xep_loai(bmi, phan_loai))\n",
    "print(\"Nguy cơ bệnh:\", xep_loai(bmi, nguy_co))\n"
   ]
  }
 ],
 "metadata": {
  "kernelspec": {
   "display_name": "Python 3",
   "language": "python",
   "name": "python3"
  },
  "language_info": {
   "codemirror_mode": {
    "name": "ipython",
    "version": 3
   },
   "file_extension": ".py",
   "mimetype": "text/x-python",
   "name": "python",
   "nbconvert_exporter": "python",
   "pygments_lexer": "ipython3",
   "version": "3.13.7"
  }
 },
 "nbformat": 4,
 "nbformat_minor": 5
}
