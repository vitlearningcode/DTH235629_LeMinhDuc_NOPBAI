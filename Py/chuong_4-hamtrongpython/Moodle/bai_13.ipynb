{
 "cells": [
  {
   "cell_type": "markdown",
   "id": "d8fbf452",
   "metadata": {},
   "source": [
    "Viết hàm tính tổng ước số để áp dụng chung cho 2 bài dưới đây:  \n",
    "a) Kiểm tra số nguyên dương n có phải là  số hoàn thiện (Pefect number) hay không? \n",
    "(Số hoàn thiện là số có tổng các ước số của nó (không kể nó) thì bằng chính nó. \n",
    "Vd: 6 có các ước số là 1,2,3 và 6=1+2+3 ➔6 là số hoàn thiện)   \n",
    "b) Kiểm tra số nguyên dương n có phải là  số thịnh vượng (Abundant number)hay \n",
    "không? (Số thịnh vượng là số có tổng các ước số của nó (không kể nó) thì lớn hơn \n",
    "nó. Vd:12 có các ước số là 1,2,3,4,6 và 12<1+2+3+4+6 ➔12 là số thịnh vượng)"
   ]
  },
  {
   "cell_type": "code",
   "execution_count": 1,
   "id": "958c465f",
   "metadata": {},
   "outputs": [
    {
     "name": "stdout",
     "output_type": "stream",
     "text": [
      "Tổng các ước số của 10 (không kể chính nó) = 8\n",
      "10 không phải là số hoàn thiện hay thịnh vượng\n"
     ]
    }
   ],
   "source": [
    "from math import isqrt\n",
    "\n",
    "def tong_uoc(n):\n",
    "    \"\"\"\n",
    "    Trả về tổng các ước số dương của n (không kể chính nó)\n",
    "    Tối ưu: chỉ lặp tới sqrt(n)\n",
    "    \"\"\"\n",
    "    s = 1  # 1 luôn là ước số\n",
    "    for i in range(2, isqrt(n)+1):\n",
    "        if n % i == 0:\n",
    "            s += i\n",
    "            if i != n // i:\n",
    "                s += n // i\n",
    "    return s if n > 1 else 0  # n=1 thì không có ước khác\n",
    "\n",
    "def la_hoan_thien(n):\n",
    "    return tong_uoc(n) == n\n",
    "\n",
    "def la_thinh_vuong(n):\n",
    "    return tong_uoc(n) > n\n",
    "\n",
    "# ====== Chương trình chính ======\n",
    "n = int(input(\"Nhập số nguyên dương n: \"))\n",
    "\n",
    "print(f\"Tổng các ước số của {n} (không kể chính nó) =\", tong_uoc(n))\n",
    "\n",
    "if la_hoan_thien(n):\n",
    "    print(n, \"là số hoàn thiện (Perfect number)\")\n",
    "elif la_thinh_vuong(n):\n",
    "    print(n, \"là số thịnh vượng (Abundant number)\")\n",
    "else:\n",
    "    print(n, \"không phải là số hoàn thiện hay thịnh vượng\")\n"
   ]
  },
  {
   "cell_type": "code",
   "execution_count": null,
   "id": "443f9dc7",
   "metadata": {},
   "outputs": [],
   "source": []
  }
 ],
 "metadata": {
  "kernelspec": {
   "display_name": "Python 3",
   "language": "python",
   "name": "python3"
  },
  "language_info": {
   "codemirror_mode": {
    "name": "ipython",
    "version": 3
   },
   "file_extension": ".py",
   "mimetype": "text/x-python",
   "name": "python",
   "nbconvert_exporter": "python",
   "pygments_lexer": "ipython3",
   "version": "3.13.7"
  }
 },
 "nbformat": 4,
 "nbformat_minor": 5
}
