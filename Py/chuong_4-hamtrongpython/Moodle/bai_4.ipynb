{
 "cells": [
  {
   "cell_type": "markdown",
   "id": "45d22545",
   "metadata": {},
   "source": [
    "Viết Hàm tính ROI "
   ]
  },
  {
   "cell_type": "code",
   "execution_count": 1,
   "id": "9b2ca2d7",
   "metadata": {},
   "outputs": [
    {
     "name": "stdout",
     "output_type": "stream",
     "text": [
      "Chương trình tính ROI\n",
      "Tỉ Lệ ROI= 1.0\n",
      "==> Nên đầu tư\n"
     ]
    }
   ],
   "source": [
    "def ROI(dt,cp): \n",
    "    return (dt-cp)/cp \n",
    "def GoiYDauTu(roi): \n",
    "    if roi>=0.75: \n",
    "        return \"Nên đầu tư\" \n",
    "    else: \n",
    "        return \"Không nên đầu tư\" \n",
    "print(\"Chương trình tính ROI\") \n",
    "dt=int(input(\"Nhập Doanh Thu:\")) \n",
    "cp=int(input(\"Nhập chi phí:\")) \n",
    "roi=ROI(dt,cp) \n",
    "print(\"Tỉ Lệ ROI=\",roi) \n",
    "print(\"==>\",GoiYDauTu(roi))"
   ]
  },
  {
   "cell_type": "code",
   "execution_count": 2,
   "id": "922c8b8c",
   "metadata": {},
   "outputs": [
    {
     "name": "stdout",
     "output_type": "stream",
     "text": [
      "ROI = 100.00%\n",
      "=> Nên đầu tư\n"
     ]
    }
   ],
   "source": [
    "ROI = lambda dt, cp: (dt - cp) / cp if cp != 0 else float('inf')\n",
    "GoiYDauTu = lambda roi: \"Nên đầu tư\" if roi >= 0.75 else \"Không nên đầu tư\"\n",
    "\n",
    "dt = float(input(\"Doanh thu: \"))\n",
    "cp = float(input(\"Chi phí: \"))\n",
    "roi = ROI(dt, cp)\n",
    "print(f\"ROI = {roi*100:.2f}%\")\n",
    "print(\"=>\", GoiYDauTu(roi))\n"
   ]
  }
 ],
 "metadata": {
  "kernelspec": {
   "display_name": "Python 3",
   "language": "python",
   "name": "python3"
  },
  "language_info": {
   "codemirror_mode": {
    "name": "ipython",
    "version": 3
   },
   "file_extension": ".py",
   "mimetype": "text/x-python",
   "name": "python",
   "nbconvert_exporter": "python",
   "pygments_lexer": "ipython3",
   "version": "3.13.7"
  }
 },
 "nbformat": 4,
 "nbformat_minor": 5
}
