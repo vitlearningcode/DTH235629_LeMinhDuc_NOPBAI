{
 "cells": [
  {
   "cell_type": "markdown",
   "id": "254336d2",
   "metadata": {},
   "source": [
    "Fibonacci "
   ]
  },
  {
   "cell_type": "code",
   "execution_count": 1,
   "id": "e80e3b22",
   "metadata": {},
   "outputs": [
    {
     "name": "stdout",
     "output_type": "stream",
     "text": [
      "34\n",
      "1\t1\t2\t3\t5\t8\t13\t21\t34\t"
     ]
    }
   ],
   "source": [
    "def fibonacci(n): \n",
    "    if n<=2 : \n",
    "        return 1 \n",
    "    return fibonacci(n-1)+fibonacci(n-2) \n",
    " \n",
    "def listfibo(n): \n",
    "    for i in range(1,n+1): \n",
    "        print(fibonacci(i),end='\\t') \n",
    " \n",
    "print(fibonacci(9)) \n",
    " \n",
    "listfibo(9)"
   ]
  }
 ],
 "metadata": {
  "kernelspec": {
   "display_name": "Python 3",
   "language": "python",
   "name": "python3"
  },
  "language_info": {
   "codemirror_mode": {
    "name": "ipython",
    "version": 3
   },
   "file_extension": ".py",
   "mimetype": "text/x-python",
   "name": "python",
   "nbconvert_exporter": "python",
   "pygments_lexer": "ipython3",
   "version": "3.13.7"
  }
 },
 "nbformat": 4,
 "nbformat_minor": 5
}
