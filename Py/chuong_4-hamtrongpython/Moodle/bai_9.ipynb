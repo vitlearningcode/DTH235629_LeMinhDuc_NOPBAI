{
 "cells": [
  {
   "cell_type": "markdown",
   "id": "f998cbbd",
   "metadata": {},
   "source": [
    " Viết chương trình tính căn bậc 2 lồng nhau "
   ]
  },
  {
   "cell_type": "code",
   "execution_count": 1,
   "id": "656855dc",
   "metadata": {},
   "outputs": [
    {
     "name": "stdout",
     "output_type": "stream",
     "text": [
      "Kết quả = 1.9615705608064609\n"
     ]
    }
   ],
   "source": [
    "from math import sqrt\n",
    "\n",
    "a = float(input(\"Nhập a: \"))\n",
    "b = float(input(\"Nhập b: \"))\n",
    "c = float(input(\"Nhập c: \"))\n",
    "\n",
    "result = sqrt(a + sqrt(b + sqrt(c)))\n",
    "print(\"Kết quả =\", result)\n"
   ]
  },
  {
   "cell_type": "code",
   "execution_count": 2,
   "id": "0e69ae6c",
   "metadata": {},
   "outputs": [
    {
     "name": "stdout",
     "output_type": "stream",
     "text": [
      "Kết quả căn bậc 2 lồng nhau = 1.4142135623730951\n"
     ]
    }
   ],
   "source": [
    "from math import sqrt\n",
    "from functools import reduce\n",
    "\n",
    "nums = list(map(float, input(\"Nhập các số (từ ngoài vào trong) cách nhau bằng khoảng trắng: \").split()))\n",
    "result = reduce(lambda acc, x: sqrt(x + acc), reversed(nums), 0)\n",
    "\n",
    "print(\"Kết quả căn bậc 2 lồng nhau =\", result)\n"
   ]
  }
 ],
 "metadata": {
  "kernelspec": {
   "display_name": "Python 3",
   "language": "python",
   "name": "python3"
  },
  "language_info": {
   "codemirror_mode": {
    "name": "ipython",
    "version": 3
   },
   "file_extension": ".py",
   "mimetype": "text/x-python",
   "name": "python",
   "nbconvert_exporter": "python",
   "pygments_lexer": "ipython3",
   "version": "3.13.7"
  }
 },
 "nbformat": 4,
 "nbformat_minor": 5
}
