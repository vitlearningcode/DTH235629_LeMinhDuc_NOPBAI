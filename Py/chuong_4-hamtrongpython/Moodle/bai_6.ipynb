{
 "cells": [
  {
   "cell_type": "markdown",
   "id": "bc5bc189",
   "metadata": {},
   "source": [
    "Những giá trị nào có thể xuất hiện trong  randrange(0, 100) "
   ]
  },
  {
   "cell_type": "markdown",
   "id": "54edeb93",
   "metadata": {},
   "source": [
    "Hãy phân tích **cẩn thận** theo cách Python hoạt động:\n",
    "\n",
    "Hàm `randrange(start, stop)` trả về một số nguyên **từ start đến stop-1**.\n",
    "\n",
    "Trong trường hợp bạn viết:\n",
    "\n",
    "```python\n",
    "randrange(0, 100)\n",
    "```\n",
    "\n",
    "* `start = 0`\n",
    "* `stop = 100`\n",
    "* Giá trị có thể xuất hiện là **0, 1, 2, ..., 99**\n",
    "\n",
    "Bây giờ kiểm tra từng giá trị bạn liệt kê:\n",
    "\n",
    "| Giá trị | Có xuất hiện không?                          |\n",
    "| ------- | -------------------------------------------- |\n",
    "| 4.5     | ❌ Không, vì `randrange` chỉ trả về số nguyên |\n",
    "| 34      | ✅ Có, nằm trong 0–99                         |\n",
    "| -1      | ❌ Không, nhỏ hơn 0                           |\n",
    "| 100     | ❌ Không, `stop` không bao gồm                |\n",
    "| 0       | ✅ Có, là giá trị bắt đầu                     |\n",
    "| 99      | ✅ Có, là giá trị lớn nhất (stop-1)           |\n",
    "\n",
    "✅ **Kết luận:** các giá trị có thể xuất hiện là **0, 34, 99**.\n",
    "\n",
    "Nếu muốn, mình có thể giải thích thêm **sự khác nhau giữa randrange và randint** cho bạn để tránh nhầm lẫn. Bạn có muốn không?\n"
   ]
  }
 ],
 "metadata": {
  "language_info": {
   "name": "python"
  }
 },
 "nbformat": 4,
 "nbformat_minor": 5
}
