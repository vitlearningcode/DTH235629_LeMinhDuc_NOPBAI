{
 "cells": [
  {
   "cell_type": "markdown",
   "id": "ff75e2f5",
   "metadata": {},
   "source": [
    " Viết hàm để Tính diện tích tam giác "
   ]
  },
  {
   "cell_type": "code",
   "execution_count": 3,
   "id": "b2886d2d",
   "metadata": {},
   "outputs": [
    {
     "name": "stdout",
     "output_type": "stream",
     "text": [
      "Chương trình tính diện tích Tam Giác\n",
      "Diện tích = 6.0\n"
     ]
    }
   ],
   "source": [
    "from math import sqrt \n",
    " \n",
    "print(\"Chương trình tính diện tích Tam Giác\") \n",
    "a=float(input(\"Nhập cạnh a>0:\")) \n",
    "b=float(input(\"Nhập cạnh b>0:\")) \n",
    "c=float(input(\"Nhập cạnh c>0:\")) \n",
    "if (a<=0 or b <=0 or c <=0) or (a+b)<=c or (a+c)<=b or b+c<=a: \n",
    "    print(\"Tam giác không hợp lệ\") \n",
    "else: \n",
    "    cv=a+b+c \n",
    "    p=cv/2 \n",
    "    dt=sqrt(p*(p-a)*(p-b)*(p-c)) \n",
    "    print(\"Diện tích =\",dt)"
   ]
  },
  {
   "cell_type": "code",
   "execution_count": 4,
   "id": "252ce222",
   "metadata": {},
   "outputs": [
    {
     "name": "stdout",
     "output_type": "stream",
     "text": [
      "Diện tích tam giác = 6.00\n"
     ]
    }
   ],
   "source": [
    "#remake\n",
    "from math import sqrt\n",
    "\n",
    "def nhap_canh(ten):\n",
    "    while True:\n",
    "        try:\n",
    "            value = float(input(f\"Nhập cạnh {ten} > 0: \"))\n",
    "            if value <= 0:\n",
    "                print(\"Cạnh phải lớn hơn 0, thử lại!\")\n",
    "            else:\n",
    "                return value\n",
    "        except ValueError:\n",
    "            print(\"Vui lòng nhập số hợp lệ!\")\n",
    "\n",
    "def tinh_dien_tich(a, b, c):\n",
    "    if (a + b <= c) or (a + c <= b) or (b + c <= a):\n",
    "        return None\n",
    "    p = (a + b + c) / 2\n",
    "    return sqrt(p * (p - a) * (p - b) * (p - c))\n",
    "\n",
    "a = nhap_canh('a')\n",
    "b = nhap_canh('b')\n",
    "c = nhap_canh('c')\n",
    "\n",
    "dt = tinh_dien_tich(a, b, c)\n",
    "if dt is None:\n",
    "    print(\"Tam giác không hợp lệ\")\n",
    "else:\n",
    "    print(f\"Diện tích tam giác = {dt:.2f}\")\n"
   ]
  },
  {
   "cell_type": "code",
   "execution_count": 5,
   "id": "2fbc51fa",
   "metadata": {},
   "outputs": [
    {
     "name": "stdout",
     "output_type": "stream",
     "text": [
      "Diện tích tam giác = 6.00\n"
     ]
    }
   ],
   "source": [
    "#múaaaaaa\n",
    "from math import sqrt\n",
    "\n",
    "a, b, c = [float(input(f\"Nhập cạnh {x} > 0: \")) for x in 'abc']\n",
    "\n",
    "dien_tich = (\n",
    "    sqrt((a+b+c)/2 * ((a+b+c)/2 - a) * ((a+b+c)/2 - b) * ((a+b+c)/2 - c))\n",
    "    if a > 0 and b > 0 and c > 0 and a + b > c and a + c > b and b + c > a  \n",
    "    else None\n",
    ")\n",
    "\n",
    "print(f\"Diện tích tam giác = {dien_tich:.2f}\" if dien_tich else \"Tam giác không hợp lệ\")\n"
   ]
  },
  {
   "cell_type": "code",
   "execution_count": null,
   "id": "bfad951e",
   "metadata": {},
   "outputs": [],
   "source": []
  }
 ],
 "metadata": {
  "kernelspec": {
   "display_name": "Python 3",
   "language": "python",
   "name": "python3"
  },
  "language_info": {
   "codemirror_mode": {
    "name": "ipython",
    "version": 3
   },
   "file_extension": ".py",
   "mimetype": "text/x-python",
   "name": "python",
   "nbconvert_exporter": "python",
   "pygments_lexer": "ipython3",
   "version": "3.13.7"
  }
 },
 "nbformat": 4,
 "nbformat_minor": 5
}
