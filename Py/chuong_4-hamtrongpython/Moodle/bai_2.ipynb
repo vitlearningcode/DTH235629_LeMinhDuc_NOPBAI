{
 "cells": [
  {
   "cell_type": "markdown",
   "id": "759cfa70",
   "metadata": {},
   "source": [
    ": Viết Hàm để chơi Game Đoán Số "
   ]
  },
  {
   "cell_type": "code",
   "execution_count": 3,
   "id": "b2e5838c",
   "metadata": {},
   "outputs": [
    {
     "name": "stdout",
     "output_type": "stream",
     "text": [
      "Bạn đoán lần thứ  1\n",
      "Bạn đoán sai, số máy > số bạn\n",
      "Bạn đoán lần thứ  2\n",
      "Bạn đoán sai, số máy > số bạn\n",
      "Bạn đoán lần thứ  3\n",
      "Bạn đoán sai, số máy > số bạn\n",
      "Bạn đoán lần thứ  4\n",
      "Bạn đoán sai, số máy > số bạn\n",
      "Bạn đoán lần thứ  5\n",
      "Bạn đoán sai, số máy < số bạn\n",
      "Bạn đoán lần thứ  6\n",
      "Bạn đoán sai, số máy < số bạn\n",
      "Bạn đoán lần thứ  7\n",
      "Bạn đoán sai, số máy > số bạn\n",
      "GAME OVER!, số máy = 43\n",
      "Bạn đoán lần thứ  1\n",
      "Bạn đoán sai, số máy < số bạn\n",
      "Bạn đoán lần thứ  2\n",
      "Bạn đoán sai, số máy < số bạn\n",
      "Bạn đoán lần thứ  3\n",
      "Bạn đoán sai, số máy < số bạn\n",
      "Bạn đoán lần thứ  4\n",
      "Bạn đoán sai, số máy < số bạn\n",
      "Bạn đoán lần thứ  5\n",
      "Bạn đoán sai, số máy < số bạn\n",
      "Bạn đoán lần thứ  6\n",
      "Bạn đoán sai, số máy < số bạn\n",
      "Bạn đoán lần thứ  7\n",
      "Bạn đoán sai, số máy < số bạn\n",
      "GAME OVER!, số máy = 2\n",
      "Cám ơn bạn đã chơi Game!\n"
     ]
    }
   ],
   "source": [
    "from random import randrange \n",
    "while True: \n",
    "    somay=randrange(1,101) \n",
    "    solandoan=0 \n",
    "    win=False \n",
    "    while solandoan<7: \n",
    "        solandoan+=1 \n",
    "        songuoi=int(input(\"Máy đoán [1..100], mời bạn đoán:\")) \n",
    "        print(\"Bạn đoán lần thứ \",solandoan) \n",
    "        if somay==songuoi: \n",
    "            print(\"Chúc mừng bạn đoán đúng, số máy là=\",somay) \n",
    "            win=True \n",
    "            break \n",
    "        if somay>songuoi: \n",
    "            print(\"Bạn đoán sai, số máy > số bạn\") \n",
    "        elif somay<songuoi: \n",
    "            print(\"Bạn đoán sai, số máy < số bạn\") \n",
    "    if win==False: \n",
    "        print(\"GAME OVER!, số máy =\",somay) \n",
    "    hoi=input(\"Tiếp không?\") \n",
    "    if hoi==\"k\": \n",
    "        break \n",
    "print(\"Cám ơn bạn đã chơi Game!\") \n"
   ]
  },
  {
   "cell_type": "code",
   "execution_count": 4,
   "id": "10244477",
   "metadata": {},
   "outputs": [
    {
     "name": "stdout",
     "output_type": "stream",
     "text": [
      "Số máy > số bạn\n",
      "Số máy > số bạn\n",
      "Số máy > số bạn\n",
      "Số máy > số bạn\n",
      "Số máy > số bạn\n",
      "Số máy > số bạn\n",
      "Số máy > số bạn\n",
      "GAME OVER! Số máy là 99\n",
      "Cảm ơn bạn đã chơi!\n"
     ]
    }
   ],
   "source": [
    "from random import randrange\n",
    "\n",
    "def nhap_so(prompt):\n",
    "    while True:\n",
    "        try:\n",
    "            x = int(input(prompt))\n",
    "            if 1 <= x <= 100:\n",
    "                return x\n",
    "            else:\n",
    "                print(\"Số phải từ 1 đến 100!\")\n",
    "        except ValueError:\n",
    "            print(\"Vui lòng nhập số nguyên!\")\n",
    "\n",
    "def choi_game():\n",
    "    somay = randrange(1, 101)\n",
    "    solandoan = 0\n",
    "    min_so, max_so = 1, 100\n",
    "    \n",
    "    while solandoan < 7:\n",
    "        solandoan += 1\n",
    "        songuoi = nhap_so(f\"Lần đoán {solandoan} (từ {min_so} đến {max_so}): \")\n",
    "        \n",
    "        if songuoi == somay:\n",
    "            print(f\"Chúc mừng! Bạn đoán đúng số {somay}\")\n",
    "            return True\n",
    "        elif songuoi < somay:\n",
    "            print(\"Số máy > số bạn\")\n",
    "            min_so = max(min_so, songuoi + 1)\n",
    "        else:\n",
    "            print(\"Số máy < số bạn\")\n",
    "            max_so = min(max_so, songuoi - 1)\n",
    "    \n",
    "    print(f\"GAME OVER! Số máy là {somay}\")\n",
    "    return False\n",
    "\n",
    "while True:\n",
    "    choi_game()\n",
    "    if input(\"Tiếp tục chơi? (k để dừng): \").lower() == 'k':\n",
    "        break\n",
    "\n",
    "print(\"Cảm ơn bạn đã chơi!\")\n"
   ]
  }
 ],
 "metadata": {
  "kernelspec": {
   "display_name": "Python 3",
   "language": "python",
   "name": "python3"
  },
  "language_info": {
   "codemirror_mode": {
    "name": "ipython",
    "version": 3
   },
   "file_extension": ".py",
   "mimetype": "text/x-python",
   "name": "python",
   "nbconvert_exporter": "python",
   "pygments_lexer": "ipython3",
   "version": "3.13.7"
  }
 },
 "nbformat": 4,
 "nbformat_minor": 5
}
