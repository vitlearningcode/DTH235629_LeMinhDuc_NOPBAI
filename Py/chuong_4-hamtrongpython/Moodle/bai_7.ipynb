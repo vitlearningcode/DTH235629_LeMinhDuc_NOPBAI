{
 "cells": [
  {
   "cell_type": "markdown",
   "id": "e2c407c8",
   "metadata": {},
   "source": [
    "Nhập toạ độ 2 điểm A(xA,yA), B(xB,yB). Tính và xuất độ dài đoạn AB. "
   ]
  },
  {
   "cell_type": "code",
   "execution_count": 1,
   "id": "62d2773e",
   "metadata": {},
   "outputs": [
    {
     "name": "stdout",
     "output_type": "stream",
     "text": [
      "Độ dài đoạn AB = 1.4142135623730951\n"
     ]
    }
   ],
   "source": [
    "from math import sqrt\n",
    "\n",
    "xA = float(input(\"Nhập xA: \"))\n",
    "yA = float(input(\"Nhập yA: \"))\n",
    "xB = float(input(\"Nhập xB: \"))\n",
    "yB = float(input(\"yB: \"))\n",
    "\n",
    "AB = sqrt((xB - xA)**2 + (yB - yA)**2)\n",
    "print(\"Độ dài đoạn AB =\", AB)\n"
   ]
  },
  {
   "cell_type": "code",
   "execution_count": 3,
   "id": "6cb8a9ac",
   "metadata": {},
   "outputs": [
    {
     "name": "stdout",
     "output_type": "stream",
     "text": [
      "Độ dài đoạn AB = 2.00\n"
     ]
    }
   ],
   "source": [
    "from math import sqrt\n",
    "\n",
    "def nhap_toa_do(diem):\n",
    "    while True:\n",
    "        try:\n",
    "            x = float(input(f\"Nhập x{diem}: \"))\n",
    "            y = float(input(f\"Nhập y{diem}: \"))\n",
    "            return x, y\n",
    "        except ValueError:\n",
    "            print(\"Vui lòng nhập số hợp lệ!\")\n",
    "\n",
    "def khoang_cach(A, B):\n",
    "    return sqrt((B[0] - A[0])**2 + (B[1] - A[1])**2)\n",
    "\n",
    "A = nhap_toa_do(\"A\")\n",
    "B = nhap_toa_do(\"B\")\n",
    "AB = khoang_cach(A, B)\n",
    "\n",
    "print(f\"Độ dài đoạn AB = {AB:.2f}\")\n"
   ]
  },
  {
   "cell_type": "code",
   "execution_count": 2,
   "id": "2f5f755a",
   "metadata": {},
   "outputs": [
    {
     "name": "stdout",
     "output_type": "stream",
     "text": [
      "Độ dài đoạn AB = 2.00\n"
     ]
    }
   ],
   "source": [
    "from math import sqrt\n",
    "\n",
    "A = tuple(float(input(f\"Nhập {c}A: \")) for c in \"xy\")\n",
    "B = tuple(float(input(f\"Nhập {c}B: \")) for c in \"xy\")\n",
    "\n",
    "AB = sqrt((B[0]-A[0])**2 + (B[1]-A[1])**2)\n",
    "print(f\"Độ dài đoạn AB = {AB:.2f}\")\n"
   ]
  }
 ],
 "metadata": {
  "kernelspec": {
   "display_name": "Python 3",
   "language": "python",
   "name": "python3"
  },
  "language_info": {
   "codemirror_mode": {
    "name": "ipython",
    "version": 3
   },
   "file_extension": ".py",
   "mimetype": "text/x-python",
   "name": "python",
   "nbconvert_exporter": "python",
   "pygments_lexer": "ipython3",
   "version": "3.13.7"
  }
 },
 "nbformat": 4,
 "nbformat_minor": 5
}
