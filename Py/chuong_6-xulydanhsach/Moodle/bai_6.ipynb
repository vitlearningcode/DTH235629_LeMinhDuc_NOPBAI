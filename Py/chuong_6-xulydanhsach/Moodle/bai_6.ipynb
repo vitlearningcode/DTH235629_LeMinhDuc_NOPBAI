{
 "cells": [
  {
   "attachments": {
    "image.png": {
     "image/png": "[encoded data removed]"
    }
   },
   "cell_type": "markdown",
   "id": "c2398549",
   "metadata": {},
   "source": [
    "![image.png](attachment:image.png)"
   ]
  },
  {
   "cell_type": "code",
   "execution_count": 1,
   "id": "4f701572",
   "metadata": {},
   "outputs": [
    {
     "name": "stdout",
     "output_type": "stream",
     "text": [
      "❌ Số này đã có, nhập lại!\n",
      "❌ Số này đã có, nhập lại!\n",
      "List: [3, 2, 5]\n"
     ]
    }
   ],
   "source": [
    "N = int(input(\"Nhập số phần tử N: \"))\n",
    "lst = []\n",
    "\n",
    "while len(lst) < N:\n",
    "    x = int(input(f\"Nhập phần tử thứ {len(lst)+1}: \"))\n",
    "    if x not in lst:   # kiểm tra trùng\n",
    "        lst.append(x)\n",
    "    else:\n",
    "        print(\"❌ Số này đã có, nhập lại!\")\n",
    "\n",
    "print(\"List:\", lst)\n"
   ]
  },
  {
   "cell_type": "code",
   "execution_count": 2,
   "id": "85f12d24",
   "metadata": {},
   "outputs": [
    {
     "name": "stdout",
     "output_type": "stream",
     "text": [
      "List ngẫu nhiên không trùng nhau: [29, 17, 67]\n"
     ]
    }
   ],
   "source": [
    "import random\n",
    "\n",
    "N = int(input(\"Nhập số phần tử N: \"))\n",
    "lst = []\n",
    "\n",
    "while len(lst) < N:\n",
    "    x = random.randint(1, 100)\n",
    "    if x not in lst:   # kiểm tra trùng\n",
    "        lst.append(x)\n",
    "\n",
    "print(\"List ngẫu nhiên không trùng nhau:\", lst)\n"
   ]
  },
  {
   "cell_type": "code",
   "execution_count": 3,
   "id": "b41d7d8f",
   "metadata": {},
   "outputs": [
    {
     "name": "stdout",
     "output_type": "stream",
     "text": [
      "List ngẫu nhiên không trùng nhau: [48, 26, 43]\n"
     ]
    }
   ],
   "source": [
    "import random\n",
    "\n",
    "N = int(input(\"Nhập số phần tử N: \"))\n",
    "\n",
    "lst = random.sample(range(1, 101), N)  # chọn N số khác nhau trong [1..100]\n",
    "\n",
    "print(\"List ngẫu nhiên không trùng nhau:\", lst)\n"
   ]
  }
 ],
 "metadata": {
  "kernelspec": {
   "display_name": "Python 3",
   "language": "python",
   "name": "python3"
  },
  "language_info": {
   "codemirror_mode": {
    "name": "ipython",
    "version": 3
   },
   "file_extension": ".py",
   "mimetype": "text/x-python",
   "name": "python",
   "nbconvert_exporter": "python",
   "pygments_lexer": "ipython3",
   "version": "3.13.7"
  }
 },
 "nbformat": 4,
 "nbformat_minor": 5
}
