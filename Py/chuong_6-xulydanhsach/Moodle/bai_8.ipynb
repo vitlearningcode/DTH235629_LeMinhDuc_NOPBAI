{
 "cells": [
  {
   "cell_type": "markdown",
   "id": "94cfdfdd",
   "metadata": {},
   "source": [
    "Câu 8: Viết chương trình nhập vào một dãy n số thực M[0], M[1],..., M[n-1], sắp xếp dãy số theo thứ tự giảm dần. Xuất ra dãy số sau khi sắp xếp."
   ]
  },
  {
   "cell_type": "code",
   "execution_count": 3,
   "id": "fd8bf251",
   "metadata": {},
   "outputs": [
    {
     "name": "stdout",
     "output_type": "stream",
     "text": [
      "Dãy sau khi sắp xếp giảm dần: [8.0, 5.0, 2.0]\n"
     ]
    }
   ],
   "source": [
    "n = int(input(\"Nhập số phần tử: \"))\n",
    "M = [float(input(f\"Nhập M[{i}]: \")) for i in range(n)]\n",
    "\n",
    "# Bubble Sort giảm dần\n",
    "for i in range(n-1):\n",
    "    for j in range(n-1-i):\n",
    "        if M[j] < M[j+1]:   # đổi chỗ để giảm dần\n",
    "            M[j], M[j+1] = M[j+1], M[j]\n",
    "\n",
    "print(\"Dãy sau khi sắp xếp giảm dần:\", M)\n"
   ]
  },
  {
   "cell_type": "code",
   "execution_count": 2,
   "id": "c55c9d09",
   "metadata": {},
   "outputs": [
    {
     "name": "stdout",
     "output_type": "stream",
     "text": [
      "Dãy số sau khi sắp xếp giảm dần: [5.0, 5.0, 5.0, 4.0, 4.0, 4.0]\n"
     ]
    }
   ],
   "source": [
    "n = int(input(\"Nhập số lượng phần tử n: \"))\n",
    "M = []\n",
    "for i in range(n):\n",
    "    x = float(input(f\"Nhập M[{i}]: \"))\n",
    "    M.append(x)\n",
    "\n",
    "M.sort(reverse=True)\n",
    "print(\"Dãy số sau khi sắp xếp giảm dần:\", M)"
   ]
  },
  {
   "cell_type": "code",
   "execution_count": 4,
   "id": "6d669af1",
   "metadata": {},
   "outputs": [
    {
     "name": "stdout",
     "output_type": "stream",
     "text": [
      "Dãy sau khi sắp xếp giảm dần: [8.0, 6.0, 5.0]\n"
     ]
    }
   ],
   "source": [
    "n = int(input(\"Nhập số phần tử: \"))\n",
    "M = [float(input(f\"Nhập M[{i}]: \")) for i in range(n)]\n",
    "\n",
    "M = sorted(M, reverse=True)   # trả về list mới\n",
    "print(\"Dãy sau khi sắp xếp giảm dần:\", M)\n"
   ]
  }
 ],
 "metadata": {
  "kernelspec": {
   "display_name": "Python 3",
   "language": "python",
   "name": "python3"
  },
  "language_info": {
   "codemirror_mode": {
    "name": "ipython",
    "version": 3
   },
   "file_extension": ".py",
   "mimetype": "text/x-python",
   "name": "python",
   "nbconvert_exporter": "python",
   "pygments_lexer": "ipython3",
   "version": "3.13.7"
  }
 },
 "nbformat": 4,
 "nbformat_minor": 5
}
