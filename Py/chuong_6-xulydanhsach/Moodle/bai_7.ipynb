{
 "cells": [
  {
   "cell_type": "markdown",
   "id": "4ffbe348",
   "metadata": {},
   "source": [
    "7: Viết chương trình nhập vào một dãy các số theo thứ tự tăng, nếu nhập sai\n",
    "quy cách thì yêu cầu nhập lại. In dãy số sau khi đã nhập xong "
   ]
  },
  {
   "cell_type": "code",
   "execution_count": 1,
   "id": "9c71d545",
   "metadata": {},
   "outputs": [
    {
     "name": "stdout",
     "output_type": "stream",
     "text": [
      "❌ Phải nhập số lớn hơn số trước, nhập lại!\n",
      "Dãy số tăng dần: [2, 3, 5]\n"
     ]
    }
   ],
   "source": [
    "N = int(input(\"Nhập số phần tử của dãy: \"))\n",
    "lst = []\n",
    "\n",
    "for i in range(N):\n",
    "    while True:\n",
    "        x = int(input(f\"Nhập phần tử thứ {i+1}: \"))\n",
    "        if i == 0 or x > lst[-1]:   # phần tử đầu hoặc lớn hơn phần tử trước\n",
    "            lst.append(x)\n",
    "            break\n",
    "        else:\n",
    "            print(\"❌ Phải nhập số lớn hơn số trước, nhập lại!\")\n",
    "\n",
    "print(\"Dãy số tăng dần:\", lst)\n"
   ]
  },
  {
   "cell_type": "code",
   "execution_count": 5,
   "id": "968407b8",
   "metadata": {},
   "outputs": [
    {
     "name": "stdout",
     "output_type": "stream",
     "text": [
      "Dãy số tăng dần ngẫu nhiên: [37, 80, 85]\n"
     ]
    }
   ],
   "source": [
    "import random\n",
    "\n",
    "N = int(input(\"Nhập số phần tử của dãy: \"))\n",
    "\n",
    "lst = sorted(random.sample(range(1, 100), N))  # random unique + sắp xếp\n",
    "print(\"Dãy số tăng dần ngẫu nhiên:\", lst)\n"
   ]
  }
 ],
 "metadata": {
  "kernelspec": {
   "display_name": "Python 3",
   "language": "python",
   "name": "python3"
  },
  "language_info": {
   "codemirror_mode": {
    "name": "ipython",
    "version": 3
   },
   "file_extension": ".py",
   "mimetype": "text/x-python",
   "name": "python",
   "nbconvert_exporter": "python",
   "pygments_lexer": "ipython3",
   "version": "3.13.7"
  }
 },
 "nbformat": 4,
 "nbformat_minor": 5
}
