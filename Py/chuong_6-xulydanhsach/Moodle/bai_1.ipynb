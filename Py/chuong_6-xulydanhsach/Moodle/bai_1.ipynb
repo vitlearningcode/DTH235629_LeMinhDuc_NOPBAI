{
 "cells": [
  {
   "cell_type": "markdown",
   "id": "6c66a71a",
   "metadata": {},
   "source": [
    "Viết chương trình cho phép:\n",
    "- Khởi tạo list\n",
    "- Thêm phần tử vào list\n",
    "- Nhập k, kiểm tra k xuất hiện bao nhiêu lần trong list\n",
    "- Tính tổng các số nguyên tố trong list\n",
    "- Sắp xếp\n",
    "- Xóa list"
   ]
  },
  {
   "cell_type": "code",
   "execution_count": 6,
   "id": "97af18c7",
   "metadata": {},
   "outputs": [
    {
     "name": "stdout",
     "output_type": "stream",
     "text": [
      "Chương trình xử lý List\n"
     ]
    },
    {
     "ename": "ValueError",
     "evalue": "invalid literal for int() with base 10: ''",
     "output_type": "error",
     "traceback": [
      "\u001b[31m---------------------------------------------------------------------------\u001b[39m",
      "\u001b[31mValueError\u001b[39m                                Traceback (most recent call last)",
      "\u001b[36mCell\u001b[39m\u001b[36m \u001b[39m\u001b[32mIn[6]\u001b[39m\u001b[32m, line 3\u001b[39m\n\u001b[32m      1\u001b[39m \u001b[38;5;28;01mfrom\u001b[39;00m\u001b[38;5;250m \u001b[39m\u001b[34;01mrandom\u001b[39;00m\u001b[38;5;250m \u001b[39m\u001b[38;5;28;01mimport\u001b[39;00m randrange\n\u001b[32m      2\u001b[39m \u001b[38;5;28mprint\u001b[39m(\u001b[33m\"\u001b[39m\u001b[33mChương trình xử lý List\u001b[39m\u001b[33m\"\u001b[39m)\n\u001b[32m----> \u001b[39m\u001b[32m3\u001b[39m n=\u001b[38;5;28;43mint\u001b[39;49m\u001b[43m(\u001b[49m\u001b[38;5;28;43minput\u001b[39;49m\u001b[43m(\u001b[49m\u001b[33;43m\"\u001b[39;49m\u001b[33;43mNhập số phần tử\u001b[39;49m\u001b[33;43m\"\u001b[39;49m\u001b[43m)\u001b[49m\u001b[43m)\u001b[49m\n\u001b[32m      4\u001b[39m lst=[\u001b[32m0\u001b[39m]*n\n\u001b[32m      5\u001b[39m \u001b[38;5;28;01mfor\u001b[39;00m i \u001b[38;5;129;01min\u001b[39;00m \u001b[38;5;28mrange\u001b[39m(n):\n",
      "\u001b[31mValueError\u001b[39m: invalid literal for int() with base 10: ''"
     ]
    }
   ],
   "source": [
    "from random import randrange\n",
    "print(\"Chương trình xử lý List\")\n",
    "n=int(input(\"Nhập số phần tử\"))\n",
    "lst=[0]*n\n",
    "for i in range(n):\n",
    "    lst[i]=randrange(-100,100)\n",
    "print(\"List ngẫu nhiên là:\")\n",
    "print(lst)\n",
    "print(\"Mời bạn thêm số mới:\")\n",
    "value=int(input())\n",
    "lst.append(value)\n",
    "print(lst)\n",
    "print(\"bạn muốn đếm số nào:\")\n",
    "k=int(input())\n",
    "dem=lst.count(k)\n",
    "print(k,\"xuất hiện \",dem,\"trong list\")\n",
    "\n",
    "def CheckPrime(n):\n",
    "    d=0\n",
    "    for i in range(1,n+1):\n",
    "        if n%i ==0:\n",
    "            d+=1\n",
    "    return d==2\n",
    "demnt=0\n",
    "tongnt=0\n",
    "for x in lst:\n",
    "    if CheckPrime(x):\n",
    "        demnt+=1\n",
    "        tongnt+=x\n",
    "print(\"Có \",demnt,\"số nguyên tố trong list\")\n",
    "print(\"Tổng=\",tongnt)\n",
    "lst.sort()\n",
    "print(\"List sau khi sort:\")\n",
    "print(lst)\n",
    "\n",
    "del lst\n",
    "print(\"List sau khi xóa\")\n",
    "#print(lst)"
   ]
  },
  {
   "cell_type": "code",
   "execution_count": 8,
   "id": "aa36e410",
   "metadata": {},
   "outputs": [
    {
     "name": "stdout",
     "output_type": "stream",
     "text": [
      "Chương trình xử lý List\n",
      "List ngẫu nhiên là:\n",
      "[-28, -89, -64, 15]\n",
      "List sau khi thêm: [-28, -89, -64, 15, 1]\n",
      "1 xuất hiện 1 lần trong list\n",
      "Có 0 số nguyên tố trong list\n",
      "Tổng các số nguyên tố = 0\n",
      "List sau khi sort: [-89, -64, -28, 1, 15]\n",
      "List sau khi xóa: []\n"
     ]
    }
   ],
   "source": [
    "from random import randrange\n",
    "import math\n",
    "\n",
    "print(\"Chương trình xử lý List\")\n",
    "\n",
    "# Nhập số phần tử và tạo list ngẫu nhiên\n",
    "n = int(input(\"Nhập số phần tử: \"))\n",
    "lst = [randrange(-100, 100) for _ in range(n)]\n",
    "print(\"List ngẫu nhiên là:\")\n",
    "print(lst)\n",
    "\n",
    "# Thêm số mới\n",
    "value = int(input(\"Mời bạn thêm số mới: \"))\n",
    "lst.append(value)\n",
    "print(\"List sau khi thêm:\", lst)\n",
    "\n",
    "# Đếm số xuất hiện\n",
    "k = int(input(\"Bạn muốn đếm số nào: \"))\n",
    "dem = lst.count(k)\n",
    "print(k, \"xuất hiện\", dem, \"lần trong list\")\n",
    "\n",
    "# Kiểm tra số nguyên tố\n",
    "def CheckPrime(x):\n",
    "    if x < 2:\n",
    "        return False\n",
    "    for i in range(2, int(math.isqrt(x)) + 1):\n",
    "        if x % i == 0:\n",
    "            return False\n",
    "    return True\n",
    "\n",
    "demnt = 0\n",
    "tongnt = 0\n",
    "for x in lst:\n",
    "    if CheckPrime(x):\n",
    "        demnt += 1\n",
    "        tongnt += x\n",
    "\n",
    "print(\"Có\", demnt, \"số nguyên tố trong list\")\n",
    "print(\"Tổng các số nguyên tố =\", tongnt)\n",
    "\n",
    "# Sắp xếp list\n",
    "lst.sort()\n",
    "print(\"List sau khi sort:\", lst)\n",
    "\n",
    "# Xóa list\n",
    "lst.clear()  # an toàn hơn del\n",
    "print(\"List sau khi xóa:\", lst)\n"
   ]
  }
 ],
 "metadata": {
  "kernelspec": {
   "display_name": "Python 3",
   "language": "python",
   "name": "python3"
  },
  "language_info": {
   "codemirror_mode": {
    "name": "ipython",
    "version": 3
   },
   "file_extension": ".py",
   "mimetype": "text/x-python",
   "name": "python",
   "nbconvert_exporter": "python",
   "pygments_lexer": "ipython3",
   "version": "3.13.7"
  }
 },
 "nbformat": 4,
 "nbformat_minor": 5
}
