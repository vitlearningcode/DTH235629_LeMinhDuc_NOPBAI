{
 "cells": [
  {
   "cell_type": "markdown",
   "id": "9d3079d4",
   "metadata": {},
   "source": [
    "Yêu cầu:\n",
    "Viết chương trình cho phép:\n",
    "- Viết lệnh khởi tạo ngẫu nhiên n phần tử cho list\n",
    "- Gọi k là một số nhập từ bàn phím, hãy xóa tất cả các phần tử có giá trị k tồn tại\n",
    "trong list\n",
    "- Kiểm tra list có đối xứng hay không"
   ]
  },
  {
   "cell_type": "code",
   "execution_count": 1,
   "id": "962d56b9",
   "metadata": {},
   "outputs": [
    {
     "name": "stdout",
     "output_type": "stream",
     "text": [
      "Nhập số phần tử:\n",
      "List sau khi tạo ngẫu nhiên là:\n",
      "[44, 74]\n",
      "List sau khi chèn:\n",
      "[44, 74, 1]\n",
      "List sau khi xóa:\n",
      "[44, 74, 1]\n",
      "List không đối xứng\n"
     ]
    }
   ],
   "source": [
    "from random import randrange\n",
    "lst=[]\n",
    "\n",
    "print(\"Nhập số phần tử:\")\n",
    "n=int(input())\n",
    "for i in range(n):\n",
    "    lst.append(randrange(0,100))\n",
    "print(\"List sau khi tạo ngẫu nhiên là:\")\n",
    "print(lst)\n",
    "x=int(input(\"Mời bạn chèn thêm số mới\"))\n",
    "lst.append(x)\n",
    "print(\"List sau khi chèn:\")\n",
    "print(lst)\n",
    "k=int(input(\"Mời nhập số để xóa\"))\n",
    "while lst.count(k)>0:\n",
    " lst.remove(k)\n",
    "print(\"List sau khi xóa:\")\n",
    "print(lst)\n",
    "\n",
    "def CheckDoiXung(lst):\n",
    "    for i in range(len(lst)):\n",
    "        if lst[i]!=lst[len(lst)-i-1]:\n",
    "            return False\n",
    "    return True\n",
    "kt=CheckDoiXung(lst)\n",
    "if kt==True:\n",
    "    print(\"List đối xứng\")\n",
    "else:\n",
    "    print(\"List không đối xứng\")\n"
   ]
  },
  {
   "cell_type": "code",
   "execution_count": 2,
   "id": "49a2ad39",
   "metadata": {},
   "outputs": [
    {
     "name": "stdout",
     "output_type": "stream",
     "text": [
      "List sau khi tạo ngẫu nhiên là:\n",
      "[74, 42]\n",
      "List sau khi chèn: [74, 42, 2]\n",
      "List sau khi xóa: [74, 42]\n",
      "List không đối xứng\n"
     ]
    }
   ],
   "source": [
    "from random import randrange\n",
    "\n",
    "# Tạo list ngẫu nhiên\n",
    "lst = []\n",
    "n = int(input(\"Nhập số phần tử: \"))\n",
    "for _ in range(n):\n",
    "    lst.append(randrange(0, 100))\n",
    "print(\"List sau khi tạo ngẫu nhiên là:\")\n",
    "print(lst)\n",
    "\n",
    "# Chèn thêm số\n",
    "x = int(input(\"Mời bạn chèn thêm số mới: \"))\n",
    "lst.append(x)\n",
    "print(\"List sau khi chèn:\", lst)\n",
    "\n",
    "# Xóa tất cả các phần tử bằng giá trị k\n",
    "k = int(input(\"Mời nhập số để xóa: \"))\n",
    "lst = [i for i in lst if i != k]  # Pythonic hơn dùng list comprehension\n",
    "print(\"List sau khi xóa:\", lst)\n",
    "\n",
    "# Kiểm tra list đối xứng\n",
    "def CheckDoiXung(lst):\n",
    "    return lst == lst[::-1]  # Cách nhanh hơn: so sánh với list đảo ngược\n",
    "\n",
    "if CheckDoiXung(lst):\n",
    "    print(\"List đối xứng\")\n",
    "else:\n",
    "    print(\"List không đối xứng\")\n"
   ]
  }
 ],
 "metadata": {
  "kernelspec": {
   "display_name": "Python 3",
   "language": "python",
   "name": "python3"
  },
  "language_info": {
   "codemirror_mode": {
    "name": "ipython",
    "version": 3
   },
   "file_extension": ".py",
   "mimetype": "text/x-python",
   "name": "python",
   "nbconvert_exporter": "python",
   "pygments_lexer": "ipython3",
   "version": "3.13.7"
  }
 },
 "nbformat": 4,
 "nbformat_minor": 5
}
