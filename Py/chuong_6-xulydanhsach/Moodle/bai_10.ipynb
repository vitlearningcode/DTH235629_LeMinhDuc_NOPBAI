{
 "cells": [
  {
   "cell_type": "markdown",
   "id": "8b783b4e",
   "metadata": {},
   "source": [
    "Nhập 2 matrix A, B.\n",
    "Cộng 2 matrix\n",
    "Viết hàm tính matrix hoán vị \n",
    "`➔` áp dụng để tìm cho A, B"
   ]
  },
  {
   "cell_type": "code",
   "execution_count": 1,
   "id": "278a19a1",
   "metadata": {},
   "outputs": [
    {
     "name": "stdout",
     "output_type": "stream",
     "text": [
      "Nhập ma trận A:\n",
      "Nhập ma trận B:\n",
      "\n",
      "Ma trận A:\n",
      "[2, 3]\n",
      "[65, 5]\n",
      "[3, 21]\n",
      "\n",
      "Ma trận B:\n",
      "[2, 3]\n",
      "[6, 5]\n",
      "[3, 2]\n",
      "\n",
      "A + B = \n",
      "[4, 6]\n",
      "[71, 10]\n",
      "[6, 23]\n",
      "\n",
      "Transpose(A):\n",
      "[2, 65, 3]\n",
      "[3, 5, 21]\n",
      "\n",
      "Transpose(B):\n",
      "[2, 6, 3]\n",
      "[3, 5, 2]\n"
     ]
    }
   ],
   "source": [
    "def nhap_ma_tran(m, n, ten):\n",
    "    print(f\"Nhập ma trận {ten}:\")\n",
    "    M = []\n",
    "    for i in range(m):\n",
    "        row = []\n",
    "        for j in range(n):\n",
    "            row.append(int(input(f\"{ten}[{i}][{j}] = \")))\n",
    "        M.append(row)\n",
    "    return M\n",
    "\n",
    "def xuat_ma_tran(M):\n",
    "    for row in M:\n",
    "        print(row)\n",
    "\n",
    "def cong_ma_tran(A, B):\n",
    "    m, n = len(A), len(A[0])\n",
    "    C = []\n",
    "    for i in range(m):\n",
    "        row = []\n",
    "        for j in range(n):\n",
    "            row.append(A[i][j] + B[i][j])\n",
    "        C.append(row)\n",
    "    return C\n",
    "\n",
    "def transpose(M):\n",
    "    m, n = len(M), len(M[0])\n",
    "    T = []\n",
    "    for j in range(n):\n",
    "        row = []\n",
    "        for i in range(m):\n",
    "            row.append(M[i][j])\n",
    "        T.append(row)\n",
    "    return T\n",
    "\n",
    "# mẹ ơiii\n",
    "m = int(input(\"Nhập số dòng: \"))\n",
    "n = int(input(\"Nhập số cột: \"))\n",
    "\n",
    "A = nhap_ma_tran(m, n, \"A\")\n",
    "B = nhap_ma_tran(m, n, \"B\")\n",
    "\n",
    "print(\"\\nMa trận A:\"); xuat_ma_tran(A)\n",
    "print(\"\\nMa trận B:\"); xuat_ma_tran(B)\n",
    "\n",
    "print(\"\\nA + B = \"); xuat_ma_tran(cong_ma_tran(A, B))\n",
    "print(\"\\nTranspose(A):\"); xuat_ma_tran(transpose(A))\n",
    "print(\"\\nTranspose(B):\"); xuat_ma_tran(transpose(B))\n"
   ]
  }
 ],
 "metadata": {
  "kernelspec": {
   "display_name": "Python 3",
   "language": "python",
   "name": "python3"
  },
  "language_info": {
   "codemirror_mode": {
    "name": "ipython",
    "version": 3
   },
   "file_extension": ".py",
   "mimetype": "text/x-python",
   "name": "python",
   "nbconvert_exporter": "python",
   "pygments_lexer": "ipython3",
   "version": "3.13.7"
  }
 },
 "nbformat": 4,
 "nbformat_minor": 5
}
