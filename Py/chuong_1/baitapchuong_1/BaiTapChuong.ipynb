{
 "cells": [
  {
   "cell_type": "code",
   "execution_count": 1,
   "metadata": {
    "colab": {
     "base_uri": "https://localhost:8080/"
    },
    "executionInfo": {
     "elapsed": 40,
     "status": "ok",
     "timestamp": 1755833575615,
     "user": {
      "displayName": "Nguyen Ngoc Minh",
      "userId": "08919201521469951342"
     },
     "user_tz": -420
    },
    "id": "Q6RXXtQR1WM7",
    "outputId": "2a4f6401-7834-425e-f892-ff5673f8c270"
   },
   "outputs": [
    {
     "name": "stdout",
     "output_type": "stream",
     "text": [
      "leminhduc\n"
     ]
    }
   ],
   "source": [
    "a=\"leminhduc\"\n",
    "print(a)"
   ]
  },
  {
   "cell_type": "code",
   "execution_count": 2,
   "metadata": {
    "colab": {
     "base_uri": "https://localhost:8080/"
    },
    "executionInfo": {
     "elapsed": 37,
     "status": "ok",
     "timestamp": 1755833661902,
     "user": {
      "displayName": "Nguyen Ngoc Minh",
      "userId": "08919201521469951342"
     },
     "user_tz": -420
    },
    "id": "I5nIVwLz1wFd",
    "outputId": "aa953533-ed8f-4dd2-9716-2a9e1177c455"
   },
   "outputs": [
    {
     "name": "stdout",
     "output_type": "stream",
     "text": [
      "<class 'str'>\n"
     ]
    }
   ],
   "source": [
    "a='DH24TH1'\n",
    "print(type(a))"
   ]
  }
 ],
 "metadata": {
  "colab": {
   "authorship_tag": "ABX9TyPmHrd3fEpaVjzzR4tramzj",
   "provenance": []
  },
  "kernelspec": {
   "display_name": "Python 3",
   "name": "python3"
  },
  "language_info": {
   "codemirror_mode": {
    "name": "ipython",
    "version": 3
   },
   "file_extension": ".py",
   "mimetype": "text/x-python",
   "name": "python",
   "nbconvert_exporter": "python",
   "pygments_lexer": "ipython3",
   "version": "3.13.5"
  }
 },
 "nbformat": 4,
 "nbformat_minor": 0
}
