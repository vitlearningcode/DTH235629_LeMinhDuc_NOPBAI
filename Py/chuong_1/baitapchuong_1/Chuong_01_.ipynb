{
 "cells": [
  {
   "cell_type": "code",
   "execution_count": 1,
   "id": "3f90bc80",
   "metadata": {},
   "outputs": [
    {
     "name": "stdout",
     "output_type": "stream",
     "text": [
      "leduc\n"
     ]
    }
   ],
   "source": [
    "# Cú pháp Python cơ bản\n",
    "print('leduc')"
   ]
  },
  {
   "cell_type": "code",
   "execution_count": 2,
   "id": "49bdcacb",
   "metadata": {},
   "outputs": [],
   "source": [
    "# Câu lệnh, khối lệnh và chú thích\n",
    "if 5 < 2:\n",
    "    print('5 lớn hơn 2')"
   ]
  },
  {
   "cell_type": "code",
   "execution_count": 3,
   "id": "fc30ed07",
   "metadata": {},
   "outputs": [
    {
     "name": "stdout",
     "output_type": "stream",
     "text": [
      "Điều này luôn đúng\n"
     ]
    }
   ],
   "source": [
    "if True:\n",
    "    print('Điều này luôn đúng')\n",
    "else:\n",
    "    print('Điều này không đúng')"
   ]
  }
 ],
 "metadata": {
  "kernelspec": {
   "display_name": "Python 3",
   "language": "python",
   "name": "python3"
  },
  "language_info": {
   "codemirror_mode": {
    "name": "ipython",
    "version": 3
   },
   "file_extension": ".py",
   "mimetype": "text/x-python",
   "name": "python",
   "nbconvert_exporter": "python",
   "pygments_lexer": "ipython3",
   "version": "3.13.5"
  }
 },
 "nbformat": 4,
 "nbformat_minor": 5
}
