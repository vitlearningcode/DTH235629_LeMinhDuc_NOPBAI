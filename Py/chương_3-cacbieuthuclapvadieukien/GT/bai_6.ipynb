{
 "cells": [
  {
   "cell_type": "markdown",
   "id": "32be25ab",
   "metadata": {},
   "source": [
    "Câu 6: Nhập một số n có tối đa 2 chữ số. Hãy cho biết cách đọc ra dạng chữ.  \n",
    "\n",
    "(vd: n=35 => Ba mươi lăm, n=5 => năm).\n"
   ]
  },
  {
   "cell_type": "code",
   "execution_count": 1,
   "id": "5f701265",
   "metadata": {},
   "outputs": [
    {
     "name": "stdout",
     "output_type": "stream",
     "text": [
      "5 -> năm\n",
      "10 -> mười\n",
      "15 -> mười lăm\n",
      "21 -> hai mươi mốt\n",
      "35 -> ba mươi lăm\n",
      "99 -> chín mươi chín\n"
     ]
    }
   ],
   "source": [
    "# Chill whit if/else thẳng tay\n",
    "def doc_so_easy(n):\n",
    "    donvi = [\"không\", \"một\", \"hai\", \"ba\", \"bốn\",\n",
    "             \"năm\", \"sáu\", \"bảy\", \"tám\", \"chín\"]\n",
    "    \n",
    "    if n < 10:\n",
    "        return donvi[n]\n",
    "    elif n == 10:\n",
    "        return \"mười\"\n",
    "    elif n < 20:\n",
    "        if n == 15:\n",
    "            return \"mười lăm\"\n",
    "        else:\n",
    "            return \"mười \" + donvi[n % 10]\n",
    "    else:\n",
    "        chuc = n // 10\n",
    "        dv = n % 10\n",
    "        if dv == 0:\n",
    "            return donvi[chuc] + \" mươi\"\n",
    "        elif dv == 1:\n",
    "            return donvi[chuc] + \" mươi mốt\"\n",
    "        elif dv == 5:\n",
    "            return donvi[chuc] + \" mươi lăm\"\n",
    "        else:\n",
    "            return donvi[chuc] + \" mươi \" + donvi[dv]\n",
    "\n",
    "# Test\n",
    "for x in [5, 10, 15, 21, 35, 99]:\n",
    "    print(x, \"->\", doc_so_easy(x))\n"
   ]
  },
  {
   "cell_type": "code",
   "execution_count": 2,
   "id": "a3a2e368",
   "metadata": {},
   "outputs": [
    {
     "name": "stdout",
     "output_type": "stream",
     "text": [
      "\n",
      "--- result ---\n",
      "5 -> năm\n",
      "10 -> mười\n",
      "15 -> mười lăm\n",
      "21 -> hai mươi mốt\n",
      "35 -> ba mươi lăm\n",
      "99 -> chín mươi chín\n"
     ]
    }
   ],
   "source": [
    "def doc_so(n):\n",
    "    donvi = [\"không\", \"một\", \"hai\", \"ba\", \"bốn\",\n",
    "             \"năm\", \"sáu\", \"bảy\", \"tám\", \"chín\"]\n",
    "    \n",
    "    if n < 0 and n > 99:\n",
    "        return \"out of range\" #ngoài phạm vi\n",
    "    \n",
    "    if n < 10:\n",
    "        return donvi[n]\n",
    "    elif n == 10:\n",
    "        return \"mười\"\n",
    "    elif n < 20:\n",
    "        if n == 15:\n",
    "            return \"mười lăm\"\n",
    "        return \"mười \" + donvi[n % 10]\n",
    "    else:\n",
    "        chuc, dv = divmod (n, 10)\n",
    "        if dv == 0:\n",
    "            return donvi[chuc] + \" mươi\"\n",
    "        elif dv == 1:\n",
    "            return donvi[chuc] + \" mươi mốt\"\n",
    "        elif dv == 5:\n",
    "            return donvi[chuc] + \" mươi lăm\"\n",
    "        return donvi[chuc] + \" mươi \" + donvi[dv]\n",
    "    \n",
    "# Test\n",
    "print(\"\\n--- result ---\")\n",
    "for x in [5, 10, 15, 21, 35, 99]:\n",
    "    print(x, \"->\", doc_so(x))\n",
    "    \n",
    "    "
   ]
  }
 ],
 "metadata": {
  "kernelspec": {
   "display_name": "Python 3",
   "language": "python",
   "name": "python3"
  },
  "language_info": {
   "codemirror_mode": {
    "name": "ipython",
    "version": 3
   },
   "file_extension": ".py",
   "mimetype": "text/x-python",
   "name": "python",
   "nbconvert_exporter": "python",
   "pygments_lexer": "ipython3",
   "version": "3.13.7"
  }
 },
 "nbformat": 4,
 "nbformat_minor": 5
}
