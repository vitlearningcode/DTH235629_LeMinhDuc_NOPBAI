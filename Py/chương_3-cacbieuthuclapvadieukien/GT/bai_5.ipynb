{
 "cells": [
  {
   "cell_type": "markdown",
   "id": "f24b263a",
   "metadata": {},
   "source": [
    "Câu 5: Hãy cho biết kết quả xuất ra màn hình \n",
    "Yêu cầu: \n",
    "Cho i, j, k là các con số và lệnh dưới đây: \n",
    "\n",
    "if i < j:\n",
    "    if j < k:\n",
    "        i = j\n",
    "    else:\n",
    "        j = k\n",
    "else:\n",
    "    if j > k:\n",
    "        j = i\n",
    "    else: \n",
    "        i = k\n",
    "print (\"i = \", i, \"j = \", j, \"k = \", k)\n",
    "\n",
    "Hãy cho biết kết quả xuất ra màn hình nếu tuần tự 3 biến trên có các giá trị sau: \n",
    "\n",
    "(a) i = 3, j = 5, and k = 7         \n",
    "(b) i = 3, j = 7, and k = 5     \n",
    "(c) i = 5, j = 3, and k = 7     \n",
    "(d) i = 5, j = 7, and k = 3  \n",
    "(e) i = 7, j = 3, and k = 5     \n",
    "(f) i =7, j = 5, and k = 3  "
   ]
  },
  {
   "cell_type": "code",
   "execution_count": 1,
   "id": "269a8a11",
   "metadata": {},
   "outputs": [
    {
     "name": "stdout",
     "output_type": "stream",
     "text": [
      "i = 5 j = 5 k = 7\n",
      "i = 3 j = 5 k = 5\n",
      "i = 7 j = 3 k = 7\n",
      "i = 5 j = 3 k = 3\n",
      "i = 5 j = 3 k = 5\n",
      "i = 7 j = 7 k = 3\n"
     ]
    }
   ],
   "source": [
    "#chill chill\n",
    "def case_easy(i, j, k):\n",
    "    if i < j:\n",
    "        if j < k:\n",
    "            i = j\n",
    "        else:\n",
    "            j = k\n",
    "    else:\n",
    "        if j > k:\n",
    "            j = i\n",
    "        else:\n",
    "            i = k\n",
    "    print(\"i =\", i, \"j =\", j, \"k =\", k)\n",
    "\n",
    "# Test\n",
    "case_easy(3, 5, 7)   # (a)\n",
    "case_easy(3, 7, 5)   # (b)\n",
    "case_easy(5, 3, 7)   # (c)\n",
    "case_easy(5, 7, 3)   # (d)\n",
    "case_easy(7, 3, 5)   # (e)\n",
    "case_easy(7, 5, 3)   # (f)\n"
   ]
  },
  {
   "cell_type": "code",
   "execution_count": 2,
   "id": "d46b1888",
   "metadata": {},
   "outputs": [
    {
     "name": "stdout",
     "output_type": "stream",
     "text": [
      "Case 1: i=5, j=5, k=7\n",
      "Case 2: i=3, j=5, k=5\n",
      "Case 3: i=7, j=3, k=7\n",
      "Case 4: i=5, j=3, k=3\n",
      "Case 5: i=5, j=3, k=5\n",
      "Case 6: i=7, j=7, k=3\n"
     ]
    }
   ],
   "source": [
    "#high xiusu =)))\n",
    "def process(i, j, k):\n",
    "    if i < j:\n",
    "        if j < k:\n",
    "            i = j\n",
    "        else:\n",
    "            j = k\n",
    "    else:\n",
    "        if j > k:\n",
    "            j = i\n",
    "        else:\n",
    "            i = k\n",
    "    return i, j, k\n",
    "\n",
    "# đem mấy con gà của đề ra làm thịt\n",
    "tests = [\n",
    "    (3, 5, 7),   # a\n",
    "    (3, 7, 5),   # b\n",
    "    (5, 3, 7),   # c\n",
    "    (5, 7, 3),   # d\n",
    "    (7, 3, 5),   # e\n",
    "    (7, 5, 3),   # f\n",
    "]\n",
    "\n",
    "# resulttt\n",
    "for idx, (i, j, k) in enumerate(tests, start=1):\n",
    "    result = process(i, j, k)\n",
    "    print(f\"Case {idx}: i={result[0]}, j={result[1]}, k={result[2]}\")\n"
   ]
  },
  {
   "cell_type": "code",
   "execution_count": null,
   "id": "e6db1187",
   "metadata": {},
   "outputs": [
    {
     "name": "stdout",
     "output_type": "stream",
     "text": [
      "\n",
      "--- Kết quả tối ưu ---\n",
      "Input: (3, 5, 7) -> Output: (5, 5, 7)\n",
      "Input: (3, 7, 5) -> Output: (3, 5, 5)\n",
      "Input: (5, 3, 7) -> Output: (7, 3, 7)\n",
      "Input: (5, 7, 3) -> Output: (5, 3, 3)\n",
      "Input: (7, 3, 5) -> Output: (5, 3, 5)\n",
      "Input: (7, 5, 3) -> Output: (7, 7, 3)\n"
     ]
    },
    {
     "data": {
      "text/plain": [
       "[None, None, None, None, None, None]"
      ]
     },
     "execution_count": 3,
     "metadata": {},
     "output_type": "execute_result"
    }
   ],
   "source": [
    "# chat =)))))\n",
    "process_opt = lambda i, j, k: (\n",
    "    (j, j, k) if i < j and j < k else\n",
    "    (i, k, k) if i < j else\n",
    "    (i, i, k) if j > k else\n",
    "    (k, j, k)\n",
    ")\n",
    "\n",
    "tests = [\n",
    "    (3, 5, 7),   # a\n",
    "    (3, 7, 5),   # b\n",
    "    (5, 3, 7),   # c\n",
    "    (5, 7, 3),   # d\n",
    "    (7, 3, 5),   # e\n",
    "    (7, 5, 3),   # f\n",
    "]\n",
    "\n",
    "print(\"\\n--- result ---\")\n",
    "[print(f\"Input: {t} -> Output: {process_opt(*t)}\") for t in tests]\n"
   ]
  }
 ],
 "metadata": {
  "kernelspec": {
   "display_name": "Python 3",
   "language": "python",
   "name": "python3"
  },
  "language_info": {
   "codemirror_mode": {
    "name": "ipython",
    "version": 3
   },
   "file_extension": ".py",
   "mimetype": "text/x-python",
   "name": "python",
   "nbconvert_exporter": "python",
   "pygments_lexer": "ipython3",
   "version": "3.13.7"
  }
 },
 "nbformat": 4,
 "nbformat_minor": 5
}
