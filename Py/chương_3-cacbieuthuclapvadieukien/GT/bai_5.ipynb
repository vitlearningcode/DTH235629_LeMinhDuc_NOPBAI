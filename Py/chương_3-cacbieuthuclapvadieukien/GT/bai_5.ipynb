{
 "cells": [
  {
   "cell_type": "markdown",
   "id": "f24b263a",
   "metadata": {},
   "source": [
    "Câu 5: Hãy cho biết kết quả xuất ra màn hình \n",
    "Yêu cầu: \n",
    "Cho i, j, k là các con số và lệnh dưới đây: \n",
    "\n",
    "if i < j:\n",
    "    if j < k:\n",
    "        i = j\n",
    "    else:\n",
    "        j = k\n",
    "else:\n",
    "    if j > k:\n",
    "        j = i\n",
    "    else: \n",
    "        i = k\n",
    "print (\"i = \", i, \"j = \", j, \"k = \", k)\n",
    "\n",
    "Hãy cho biết kết quả xuất ra màn hình nếu tuần tự 3 biến trên có các giá trị sau: \n",
    "\n",
    "(a) i = 3, j = 5, and k = 7         \n",
    "(b) i = 3, j = 7, and k = 5     \n",
    "(c) i = 5, j = 3, and k = 7     \n",
    "(d) i = 5, j = 7, and k = 3  \n",
    "(e) i = 7, j = 3, and k = 5     \n",
    "(f) i =7, j = 5, and k = 3  "
   ]
  },
  {
   "cell_type": "code",
   "execution_count": null,
   "id": "64284e22",
   "metadata": {
    "vscode": {
     "languageId": "plaintext"
    }
   },
   "outputs": [],
   "source": []
  }
 ],
 "metadata": {
  "language_info": {
   "name": "python"
  }
 },
 "nbformat": 4,
 "nbformat_minor": 5
}
