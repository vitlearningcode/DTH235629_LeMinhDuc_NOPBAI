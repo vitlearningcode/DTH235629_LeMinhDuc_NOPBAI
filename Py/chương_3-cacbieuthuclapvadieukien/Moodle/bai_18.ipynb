{
 "cells": [
  {
   "cell_type": "code",
   "execution_count": 6,
   "id": "bba5e900",
   "metadata": {},
   "outputs": [
    {
     "name": "stdout",
     "output_type": "stream",
     "text": [
      "\n",
      "--- offset = 0 (no shift) ---\n",
      "* * * * * * * * *   *                   *                \n",
      "*               *   * *                 * *              \n",
      "*               *   * * *               *   *            \n",
      "*               *   * * * *             *     *          \n",
      "*               *   * * * * *           * * * * * * * * *\n",
      "*               *   * * * * * *                   *     *\n",
      "*               *   * * * * * * *                   *   *\n",
      "*               *   * * * * * * * *                   * *\n",
      "* * * * * * * * *   * * * * * * * * *                   *\n",
      "\n",
      "--- offset = 1 (shift lower-triangle right by 1) ---\n",
      "* * * * * * * * *   *                   *                \n",
      "*               *   * *                 * *              \n",
      "*               *   * * *               *   *            \n",
      "*               *   * * * *             *     *          \n",
      "*               *   * * * * *           * * * * * * * * *\n",
      "*               *   * * * * * *                     *   *\n",
      "*               *   * * * * * * *                     * *\n",
      "*               *   * * * * * * * *                     *\n",
      "* * * * * * * * *   * * * * * * * * *                   *\n"
     ]
    }
   ],
   "source": [
    "def square_hollow_lines(n):\n",
    "    return [' '.join('*' if (i==0 or i==n-1 or j==0 or j==n-1) else ' ' for j in range(n))\n",
    "            for i in range(n)]\n",
    "\n",
    "def triangle_full_lines(n):\n",
    "    return [' '.join('*' if j <= i else ' ' for j in range(n)) for i in range(n)]\n",
    "\n",
    "def double_triangle_lines(n, offset=1):\n",
    "    \"\"\"\n",
    "    Hai tam giác rỗng dính đáy.\n",
    "    offset controls how much the lower-triangle left edge is shifted to the right:\n",
    "      offset = 0 -> left edge at j == i\n",
    "      offset = 1 -> left edge at j == i + 1  (the version you asked)\n",
    "    \"\"\"\n",
    "    mid = n // 2\n",
    "    lines = []\n",
    "    for i in range(n):\n",
    "        row = []\n",
    "        for j in range(n):\n",
    "            if i < mid:\n",
    "                # tam giác trên: cạnh trái + đường chéo xuống\n",
    "                if j == 0 or j == i:\n",
    "                    row.append('*')\n",
    "                else:\n",
    "                    row.append(' ')\n",
    "            elif i == mid:\n",
    "                # hàng giữa: full\n",
    "                row.append('*')\n",
    "            else:\n",
    "                # tam giác dưới: cạnh phải luôn ở j == n-1,\n",
    "                # và đường chéo từ giữa đi ra phải: j == i + offset\n",
    "                if j == n - 1 or j == i + offset:\n",
    "                    row.append('*')\n",
    "                else:\n",
    "                    row.append(' ')\n",
    "        lines.append(' '.join(row))\n",
    "    return lines\n",
    "\n",
    "def print_three_horizontal(n, offset=1, gap='   '):\n",
    "    A = square_hollow_lines(n)\n",
    "    B = triangle_full_lines(n)\n",
    "    C = double_triangle_lines(n, offset=offset)\n",
    "    for i in range(n):\n",
    "        print(A[i] + gap + B[i] + gap + C[i])\n",
    "\n",
    "# ==== demo ====\n",
    "n = 9          # bạn thay n tùy ý (n >= 3). Mình demo n=9.\n",
    "print(\"\\n--- offset = 0 (no shift) ---\")\n",
    "print_three_horizontal(n, offset=0)\n",
    "\n",
    "print(\"\\n--- offset = 1 (shift lower-triangle right by 1) ---\")\n",
    "print_three_horizontal(n, offset=1)\n"
   ]
  }
 ],
 "metadata": {
  "kernelspec": {
   "display_name": "Python 3",
   "language": "python",
   "name": "python3"
  },
  "language_info": {
   "codemirror_mode": {
    "name": "ipython",
    "version": 3
   },
   "file_extension": ".py",
   "mimetype": "text/x-python",
   "name": "python",
   "nbconvert_exporter": "python",
   "pygments_lexer": "ipython3",
   "version": "3.13.7"
  }
 },
 "nbformat": 4,
 "nbformat_minor": 5
}
