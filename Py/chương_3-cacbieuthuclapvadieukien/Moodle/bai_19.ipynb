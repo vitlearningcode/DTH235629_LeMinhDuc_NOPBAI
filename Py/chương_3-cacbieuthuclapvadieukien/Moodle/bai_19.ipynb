{
 "cells": [
  {
   "cell_type": "code",
   "execution_count": 1,
   "id": "904d60b1",
   "metadata": {},
   "outputs": [
    {
     "name": "stdout",
     "output_type": "stream",
     "text": [
      "1.1752011934824436\n"
     ]
    }
   ],
   "source": [
    "\n",
    "def S_easy(x, n):\n",
    "    def factorial(m):\n",
    "        f = 1\n",
    "        for i in range(2, m+1):\n",
    "            f *= i\n",
    "        return f\n",
    "\n",
    "    s = 0.0\n",
    "    for k in range(0, n+1):         # k chạy từ 0..n, mũ = 2k+1\n",
    "        power = x ** (2*k + 1)\n",
    "        denom = factorial(2*k + 1)\n",
    "        s += power / denom\n",
    "    return s\n",
    "\n",
    "\n",
    "print(S_easy(1.0, 5))   # nghiệm gần sinh(1) xấp xỉ\n"
   ]
  },
  {
   "cell_type": "code",
   "execution_count": 2,
   "id": "d0592a30",
   "metadata": {},
   "outputs": [
    {
     "name": "stdout",
     "output_type": "stream",
     "text": [
      "1.1752011934824436\n"
     ]
    }
   ],
   "source": [
    "\n",
    "import math\n",
    "\n",
    "def S_mathfactorial(x, n):\n",
    "    s = 0.0\n",
    "    for k in range(0, n+1):\n",
    "        s += (x ** (2*k + 1)) / math.factorial(2*k + 1)\n",
    "    return s\n",
    "\n",
    "# Ví dụ\n",
    "print(S_mathfactorial(1.0, 5))\n"
   ]
  },
  {
   "cell_type": "code",
   "execution_count": 3,
   "id": "9cc25bc3",
   "metadata": {},
   "outputs": [
    {
     "name": "stdout",
     "output_type": "stream",
     "text": [
      "1.1752011934824436\n"
     ]
    }
   ],
   "source": [
    "# MỨC TỐI ƯU (không tính lại pow/factorial mỗi lần)\n",
    "def S_optimal(x, n):\n",
    "    s = 0.0\n",
    "    t = x   # t0 = x^(2*0+1)/(2*0+1)! = x/1 = x\n",
    "    s += t\n",
    "    for k in range(0, n):   # đã cộng k=0, cần cập nhật n lần để đạt đến k=n\n",
    "        # công thức chuyển t_k -> t_{k+1}\n",
    "        denom_factor = (2*k + 2) * (2*k + 3)\n",
    "        t = t * (x * x) / denom_factor\n",
    "        s += t\n",
    "    return s\n",
    "\n",
    "# Ví dụ\n",
    "print(S_optimal(1.0, 5))\n"
   ]
  }
 ],
 "metadata": {
  "kernelspec": {
   "display_name": "Python 3",
   "language": "python",
   "name": "python3"
  },
  "language_info": {
   "codemirror_mode": {
    "name": "ipython",
    "version": 3
   },
   "file_extension": ".py",
   "mimetype": "text/x-python",
   "name": "python",
   "nbconvert_exporter": "python",
   "pygments_lexer": "ipython3",
   "version": "3.13.7"
  }
 },
 "nbformat": 4,
 "nbformat_minor": 5
}
