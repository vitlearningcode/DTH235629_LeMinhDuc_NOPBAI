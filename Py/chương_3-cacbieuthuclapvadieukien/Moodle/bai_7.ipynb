{
 "cells": [
  {
   "cell_type": "markdown",
   "id": "b07072ef",
   "metadata": {},
   "source": [
    "Câu 7: Nhập vào một ngày (ngày, tháng, năm). Tìm ngày kế sau ngày vừa nhập (ngày/tháng/năm)."
   ]
  },
  {
   "cell_type": "code",
   "execution_count": 1,
   "id": "4d926d20",
   "metadata": {},
   "outputs": [
    {
     "name": "stdout",
     "output_type": "stream",
     "text": [
      "(29, 2, 2024)\n",
      "(1, 1, 2024)\n"
     ]
    }
   ],
   "source": [
    "#chill chill\n",
    "def la_nam_nhuan(nam):\n",
    "    return (nam % 400 == 0) or (nam % 4 == 0 and nam % 100 != 0)\n",
    "\n",
    "def ngay_ke_tiep_easy(ngay, thang, nam):\n",
    "    # số ngày trong từng tháng\n",
    "    ngay_thang = [0, 31, 28, 31, 30, 31, 30,\n",
    "                     31, 31, 30, 31, 30, 31]\n",
    "    if la_nam_nhuan(nam):\n",
    "        ngay_thang[2] = 29\n",
    "    \n",
    "    if ngay < ngay_thang[thang]:\n",
    "        ngay += 1\n",
    "    else:\n",
    "        ngay = 1\n",
    "        if thang == 12:\n",
    "            thang = 1\n",
    "            nam += 1\n",
    "        else:\n",
    "            thang += 1\n",
    "    return ngay, thang, nam\n",
    "\n",
    "# Test\n",
    "print(ngay_ke_tiep_easy(28, 2, 2024))  # -> (29, 2, 2024)\n",
    "print(ngay_ke_tiep_easy(31, 12, 2023)) # -> (1, 1, 2024)\n"
   ]
  },
  {
   "cell_type": "code",
   "execution_count": 2,
   "id": "b4254682",
   "metadata": {},
   "outputs": [
    {
     "name": "stdout",
     "output_type": "stream",
     "text": [
      "\n",
      "--- vàaaaaa ---\n",
      "28/02/2023 -> 01/03/2023\n",
      "28/02/2024 -> 29/02/2024\n",
      "31/12/2023 -> 01/01/2024\n",
      "30/04/2024 -> 01/05/2024\n"
     ]
    }
   ],
   "source": [
    "# \n",
    "def la_nam_nhuan(nam):\n",
    "    return (nam % 400 == 0) or (nam % 4 == 0 and nam % 100 != 0)\n",
    "\n",
    "def so_ngay_trong_thang(thang, nam):\n",
    "    if thang == 2:\n",
    "        return 29 if la_nam_nhuan(nam) else 28\n",
    "    if thang in [1,3,5,7,8,10,12]:\n",
    "        return 31\n",
    "    return 30\n",
    "\n",
    "def ngay_ke_tiep(ngay, thang, nam):\n",
    "    if ngay < so_ngay_trong_thang(thang, nam):\n",
    "        return ngay+1, thang, nam\n",
    "    elif thang < 12:\n",
    "        return 1, thang+1, nam\n",
    "    else:\n",
    "        return 1, 1, nam+1\n",
    "\n",
    "# Test list\n",
    "tests = [(28,2,2023), (28,2,2024), (31,12,2023), (30,4,2024)]\n",
    "print(\"\\n--- vàaaaaa ---\")\n",
    "for d,m,y in tests:\n",
    "    nd, nm, ny = ngay_ke_tiep(d,m,y)\n",
    "    print(f\"{d:02}/{m:02}/{y} -> {nd:02}/{nm:02}/{ny}\")\n"
   ]
  },
  {
   "cell_type": "code",
   "execution_count": 3,
   "id": "33b54a5b",
   "metadata": {},
   "outputs": [
    {
     "name": "stdout",
     "output_type": "stream",
     "text": [
      "\n",
      "--- Kết quả tối ưu ---\n",
      "28/02/2023 -> (1, 3, 2023)\n",
      "28/02/2024 -> (29, 2, 2024)\n",
      "31/12/2023 -> (1, 1, 2024)\n"
     ]
    }
   ],
   "source": [
    "from datetime import date, timedelta\n",
    "\n",
    "# thử datetime\n",
    "def ngay_ke_tiep_opt(ngay, thang, nam):\n",
    "    d = date(nam, thang, ngay)\n",
    "    d_next = d + timedelta(days=1)\n",
    "    return d_next.day, d_next.month, d_next.year\n",
    "\n",
    "# Test \n",
    "print(\"\\n--- Kết quả tối ưu ---\")\n",
    "for d,m,y in [(28,2,2023), (28,2,2024), (31,12,2023)]:\n",
    "    print(f\"{d:02}/{m:02}/{y} -> {ngay_ke_tiep_opt(d,m,y)}\")\n"
   ]
  }
 ],
 "metadata": {
  "kernelspec": {
   "display_name": "Python 3",
   "language": "python",
   "name": "python3"
  },
  "language_info": {
   "codemirror_mode": {
    "name": "ipython",
    "version": 3
   },
   "file_extension": ".py",
   "mimetype": "text/x-python",
   "name": "python",
   "nbconvert_exporter": "python",
   "pygments_lexer": "ipython3",
   "version": "3.13.7"
  }
 },
 "nbformat": 4,
 "nbformat_minor": 5
}
