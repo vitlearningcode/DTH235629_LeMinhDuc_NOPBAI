{
 "cells": [
  {
   "cell_type": "markdown",
   "id": "40ea1c99",
   "metadata": {},
   "source": [
    "Câu 9: Nhập vào 1 tháng, xuất ra tháng đó thuộc quý mấy trong năm."
   ]
  },
  {
   "cell_type": "code",
   "execution_count": 1,
   "id": "38745aad",
   "metadata": {},
   "outputs": [
    {
     "name": "stdout",
     "output_type": "stream",
     "text": [
      "Tháng 1 -> Quý 1\n",
      "Tháng 5 -> Quý 2\n",
      "Tháng 8 -> Quý 3\n",
      "Tháng 12 -> Quý 4\n",
      "Tháng 15 -> Tháng không hợp lệ\n"
     ]
    }
   ],
   "source": [
    "# if elseeeeee\n",
    "def tim_quy_easy(thang):\n",
    "    if 1 <= thang <= 3:\n",
    "        return \"Quý 1\"\n",
    "    elif 4 <= thang <= 6:\n",
    "        return \"Quý 2\"\n",
    "    elif 7 <= thang <= 9:\n",
    "        return \"Quý 3\"\n",
    "    elif 10 <= thang <= 12:\n",
    "        return \"Quý 4\"\n",
    "    else:\n",
    "        return \"Tháng không hợp lệ\"\n",
    "\n",
    "# cề ba\n",
    "for t in [1, 5, 8, 12, 15]:\n",
    "    print(f\"Tháng {t} -> {tim_quy_easy(t)}\")\n"
   ]
  },
  {
   "cell_type": "code",
   "execution_count": 2,
   "id": "1a62fb53",
   "metadata": {},
   "outputs": [
    {
     "name": "stdout",
     "output_type": "stream",
     "text": [
      "\n",
      "--- Kết quả mức khó ---\n",
      "Tháng  1 -> Quý 1\n",
      "Tháng  2 -> Quý 1\n",
      "Tháng  3 -> Quý 1\n",
      "Tháng  4 -> Quý 2\n",
      "Tháng  5 -> Quý 2\n",
      "Tháng  6 -> Quý 2\n",
      "Tháng  7 -> Quý 3\n",
      "Tháng  8 -> Quý 3\n",
      "Tháng  9 -> Quý 3\n",
      "Tháng 10 -> Quý 4\n",
      "Tháng 11 -> Quý 4\n",
      "Tháng 12 -> Quý 4\n"
     ]
    }
   ],
   "source": [
    "# (thang - 1)//3 + 1\n",
    "def tim_quy(thang):\n",
    "    if 1 <= thang <= 12:\n",
    "        return f\"Quý {(thang - 1)//3 + 1}\"\n",
    "    return \"Tháng không hợp lệ\"\n",
    "\n",
    "print(\"\\n--- Kết quả mức khó ---\")\n",
    "for t in range(1, 13):\n",
    "    print(f\"Tháng {t:2} -> {tim_quy(t)}\")\n"
   ]
  },
  {
   "cell_type": "code",
   "execution_count": null,
   "id": "143dd64b",
   "metadata": {},
   "outputs": [],
   "source": []
  }
 ],
 "metadata": {
  "kernelspec": {
   "display_name": "Python 3",
   "language": "python",
   "name": "python3"
  },
  "language_info": {
   "codemirror_mode": {
    "name": "ipython",
    "version": 3
   },
   "file_extension": ".py",
   "mimetype": "text/x-python",
   "name": "python",
   "nbconvert_exporter": "python",
   "pygments_lexer": "ipython3",
   "version": "3.13.7"
  }
 },
 "nbformat": 4,
 "nbformat_minor": 5
}
