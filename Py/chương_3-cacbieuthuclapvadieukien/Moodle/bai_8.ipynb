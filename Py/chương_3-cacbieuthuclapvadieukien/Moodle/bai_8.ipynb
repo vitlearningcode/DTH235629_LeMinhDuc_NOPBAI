{
 "cells": [
  {
   "cell_type": "markdown",
   "id": "81aa63b6",
   "metadata": {},
   "source": [
    "Câu 8: Nhập vào 2 giá trị a, b và phép toán ‘+’, ‘-’, ‘*’, ‘/’ . Hãy xuất kết quả theo đúng phép toán đã nhập"
   ]
  },
  {
   "cell_type": "code",
   "execution_count": 1,
   "id": "2c78b2b9",
   "metadata": {},
   "outputs": [
    {
     "name": "stdout",
     "output_type": "stream",
     "text": [
      "8\n",
      "2\n",
      "15\n",
      "Lỗi: chia cho 0\n"
     ]
    }
   ],
   "source": [
    "# chill tiếp\n",
    "def may_tinh_easy(a, b, op):\n",
    "    if op == '+':\n",
    "        return a + b\n",
    "    elif op == '-':\n",
    "        return a - b\n",
    "    elif op == '*':\n",
    "        return a * b\n",
    "    elif op == '/':\n",
    "        if b == 0:\n",
    "            return \"Lỗi: chia cho 0\"\n",
    "        return a / b\n",
    "    else:\n",
    "        return \"Phép toán không hợp lệ\"\n",
    "\n",
    "# Test\n",
    "print(may_tinh_easy(5, 3, '+'))  # 8\n",
    "print(may_tinh_easy(5, 3, '-'))  # 2\n",
    "print(may_tinh_easy(5, 3, '*'))  # 15\n",
    "print(may_tinh_easy(5, 0, '/'))  # Lỗi chia 0\n"
   ]
  },
  {
   "cell_type": "code",
   "execution_count": null,
   "id": "86cb6241",
   "metadata": {},
   "outputs": [
    {
     "name": "stdout",
     "output_type": "stream",
     "text": [
      "\n",
      "--- Kết quả mức khó ---\n",
      "5 + 3 = 8\n",
      "5 - 3 = 2\n",
      "5 * 3 = 15\n",
      "5 / 0 = Lỗi: chia cho 0\n",
      "5 / 2 = 2.5\n",
      "5 ^ 3 = Phép toán không hợp lệ\n"
     ]
    }
   ],
   "source": [
    "# high\n",
    "def may_tinh(a, b, op):\n",
    "    phep_toan = {\n",
    "        '+': lambda x, y: x + y,\n",
    "        '-': lambda x, y: x - y,\n",
    "        '*': lambda x, y: x * y,\n",
    "        '/': lambda x, y: \"Lỗi: chia cho 0\" if y == 0 else x / y\n",
    "    }\n",
    "    return phep_toan.get(op, lambda x, y: \"Phép toán không hợp lệ\")(a, b)\n",
    "\n",
    "# Test\n",
    "tests = [(5,3,'+'), (5,3,'-'), (5,3,'*'), (5,0,'/'), (5,2,'/'), (5,3,'^')]\n",
    "print(\"\\n--- kq ---\")\n",
    "for a,b,op in tests:\n",
    "    print(f\"{a} {op} {b} = {may_tinh(a,b,op)}\")\n"
   ]
  },
  {
   "cell_type": "code",
   "execution_count": null,
   "id": "4f41d7f2",
   "metadata": {},
   "outputs": [
    {
     "name": "stdout",
     "output_type": "stream",
     "text": [
      "\n",
      "--- Kết quả tối ưu ---\n",
      "7 + 2 = 9\n",
      "7 - 2 = 5\n",
      "7 * 2 = 14\n",
      "7 / 0 = Lỗi: chia cho 0\n",
      "7 / 2 = 3.5\n"
     ]
    }
   ],
   "source": [
    "#eval() rất tiện nhưng nguy hiểm nếu để nhập trực tiếp từ người dùng. Ở đây ta lọc toán tử trước để đảm bảo an toàn.\n",
    "# chat =)))\n",
    "def may_tinh_opt(a, b, op):\n",
    "    if op not in ['+', '-', '*', '/']:\n",
    "        return \"Phép toán không hợp lệ\"\n",
    "    try:\n",
    "        return eval(f\"{a}{op}{b}\")\n",
    "    except ZeroDivisionError:\n",
    "        return \"Lỗi: chia cho 0\"\n",
    "\n",
    "# Test\n",
    "print(\"\\n--- nè u ---\")\n",
    "for a,b,op in [(7,2,'+'), (7,2,'-'), (7,2,'*'), (7,0,'/'), (7,2,'/')]:\n",
    "    print(f\"{a} {op} {b} = {may_tinh_opt(a,b,op)}\")\n"
   ]
  }
 ],
 "metadata": {
  "kernelspec": {
   "display_name": "Python 3",
   "language": "python",
   "name": "python3"
  },
  "language_info": {
   "codemirror_mode": {
    "name": "ipython",
    "version": 3
   },
   "file_extension": ".py",
   "mimetype": "text/x-python",
   "name": "python",
   "nbconvert_exporter": "python",
   "pygments_lexer": "ipython3",
   "version": "3.13.7"
  }
 },
 "nbformat": 4,
 "nbformat_minor": 5
}
