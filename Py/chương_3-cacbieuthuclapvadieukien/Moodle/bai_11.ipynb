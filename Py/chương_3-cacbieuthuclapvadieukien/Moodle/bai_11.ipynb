{
 "cells": [
  {
   "cell_type": "markdown",
   "id": "971dc6e6",
   "metadata": {},
   "source": [
    "PTBac2"
   ]
  },
  {
   "cell_type": "code",
   "execution_count": 3,
   "id": "72b8ff83",
   "metadata": {},
   "outputs": [
    {
     "name": "stdout",
     "output_type": "stream",
     "text": [
      "2 Là số nguyên tố\n",
      "BYE!\n"
     ]
    }
   ],
   "source": [
    "while True: \n",
    "    n=int(input(\"Nhập 1 số nguyên dương\")) \n",
    "    dem=0 \n",
    "    for i in range(1,n+1): \n",
    " \n",
    "        if n % i ==0 : \n",
    "            dem+=1 \n",
    "    if dem==2: \n",
    "        print(n,\"Là số nguyên tố\") \n",
    "    else: \n",
    "        print(n,\"Không là số nguyên tố\") \n",
    "    hoi=input(\"Tiếp không Thím?(c/k):\") \n",
    "    if hoi == \"k\": \n",
    "        break \n",
    "print(\"BYE!\")"
   ]
  },
  {
   "cell_type": "code",
   "execution_count": 1,
   "id": "31bb7266",
   "metadata": {},
   "outputs": [
    {
     "name": "stdout",
     "output_type": "stream",
     "text": [
      "3 là số nguyên tố\n",
      "1 không là số nguyên tố\n",
      "BYE!\n"
     ]
    }
   ],
   "source": [
    "while True:\n",
    "    n = int(input(\"Nhập 1 số nguyên dương: \"))\n",
    "    dem = 0\n",
    "    for i in range(1, n+1):\n",
    "        if n % i == 0:\n",
    "            dem += 1\n",
    "    if dem == 2:\n",
    "        print(n, \"là số nguyên tố\")\n",
    "    else:\n",
    "        print(n, \"không là số nguyên tố\")\n",
    "    \n",
    "    hoi = input(\"Tiếp không Thím? (c/k): \")\n",
    "    if hoi == \"k\":\n",
    "        break\n",
    "\n",
    "print(\"BYE!\")\n"
   ]
  },
  {
   "cell_type": "code",
   "execution_count": 7,
   "id": "433fba52",
   "metadata": {},
   "outputs": [
    {
     "name": "stdout",
     "output_type": "stream",
     "text": [
      "5 là số nguyên tố\n",
      "BYE!\n"
     ]
    }
   ],
   "source": [
    "#ngựa\n",
    "import math\n",
    "\n",
    "while True:\n",
    "    n = int(input(\"Nhập 1 số nguyên dương: \"))\n",
    "    \n",
    "    if n < 2:\n",
    "        print(n, \"không là số nguyên tố\")\n",
    "    else:\n",
    "        la_nguyen_to = True\n",
    "        for i in range(2, int(math.sqrt(n)) + 1):\n",
    "            if n % i == 0:\n",
    "                la_nguyen_to = False\n",
    "                break\n",
    "        if la_nguyen_to:\n",
    "            print(n, \"là số nguyên tố\")\n",
    "        else:\n",
    "            print(n, \"không là số nguyên tố\")\n",
    "    \n",
    "    hoi = input(\"Tiếp không Thím? (c/k): \")\n",
    "    if hoi.lower() == \"k\":   # cho phép nhập \"K\" cũng thoát\n",
    "        break\n",
    "\n",
    "print(\"BYE!\")\n"
   ]
  }
 ],
 "metadata": {
  "kernelspec": {
   "display_name": "Python 3",
   "language": "python",
   "name": "python3"
  },
  "language_info": {
   "codemirror_mode": {
    "name": "ipython",
    "version": 3
   },
   "file_extension": ".py",
   "mimetype": "text/x-python",
   "name": "python",
   "nbconvert_exporter": "python",
   "pygments_lexer": "ipython3",
   "version": "3.13.7"
  }
 },
 "nbformat": 4,
 "nbformat_minor": 5
}
