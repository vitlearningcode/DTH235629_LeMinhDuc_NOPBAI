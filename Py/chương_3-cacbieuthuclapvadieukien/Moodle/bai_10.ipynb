{
 "cells": [
  {
   "cell_type": "code",
   "execution_count": 1,
   "id": "4e414dd0",
   "metadata": {},
   "outputs": [
    {
     "name": "stdout",
     "output_type": "stream",
     "text": [
      "s(3,2)=7.5\n"
     ]
    }
   ],
   "source": [
    "#của thầy\n",
    "x=int(input(\"Nhập x:\")) \n",
    "n=int(input(\"Nhập N:\")) \n",
    "s=0 \n",
    "for i in range(1,n+1): \n",
    "    tu=x**i \n",
    "    mau=1 \n",
    "    for j in range(1,i+1): \n",
    "        mau=mau*j \n",
    "    s=s+(tu/mau) \n",
    "print(\"s({0},{1})={2}\".format(x,n,s)) "
   ]
  },
  {
   "cell_type": "code",
   "execution_count": 2,
   "id": "a2ff111a",
   "metadata": {},
   "outputs": [
    {
     "name": "stdout",
     "output_type": "stream",
     "text": [
      "s(3,2)=7.5\n"
     ]
    }
   ],
   "source": [
    "def giai_thua(k):\n",
    "    gt = 1\n",
    "    for i in range(1, k+1):\n",
    "        gt *= i\n",
    "    return gt\n",
    "\n",
    "x=int(input(\"Nhập x:\"))\n",
    "n=int(input(\"Nhập n:\"))\n",
    "s=0\n",
    "for i in range(1,n+1):\n",
    "    s += (x**i) / giai_thua(i)\n",
    "print(f\"s({x},{n})={s}\")\n"
   ]
  },
  {
   "cell_type": "code",
   "execution_count": 3,
   "id": "7cf2d88c",
   "metadata": {},
   "outputs": [
    {
     "name": "stdout",
     "output_type": "stream",
     "text": [
      "s(3,2)=7.5\n"
     ]
    }
   ],
   "source": [
    "import math\n",
    "\n",
    "x=int(input(\"Nhập x:\"))\n",
    "n=int(input(\"Nhập n:\"))\n",
    "\n",
    "s = sum((x**i)/math.factorial(i) for i in range(1,n+1))\n",
    "print(f\"s({x},{n})={s}\")\n"
   ]
  }
 ],
 "metadata": {
  "kernelspec": {
   "display_name": "Python 3",
   "language": "python",
   "name": "python3"
  },
  "language_info": {
   "codemirror_mode": {
    "name": "ipython",
    "version": 3
   },
   "file_extension": ".py",
   "mimetype": "text/x-python",
   "name": "python",
   "nbconvert_exporter": "python",
   "pygments_lexer": "ipython3",
   "version": "3.13.7"
  }
 },
 "nbformat": 4,
 "nbformat_minor": 5
}
