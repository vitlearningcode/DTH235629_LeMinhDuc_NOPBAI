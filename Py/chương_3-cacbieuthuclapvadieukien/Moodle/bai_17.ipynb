{
 "cells": [
  {
   "cell_type": "code",
   "execution_count": 4,
   "id": "c2d35ee8",
   "metadata": {},
   "outputs": [
    {
     "name": "stdout",
     "output_type": "stream",
     "text": [
      "n = 3\n",
      "n = 5\n",
      "n = 4\n",
      "n = 3\n",
      "n = 2\n",
      "n = 3\n",
      "n = 100\n"
     ]
    }
   ],
   "source": [
    "done= False\n",
    "n, m = 0, 100\n",
    "while not done and n != m:\n",
    "    n =int(input())\n",
    "    \n",
    "    if n < 0:\n",
    "        done = True\n",
    "    print(\"n =\" , n)"
   ]
  },
  {
   "cell_type": "code",
   "execution_count": 5,
   "id": "8db9dc70",
   "metadata": {},
   "outputs": [
    {
     "name": "stdout",
     "output_type": "stream",
     "text": [
      "n = 4\n",
      "n = 3\n",
      "n = 1\n",
      "n = 90\n",
      "n = 100\n"
     ]
    }
   ],
   "source": [
    "done= False\n",
    "n, m = 0, 100\n",
    "while not done and n != m:\n",
    "    n =int(input())\n",
    "    \n",
    "    if n < 0:\n",
    "       break\n",
    "    print(\"n =\" , n)"
   ]
  }
 ],
 "metadata": {
  "kernelspec": {
   "display_name": "Python 3",
   "language": "python",
   "name": "python3"
  },
  "language_info": {
   "codemirror_mode": {
    "name": "ipython",
    "version": 3
   },
   "file_extension": ".py",
   "mimetype": "text/x-python",
   "name": "python",
   "nbconvert_exporter": "python",
   "pygments_lexer": "ipython3",
   "version": "3.13.7"
  }
 },
 "nbformat": 4,
 "nbformat_minor": 5
}
