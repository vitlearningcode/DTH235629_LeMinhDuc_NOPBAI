{
 "cells": [
  {
   "cell_type": "code",
   "execution_count": 1,
   "id": "8d38c556",
   "metadata": {},
   "outputs": [
    {
     "name": "stdout",
     "output_type": "stream",
     "text": [
      "3\n",
      "5\n",
      "2\n"
     ]
    }
   ],
   "source": [
    "def is_prime(x):\n",
    "    if x < 2:\n",
    "        return False\n",
    "    for i in range(2, int(x**0.5) + 1):\n",
    "        if x % i == 0:\n",
    "            return False\n",
    "    return True\n",
    "\n",
    "def f(m, n):\n",
    "    ucln = min(m, n)\n",
    "    for i in range(ucln, 1, -1): \n",
    "        if m % i == 0 and n % i == 0 and is_prime(i):\n",
    "            return i\n",
    "    return 0\n",
    "\n",
    "# đề pa thử =)))\n",
    "print(f(12, 18))  # 3\n",
    "print(f(35, 50))  # 5\n",
    "print(f(8, 20))   # 2\n"
   ]
  },
  {
   "cell_type": "code",
   "execution_count": null,
   "id": "ab63e0fa",
   "metadata": {},
   "outputs": [
    {
     "name": "stdout",
     "output_type": "stream",
     "text": [
      "3\n",
      "5\n",
      "2\n"
     ]
    }
   ],
   "source": [
    "#GPT - xem sau\n",
    "import math\n",
    "\n",
    "def is_prime(x):\n",
    "    if x < 2:\n",
    "        return False\n",
    "    for i in range(2, int(math.isqrt(x)) + 1):\n",
    "        if x % i == 0:\n",
    "            return False\n",
    "    return True\n",
    "\n",
    "def f(m, n):\n",
    "    g = math.gcd(m, n)\n",
    "    \n",
    "    \n",
    "    # Tìm số nguyên tố lớn nhất chia g\n",
    "    for i in range(int(math.isqrt(g)), 1, -1):\n",
    "        if g % i == 0:\n",
    "            if is_prime(g // i):\n",
    "                return g // i\n",
    "            if is_prime(i):\n",
    "                return i\n",
    "    return g if is_prime(g) else 0\n",
    "\n",
    "# Test\n",
    "print(f(12, 18))  # 3\n",
    "print(f(35, 50))  # 5\n",
    "print(f(8, 20))   # 2\n"
   ]
  },
  {
   "cell_type": "code",
   "execution_count": null,
   "id": "fa723db1",
   "metadata": {},
   "outputs": [],
   "source": [
    "import math\n",
    "\n",
    "def f(m, n):\n",
    "    g = math.gcd(m, n)\n",
    "    if g < 2:\n",
    "        return 0\n",
    "    max_prime = 0\n",
    "    d = 2\n",
    "    while d * d <= g:\n",
    "        while g % d == 0:\n",
    "            max_prime = d\n",
    "            g //= d\n",
    "        d += 1 if d == 2 else 2  # sau 2 thì chỉ duyệt số lẻ\n",
    "    if g > 1:\n",
    "        max_prime = g\n",
    "    return int(max_prime)\n",
    "\n",
    "#hong biết đúnghong nữaaaa =)))\n",
    "print(f(12, 18))  # 3\n",
    "print(f(35, 50))  # 5\n",
    "print(f(8, 20))   # 2\n",
    "print(f(17, 34))  # 17\n",
    "print(f(14, 15))  # 0\n"
   ]
  }
 ],
 "metadata": {
  "kernelspec": {
   "display_name": "Python 3",
   "language": "python",
   "name": "python3"
  },
  "language_info": {
   "codemirror_mode": {
    "name": "ipython",
    "version": 3
   },
   "file_extension": ".py",
   "mimetype": "text/x-python",
   "name": "python",
   "nbconvert_exporter": "python",
   "pygments_lexer": "ipython3",
   "version": "3.13.7"
  }
 },
 "nbformat": 4,
 "nbformat_minor": 5
}
