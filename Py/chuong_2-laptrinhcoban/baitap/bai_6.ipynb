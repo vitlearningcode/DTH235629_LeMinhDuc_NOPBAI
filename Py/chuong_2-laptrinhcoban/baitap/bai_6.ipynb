{
 "cells": [
  {
   "cell_type": "code",
   "execution_count": 13,
   "id": "38e90845",
   "metadata": {},
   "outputs": [
    {
     "name": "stdout",
     "output_type": "stream",
     "text": [
      "Phương trình có 2 nghiệm phân biệt: x1 =  -0.5 , x2 =  -1.0\n"
     ]
    }
   ],
   "source": [
    "import math\n",
    "\n",
    "a = float (input (\"Nhập a: \"))\n",
    "b = float (input (\"Nhập b: \"))\n",
    "c = float (input (\"Nhập c: \"))\n",
    "\n",
    "if a == 0:\n",
    "    print (\"Đây không phải phương trình bậc 2\") \n",
    "else:\n",
    "    delta = b**2 - 4*a*c\n",
    "    if delta < 0:\n",
    "        print (\"Phương trình vô nghiệm\")\n",
    "    elif delta == 0: \n",
    "        x = -b/(2*a)\n",
    "        print (\"Phương trình có nghiệm kép: x1 = x2 = \", x)\n",
    "    else:\n",
    "        x1 = (-b + math.sqrt(delta)) / (2*a)\n",
    "        x2 = (-b - math.sqrt(delta)) / (2*a)\n",
    "        print (\"Phương trình có 2 nghiệm phân biệt: x1 = \", x1, \", x2 = \", x2)"
   ]
  },
  {
   "cell_type": "code",
   "execution_count": 16,
   "id": "c580a406",
   "metadata": {},
   "outputs": [
    {
     "name": "stdout",
     "output_type": "stream",
     "text": [
      "Phương trình có 2 nghiệm phân biệt: x1 = -0.5, x2 = -1.0\n"
     ]
    }
   ],
   "source": [
    "import math\n",
    "\n",
    "def giai_pt_bac_2 (a,b,c ):\n",
    "    if a == 0:\n",
    "        return \"Đây không phải phương trình bậc 2\"\n",
    "    else:\n",
    "        delta = b**2 - 4*a*c\n",
    "        if delta < 0:\n",
    "            return \"Phương trình vô nghiệm\"\n",
    "        elif delta == 0: \n",
    "            x = -b/(2*a)\n",
    "            return \"Phương trình có nghiệm kép: x1 = x2 = \" + str(x)\n",
    "        else:\n",
    "            x1 = (-b + math.sqrt(delta)) / (2*a)\n",
    "            x2 = (-b - math.sqrt(delta)) / (2*a)\n",
    "            return \"Phương trình có 2 nghiệm phân biệt: x1 = \" + str(x1) + \", x2 = \" + str(x2)\n",
    "\n",
    "a = float (input (\"Nhập a: \"))\n",
    "b = float (input (\"Nhập b: \"))\n",
    "c = float (input (\"Nhập c: \"))\n",
    "print (giai_pt_bac_2(a,b,c))\n"
   ]
  }
 ],
 "metadata": {
  "kernelspec": {
   "display_name": "Python 3",
   "language": "python",
   "name": "python3"
  },
  "language_info": {
   "codemirror_mode": {
    "name": "ipython",
    "version": 3
   },
   "file_extension": ".py",
   "mimetype": "text/x-python",
   "name": "python",
   "nbconvert_exporter": "python",
   "pygments_lexer": "ipython3",
   "version": "3.13.5"
  }
 },
 "nbformat": 4,
 "nbformat_minor": 5
}
