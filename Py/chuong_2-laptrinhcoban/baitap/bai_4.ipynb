{
 "cells": [
  {
   "cell_type": "code",
   "execution_count": 3,
   "id": "4ff35b3d",
   "metadata": {},
   "outputs": [
    {
     "name": "stdout",
     "output_type": "stream",
     "text": [
      "Tháng 2 năm 1900 có 28 ngày\n"
     ]
    }
   ],
   "source": [
    "'''\n",
    "Nhập vào 1 tháng, xuất tháng đó có bao nhiêu ngày. Ví dụ tháng 1, \n",
    "3, 5, 7, 8, 10, 12 có 31 ngày. Tháng 4, 6, 9, 11 có 30 ngày. Nếu là \n",
    "tháng 2 thì yêu cầu nhập thêm năm. Năm nhuận thì tháng 2 có 29 \n",
    "ngày, không nhuần có 28 ngày.'''\n",
    "'''\n",
    "Chia hết cho 4 → là năm nhuận.\n",
    "\n",
    "Ngoại lệ: nếu chia hết cho 100 thì không nhuận.\n",
    "\n",
    "Ngoại lệ của ngoại lệ: nếu chia hết cho 400 thì vẫn nhuận.'''\n",
    "\n",
    "month = int (input (\"Nhập tháng (1-12):\"))\n",
    "\n",
    "if month in [1, 3, 5, 7, 8, 10, 12]:\n",
    "    print (\"Tháng\", month, \"có 31 ngày\")\n",
    "elif month in [4, 6, 9, 11]:\n",
    "    print (\"Tháng\", month, \"có 30 ngày\")\n",
    "elif month == 2:\n",
    "    year = int (input (\"Nhập năm:\"))\n",
    "    if (year % 4 == 0 and year % 100 != 0) or (year % 400 == 0):\n",
    "        print (\"Tháng 2 năm\", year, \"có 29 ngày\")\n",
    "    else:\n",
    "        print (\"Tháng 2 năm\", year, \"có 28 ngày\")\n",
    "else:\n",
    "    print (\"Tháng không hợp lệ\")"
   ]
  },
  {
   "cell_type": "code",
   "execution_count": 6,
   "id": "301dd84e",
   "metadata": {},
   "outputs": [
    {
     "name": "stdout",
     "output_type": "stream",
     "text": [
      "Tháng 12 có 31 ngày\n"
     ]
    }
   ],
   "source": [
    "def is_leap_year(year):\n",
    "    return (year % 4 == 0 and year % 100 != 0) or (year % 400 == 0)\n",
    "\n",
    "def days_in_month (month, year=None):\n",
    "    if month in [1, 3, 5, 7, 8, 10, 12]:\n",
    "        return 31\n",
    "    elif month in [4, 6, 9, 11]:\n",
    "        return 30\n",
    "    elif month == 2:\n",
    "        if year is None:\n",
    "            raise ValueError(\"Year must be provided for February\")\n",
    "        return 29 if is_leap_year(year) else 28\n",
    "    else:\n",
    "        raise ValueError(\"Invalid month\")\n",
    "\n",
    "try:\n",
    "    month = int(input(\"Nhập tháng (1-12): \"))\n",
    "    if month == 2:\n",
    "        year = int(input(\"Nhập năm: \"))\n",
    "        days = days_in_month(month, year)\n",
    "    else:\n",
    "        days = days_in_month(month)\n",
    "    print(f\"Tháng {month} có {days} ngày\")\n",
    "    \n",
    "except ValueError:\n",
    "    print(\"Dữ liệu nhập không hợp lệ\")"
   ]
  }
 ],
 "metadata": {
  "kernelspec": {
   "display_name": "Python 3",
   "language": "python",
   "name": "python3"
  },
  "language_info": {
   "codemirror_mode": {
    "name": "ipython",
    "version": 3
   },
   "file_extension": ".py",
   "mimetype": "text/x-python",
   "name": "python",
   "nbconvert_exporter": "python",
   "pygments_lexer": "ipython3",
   "version": "3.13.5"
  }
 },
 "nbformat": 4,
 "nbformat_minor": 5
}
