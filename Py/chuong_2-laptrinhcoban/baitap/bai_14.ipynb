{
 "cells": [
  {
   "cell_type": "code",
   "execution_count": 2,
   "id": "924adb72",
   "metadata": {},
   "outputs": [
    {
     "name": "stdout",
     "output_type": "stream",
     "text": [
      "6\n",
      "Bạn về nhà vào: Chủ nhật\n"
     ]
    }
   ],
   "source": [
    "start = \"Thứ Tư\"\n",
    "nights = 137\n",
    "\n",
    "thu = [\"Thứ Hai\", \"Thứ Ba\", \"Thứ Tư\", \"Thứ Năm\", \"Thứ Sáu\", \"Thứ Bảy\", \"Chủ nhật\"]\n",
    "idx_start = thu.index(start)\n",
    "idx_end = (idx_start + nights) % 7   # 137 đêm ~ 137 ngày\n",
    "print(idx_end)\n",
    "print(\"Bạn về nhà vào:\", thu[idx_end])  # -> Chủ nhật\n"
   ]
  },
  {
   "cell_type": "code",
   "execution_count": null,
   "id": "b6b07d5f",
   "metadata": {},
   "outputs": [],
   "source": [
    "def ngay_ve_nha(start_day: str, nights: int) -> str:\n",
    "    thu = [\"Thứ Hai\", \"Thứ Ba\", \"Thứ Tư\", \"Thứ Năm\", \"Thứ Sáu\", \"Thứ Bảy\", \"Chủ nhật\"]\n",
    "    if start_day not in thu:\n",
    "        return \"Ngày bắt đầu không hợp lệ\"\n",
    "    return thu[(thu.index(start_day) + nights) % 7]\n",
    "\n",
    "start = input(\"Nhập ngày bắt đầu (Thứ Hai ... Chủ nhật): \").strip()\n",
    "nights = int(input(\"Nhập số đêm đã ở: \"))\n",
    "print(\"Bạn về nhà vào:\", ngay_ve_nha(start, nights))\n"
   ]
  }
 ],
 "metadata": {
  "kernelspec": {
   "display_name": "Python 3",
   "language": "python",
   "name": "python3"
  },
  "language_info": {
   "codemirror_mode": {
    "name": "ipython",
    "version": 3
   },
   "file_extension": ".py",
   "mimetype": "text/x-python",
   "name": "python",
   "nbconvert_exporter": "python",
   "pygments_lexer": "ipython3",
   "version": "3.13.7"
  }
 },
 "nbformat": 4,
 "nbformat_minor": 5
}
