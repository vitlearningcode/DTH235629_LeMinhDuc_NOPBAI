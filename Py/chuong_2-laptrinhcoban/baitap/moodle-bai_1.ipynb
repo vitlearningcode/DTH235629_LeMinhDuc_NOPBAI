{
 "cells": [
  {
   "cell_type": "markdown",
   "id": "db90c553",
   "metadata": {},
   "source": [
    "Nhập bán kính đường tròn r. Tính và xuất chu vi, diện tích đường tròn tương ứng.  \n",
    "HD: cv=2*π*r và dt=π*r*r "
   ]
  },
  {
   "cell_type": "code",
   "execution_count": 1,
   "id": "d5ad1832",
   "metadata": {},
   "outputs": [
    {
     "name": "stdout",
     "output_type": "stream",
     "text": [
      "Chu vi = 12.566370614359172\n",
      "Diện tích= 4.0\n"
     ]
    }
   ],
   "source": [
    "import math \n",
    " \n",
    "try: \n",
    "    r=float(input(\"Mời bạn nhập bán kính hình tròn:\")) \n",
    "    cv=2*math.pi*r \n",
    "    dt=r**2 \n",
    "    print(\"Chu vi =\",cv) \n",
    "    print(\"Diện tích=\",dt) \n",
    "except: \n",
    "    print(\"Lỗi rồi!\")"
   ]
  }
 ],
 "metadata": {
  "kernelspec": {
   "display_name": "Python 3",
   "language": "python",
   "name": "python3"
  },
  "language_info": {
   "codemirror_mode": {
    "name": "ipython",
    "version": 3
   },
   "file_extension": ".py",
   "mimetype": "text/x-python",
   "name": "python",
   "nbconvert_exporter": "python",
   "pygments_lexer": "ipython3",
   "version": "3.13.7"
  }
 },
 "nbformat": 4,
 "nbformat_minor": 5
}
