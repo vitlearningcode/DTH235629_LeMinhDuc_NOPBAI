{
 "cells": [
  {
   "cell_type": "code",
   "execution_count": 4,
   "id": "23666740",
   "metadata": {},
   "outputs": [
    {
     "name": "stdout",
     "output_type": "stream",
     "text": [
      "mười ba\n"
     ]
    }
   ],
   "source": [
    "'''Nhập một số n có tối đa 2 chữ số. Hãy cho biết cách đọc ra dạng \n",
    "chữ.  Ví dụ: n=35 => Ba mươi lăm, n=5 => năm). '''\n",
    "\n",
    "n = int (input (\"Nhập số n: \"))\n",
    "\n",
    "number = [\"không\", \"một\", \"hai\", \"ba\", \"bốn\", \"năm\", \"sáu\", \"bảy\", \"tám\", \"chín\"]\n",
    "\n",
    "if 0 <= n < 10:\n",
    "    print (number[n])\n",
    "else: \n",
    "    chuc = n // 10\n",
    "    donvi = n % 10\n",
    "    if chuc == 1:\n",
    "        if donvi == 0:\n",
    "            print (\"mười\")\n",
    "        elif donvi == 5:\n",
    "            print (\"mười lăm\")\n",
    "        else:\n",
    "            print (\"mười\", number[donvi])\n",
    "    else:   \n",
    "        ketqua = number[chuc] + \" mươi\"\n",
    "        \n",
    "        if donvi == 1:\n",
    "            ketqua += \" mốt\"\n",
    "        elif donvi == 5:\n",
    "            ketqua += \" lăm\"\n",
    "        elif donvi != 0:\n",
    "            ketqua += \" \" + number[donvi]\n",
    "        print (ketqua)\n"
   ]
  },
  {
   "cell_type": "code",
   "execution_count": 7,
   "id": "0b2fad15",
   "metadata": {},
   "outputs": [
    {
     "name": "stdout",
     "output_type": "stream",
     "text": [
      "bốn mươi mốt\n"
     ]
    }
   ],
   "source": [
    "def doc_2chuso (n):\n",
    "    chuSo = [\"không\", \"một\", \"hai\", \"ba\", \"bốn\", \"năm\", \"sáu\", \"bảy\", \"tám\", \"chín\"]\n",
    "    \n",
    "    if n < 10:\n",
    "        return chuSo[n]\n",
    "    else:\n",
    "        chuc, donvi = divmod(n, 10)\n",
    "        if chuc == 1:\n",
    "            if donvi == 0:\n",
    "                return \"mười\"\n",
    "            elif donvi == 5:\n",
    "                return \"mười lăm\"\n",
    "            else:\n",
    "                return \"mười \" + chuSo[donvi]\n",
    "        else:\n",
    "            ketqua = chuSo[chuc] + \" mươi\"\n",
    "            if donvi == 1:\n",
    "                ketqua += \" mốt\"\n",
    "            elif donvi == 5:\n",
    "                ketqua += \" lăm\"\n",
    "            elif donvi != 0:\n",
    "                ketqua += \" \" + chuSo[donvi]\n",
    "            return ketqua\n",
    "\n",
    "n = int(input(\"Nhập số n: \"))\n",
    "print(doc_2chuso(n))"
   ]
  }
 ],
 "metadata": {
  "kernelspec": {
   "display_name": "Python 3",
   "language": "python",
   "name": "python3"
  },
  "language_info": {
   "codemirror_mode": {
    "name": "ipython",
    "version": 3
   },
   "file_extension": ".py",
   "mimetype": "text/x-python",
   "name": "python",
   "nbconvert_exporter": "python",
   "pygments_lexer": "ipython3",
   "version": "3.13.5"
  }
 },
 "nbformat": 4,
 "nbformat_minor": 5
}
