{
 "cells": [
  {
   "cell_type": "markdown",
   "id": "4b1b59ce",
   "metadata": {},
   "source": [
    "Tính điểm trung bình \n",
    "Yêu cầu: \n",
    "Viết chương trình nhập vào điểm ba môn Toán, Lý, Hóa của một học sinh. In ra \n",
    "điểm trung bình của học sinh đó với hai số lẻ thập phân."
   ]
  },
  {
   "cell_type": "code",
   "execution_count": 2,
   "id": "657484ff",
   "metadata": {},
   "outputs": [
    {
     "name": "stdout",
     "output_type": "stream",
     "text": [
      "Điểm trung bình= 9.666666666666666\n",
      "Điểm trung bình= 9.67\n"
     ]
    }
   ],
   "source": [
    "toan=float(input(\"Nhập điểm Toán:\")) \n",
    "ly=float(input(\"Nhập điểm lý:\")) \n",
    "hoa=float(input(\"Nhập điểm hóa:\")) \n",
    "dtb=(toan+ly+hoa)/3 \n",
    "print(\"Điểm trung bình=\",dtb) \n",
    "print(\"Điểm trung bình=\",round(dtb,2))"
   ]
  },
  {
   "cell_type": "code",
   "execution_count": null,
   "id": "c059fad0",
   "metadata": {},
   "outputs": [],
   "source": [
    "print(\"Chương trình tính điểm trung bình\") \n",
    "toan,ly,hoa=eval(input(\"Nhập điểm toán,lý,hóa:\")) \n",
    "print(\"Điểm toán=\",toan) \n",
    "print(\"Điểm lý=\",ly) \n",
    "print(\"Điểm hóa=\",hoa) \n",
    "dtb=(toan+ly+hoa)/3 \n",
    "print(\"Điểm trung bình=\",dtb) \n",
    "print(\"Điểm làm tròn=\",round(dtb,2)) "
   ]
  }
 ],
 "metadata": {
  "kernelspec": {
   "display_name": "Python 3",
   "language": "python",
   "name": "python3"
  },
  "language_info": {
   "codemirror_mode": {
    "name": "ipython",
    "version": 3
   },
   "file_extension": ".py",
   "mimetype": "text/x-python",
   "name": "python",
   "nbconvert_exporter": "python",
   "pygments_lexer": "ipython3",
   "version": "3.13.7"
  }
 },
 "nbformat": 4,
 "nbformat_minor": 5
}
