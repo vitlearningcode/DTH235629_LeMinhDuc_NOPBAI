{
 "cells": [
  {
   "cell_type": "code",
   "execution_count": null,
   "id": "0ac963bf",
   "metadata": {},
   "outputs": [],
   "source": [
    "n = int(input(\"Nhập số tự nhiên n: \"))\n",
    "\n",
    "#a\n",
    "tong_a = 0\n",
    "for i in range(1, 2*n + 1):\n",
    "    tong_a += i\n",
    "\n",
    "#b\n",
    "tong_b = 0\n",
    "for i in range (1, n):\n",
    "    if i % 2 != 0:\n",
    "        tong_b += i\n",
    "        \n",
    "#c\n",
    "tong_c = 0\n",
    "for i in range (1, n):\n",
    "    if i % 2 == 0:\n",
    "        tong_c += i\n",
    "\n",
    "print(\"Tổng a:\", tong_a)\n",
    "print(\"Tổng b:\", tong_b)\n",
    "print(\"Tổng c:\", tong_c)\n"
   ]
  },
  {
   "cell_type": "code",
   "execution_count": null,
   "id": "d4d93c0b",
   "metadata": {},
   "outputs": [],
   "source": [
    "def tinh_toan(n):\n",
    "    # a) Tổng 1+2+...+2n\n",
    "    S1 = n * (2*n + 1)   # vì (2n)(2n+1)/2 = n(2n+1)\n",
    "\n",
    "    # b) Tổng số lẻ < n\n",
    "    k = (n - 1) // 2     # số lượng số lẻ < n\n",
    "    S2 = k * k           # tổng k số lẻ đầu tiên\n",
    "\n",
    "    # c) Tổng số chẵn < n\n",
    "    if n % 2 == 0:\n",
    "        k = n//2 - 1     # số lượng số chẵn < n\n",
    "    else:\n",
    "        k = n//2\n",
    "    S3 = k * (k + 1)     # tổng k số chẵn đầu tiên\n",
    "\n",
    "    return S1, S2, S3\n",
    "\n",
    "\n",
    "n = int(input(\"Nhập n: \"))\n",
    "S1, S2, S3 = tinh_toan(n)\n",
    "\n",
    "print(f\"a) Tổng 1+2+...+2n = {S1}\")\n",
    "print(f\"b) Tổng số lẻ < {n} = {S2}\")\n",
    "print(f\"c) Tổng số chẵn < {n} = {S3}\")\n"
   ]
  }
 ],
 "metadata": {
  "language_info": {
   "name": "python"
  }
 },
 "nbformat": 4,
 "nbformat_minor": 5
}
