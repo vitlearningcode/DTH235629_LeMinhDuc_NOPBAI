{
 "cells": [
  {
   "cell_type": "code",
   "execution_count": 1,
   "id": "75510501",
   "metadata": {},
   "outputs": [
    {
     "name": "stdout",
     "output_type": "stream",
     "text": [
      "S = 15\n",
      "S1 = 25\n",
      "S2 = 30\n",
      "S3 = 55\n",
      "S4 = 2.283333333333333\n"
     ]
    }
   ],
   "source": [
    "'''\n",
    "Viết chương trình tính: \n",
    " S = 1 + 2 + ... + n \n",
    " S1 = 1 + 3 + ... + (2n - 1) \n",
    " S2 = 2 + 4 + ... + 2n \n",
    " S3 = 12 + 22 + ... + n2 \n",
    " S4 = 1/1 + 1/2 + ... + 1/n \n",
    "với n nguyên dương được nhập từ bàn phím. '''\n",
    "\n",
    "n = int(input(\"Nhập số nguyên dương n: \"))\n",
    "\n",
    "# S = 1 + 2 + ... + n\n",
    "S = 0\n",
    "for i in range(1, n+1):\n",
    "    S += i\n",
    "\n",
    "# S1 = 1 + 3 + 5 + ... + (2n-1)\n",
    "S1 = 0\n",
    "for i in range(1, 2*n, 2):\n",
    "    S1 += i\n",
    "\n",
    "# S2 = 2 + 4 + ... + 2n\n",
    "S2 = 0\n",
    "for i in range(2, 2*n+1, 2):\n",
    "    S2 += i\n",
    "\n",
    "# S3 = 1^2 + 2^2 + ... + n^2\n",
    "S3 = 0\n",
    "for i in range(1, n+1):\n",
    "    S3 += i**2\n",
    "\n",
    "# S4 = 1/1 + 1/2 + ... + 1/n\n",
    "S4 = 0\n",
    "for i in range(1, n+1):\n",
    "    S4 += 1/i\n",
    "\n",
    "print(\"S =\", S)\n",
    "print(\"S1 =\", S1)\n",
    "print(\"S2 =\", S2)\n",
    "print(\"S3 =\", S3)\n",
    "print(\"S4 =\", S4)\n"
   ]
  },
  {
   "cell_type": "code",
   "execution_count": null,
   "id": "91086df4",
   "metadata": {},
   "outputs": [
    {
     "name": "stdout",
     "output_type": "stream",
     "text": [
      "S  = 21\n",
      "S1 = 36\n",
      "S2 = 42\n",
      "S3 = 91\n",
      "S4 = 2.45\n"
     ]
    }
   ],
   "source": [
    "#nâng cao\n",
    "n = int(input(\"Nhập số nguyên dương n: \"))\n",
    "\n",
    "S  = n*(n+1)//2\n",
    "S1 = n**2\n",
    "S2 = n*(n+1)\n",
    "S3 = n*(n+1)*(2*n+1)//6\n",
    "S4 = sum(1/i for i in range(1, n+1))\n",
    "\n",
    "print(\"S  =\", S)\n",
    "print(\"S1 =\", S1)\n",
    "print(\"S2 =\", S2)\n",
    "print(\"S3 =\", S3)\n",
    "print(\"S4 =\", S4)\n"
   ]
  }
 ],
 "metadata": {
  "kernelspec": {
   "display_name": "Python 3",
   "language": "python",
   "name": "python3"
  },
  "language_info": {
   "codemirror_mode": {
    "name": "ipython",
    "version": 3
   },
   "file_extension": ".py",
   "mimetype": "text/x-python",
   "name": "python",
   "nbconvert_exporter": "python",
   "pygments_lexer": "ipython3",
   "version": "3.13.5"
  }
 },
 "nbformat": 4,
 "nbformat_minor": 5
}
