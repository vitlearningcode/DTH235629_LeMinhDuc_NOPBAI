{
 "cells": [
  {
   "cell_type": "code",
   "execution_count": null,
   "id": "35a9175e",
   "metadata": {},
   "outputs": [],
   "source": [
    "#Sử dụng thư viện có sẵn (SymPy)\n",
    "from sympy import symbols, solve\n",
    "\n",
    "x = symbols('x')\n",
    "a = float(input(\"Nhập a (a ≠ 0): \"))\n",
    "b = float(input(\"Nhập b: \"))\n",
    "c = float(input(\"Nhập c: \"))\n",
    "\n",
    "nghiem = solve(a*x**2 + b*x + c, x)\n",
    "print(\"Nghiệm:\", nghiem)"
   ]
  },
  {
   "cell_type": "code",
   "execution_count": null,
   "id": "982084b5",
   "metadata": {},
   "outputs": [],
   "source": [
    "import math\n",
    "\n",
    "def quadratic(a, b, c):\n",
    "    delta = b*b - 4*a*c\n",
    "    if delta < 0:\n",
    "        return None\n",
    "    sqrt_delta = math.sqrt(delta)\n",
    "\n",
    "    # Công thức rút gọn tránh mất mát\n",
    "    if b >= 0:\n",
    "        x1 = (-b - sqrt_delta) / (2*a)\n",
    "    else:\n",
    "        x1 = (-b + sqrt_delta) / (2*a)\n",
    "    x2 = c / (a * x1)  # nghiệm còn lại\n",
    "    return (x1, x2)\n",
    "\n",
    "a, b, c = map(float, input(\"Nhập a b c: \").split())\n",
    "print(\"Nghiệm:\", quadratic(a, b, c))\n"
   ]
  },
  {
   "cell_type": "code",
   "execution_count": null,
   "id": "a02ca8aa",
   "metadata": {},
   "outputs": [],
   "source": [
    "import cmath\n",
    "\n",
    "def giai_pt_bac2(a, b, c):\n",
    "    if a == 0:\n",
    "        return \"a phải khác 0\"\n",
    "    delta = b**2 - 4*a*c\n",
    "    x1 = (-b + cmath.sqrt(delta)) / (2*a)\n",
    "    x2 = (-b - cmath.sqrt(delta)) / (2*a)\n",
    "    return (x1, x2)\n",
    "\n",
    "# --- Chạy thử ---\n",
    "a = float(input(\"Nhập a (a ≠ 0): \"))\n",
    "b = float(input(\"Nhập b: \"))\n",
    "c = float(input(\"Nhập c: \"))\n",
    "\n",
    "nghiem = giai_pt_bac2(a, b, c)\n",
    "print(\"Nghiệm của phương trình:\", nghiem)\n"
   ]
  }
 ],
 "metadata": {
  "kernelspec": {
   "display_name": "Python 3",
   "language": "python",
   "name": "python3"
  },
  "language_info": {
   "codemirror_mode": {
    "name": "ipython",
    "version": 3
   },
   "file_extension": ".py",
   "mimetype": "text/x-python",
   "name": "python",
   "nbconvert_exporter": "python",
   "pygments_lexer": "ipython3",
   "version": "3.13.5"
  }
 },
 "nbformat": 4,
 "nbformat_minor": 5
}
