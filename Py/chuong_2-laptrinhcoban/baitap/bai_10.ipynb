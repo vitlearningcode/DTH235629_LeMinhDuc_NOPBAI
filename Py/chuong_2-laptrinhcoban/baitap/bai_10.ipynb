{
 "cells": [
  {
   "cell_type": "code",
   "execution_count": 1,
   "id": "47bc3f5a",
   "metadata": {},
   "outputs": [
    {
     "name": "stdout",
     "output_type": "stream",
     "text": [
      "\n",
      "Bảng cửu chương 2\n",
      "2 x 1 = 2\n",
      "2 x 2 = 4\n",
      "2 x 3 = 6\n",
      "2 x 4 = 8\n",
      "2 x 5 = 10\n",
      "2 x 6 = 12\n",
      "2 x 7 = 14\n",
      "2 x 8 = 16\n",
      "2 x 9 = 18\n",
      "2 x 10 = 20\n",
      "\n",
      "Bảng cửu chương 3\n",
      "3 x 1 = 3\n",
      "3 x 2 = 6\n",
      "3 x 3 = 9\n",
      "3 x 4 = 12\n",
      "3 x 5 = 15\n",
      "3 x 6 = 18\n",
      "3 x 7 = 21\n",
      "3 x 8 = 24\n",
      "3 x 9 = 27\n",
      "3 x 10 = 30\n",
      "\n",
      "Bảng cửu chương 4\n",
      "4 x 1 = 4\n",
      "4 x 2 = 8\n",
      "4 x 3 = 12\n",
      "4 x 4 = 16\n",
      "4 x 5 = 20\n",
      "4 x 6 = 24\n",
      "4 x 7 = 28\n",
      "4 x 8 = 32\n",
      "4 x 9 = 36\n",
      "4 x 10 = 40\n",
      "\n",
      "Bảng cửu chương 5\n",
      "5 x 1 = 5\n",
      "5 x 2 = 10\n",
      "5 x 3 = 15\n",
      "5 x 4 = 20\n",
      "5 x 5 = 25\n",
      "5 x 6 = 30\n",
      "5 x 7 = 35\n",
      "5 x 8 = 40\n",
      "5 x 9 = 45\n",
      "5 x 10 = 50\n",
      "\n",
      "Bảng cửu chương 6\n",
      "6 x 1 = 6\n",
      "6 x 2 = 12\n",
      "6 x 3 = 18\n",
      "6 x 4 = 24\n",
      "6 x 5 = 30\n",
      "6 x 6 = 36\n",
      "6 x 7 = 42\n",
      "6 x 8 = 48\n",
      "6 x 9 = 54\n",
      "6 x 10 = 60\n",
      "\n",
      "Bảng cửu chương 7\n",
      "7 x 1 = 7\n",
      "7 x 2 = 14\n",
      "7 x 3 = 21\n",
      "7 x 4 = 28\n",
      "7 x 5 = 35\n",
      "7 x 6 = 42\n",
      "7 x 7 = 49\n",
      "7 x 8 = 56\n",
      "7 x 9 = 63\n",
      "7 x 10 = 70\n",
      "\n",
      "Bảng cửu chương 8\n",
      "8 x 1 = 8\n",
      "8 x 2 = 16\n",
      "8 x 3 = 24\n",
      "8 x 4 = 32\n",
      "8 x 5 = 40\n",
      "8 x 6 = 48\n",
      "8 x 7 = 56\n",
      "8 x 8 = 64\n",
      "8 x 9 = 72\n",
      "8 x 10 = 80\n",
      "\n",
      "Bảng cửu chương 9\n",
      "9 x 1 = 9\n",
      "9 x 2 = 18\n",
      "9 x 3 = 27\n",
      "9 x 4 = 36\n",
      "9 x 5 = 45\n",
      "9 x 6 = 54\n",
      "9 x 7 = 63\n",
      "9 x 8 = 72\n",
      "9 x 9 = 81\n",
      "9 x 10 = 90\n"
     ]
    }
   ],
   "source": [
    "for n in range(2, 10):   # từ 2 đến 9\n",
    "    print(f\"\\nBảng cửu chương {n}\")\n",
    "    for i in range(1, 11):   # từ 1 đến 10\n",
    "        print(f\"{n} x {i} = {n*i}\")\n"
   ]
  },
  {
   "cell_type": "code",
   "execution_count": 2,
   "id": "c1153bf8",
   "metadata": {},
   "outputs": [
    {
     "name": "stdout",
     "output_type": "stream",
     "text": [
      "2 x  1 =  2\t3 x  1 =  3\t4 x  1 =  4\t5 x  1 =  5\t6 x  1 =  6\t7 x  1 =  7\t8 x  1 =  8\t9 x  1 =  9\t\n",
      "2 x  2 =  4\t3 x  2 =  6\t4 x  2 =  8\t5 x  2 = 10\t6 x  2 = 12\t7 x  2 = 14\t8 x  2 = 16\t9 x  2 = 18\t\n",
      "2 x  3 =  6\t3 x  3 =  9\t4 x  3 = 12\t5 x  3 = 15\t6 x  3 = 18\t7 x  3 = 21\t8 x  3 = 24\t9 x  3 = 27\t\n",
      "2 x  4 =  8\t3 x  4 = 12\t4 x  4 = 16\t5 x  4 = 20\t6 x  4 = 24\t7 x  4 = 28\t8 x  4 = 32\t9 x  4 = 36\t\n",
      "2 x  5 = 10\t3 x  5 = 15\t4 x  5 = 20\t5 x  5 = 25\t6 x  5 = 30\t7 x  5 = 35\t8 x  5 = 40\t9 x  5 = 45\t\n",
      "2 x  6 = 12\t3 x  6 = 18\t4 x  6 = 24\t5 x  6 = 30\t6 x  6 = 36\t7 x  6 = 42\t8 x  6 = 48\t9 x  6 = 54\t\n",
      "2 x  7 = 14\t3 x  7 = 21\t4 x  7 = 28\t5 x  7 = 35\t6 x  7 = 42\t7 x  7 = 49\t8 x  7 = 56\t9 x  7 = 63\t\n",
      "2 x  8 = 16\t3 x  8 = 24\t4 x  8 = 32\t5 x  8 = 40\t6 x  8 = 48\t7 x  8 = 56\t8 x  8 = 64\t9 x  8 = 72\t\n",
      "2 x  9 = 18\t3 x  9 = 27\t4 x  9 = 36\t5 x  9 = 45\t6 x  9 = 54\t7 x  9 = 63\t8 x  9 = 72\t9 x  9 = 81\t\n",
      "2 x 10 = 20\t3 x 10 = 30\t4 x 10 = 40\t5 x 10 = 50\t6 x 10 = 60\t7 x 10 = 70\t8 x 10 = 80\t9 x 10 = 90\t\n"
     ]
    }
   ],
   "source": [
    "for i in range(1, 11):          # dòng\n",
    "    for n in range(2, 10):      # cột\n",
    "        print(f\"{n} x {i:2} = {n*i:2}\", end=\"\\t\")\n",
    "    print()\n"
   ]
  },
  {
   "cell_type": "code",
   "execution_count": null,
   "id": "ab4233c6",
   "metadata": {},
   "outputs": [
    {
     "name": "stdout",
     "output_type": "stream",
     "text": [
      "2 x  1 =  2\t3 x  1 =  3\t4 x  1 =  4\t5 x  1 =  5\t6 x  1 =  6\t7 x  1 =  7\t8 x  1 =  8\t9 x  1 =  9\t\n",
      "2 x  2 =  4\t3 x  2 =  6\t4 x  2 =  8\t5 x  2 = 10\t6 x  2 = 12\t7 x  2 = 14\t8 x  2 = 16\t9 x  2 = 18\t\n",
      "2 x  3 =  6\t3 x  3 =  9\t4 x  3 = 12\t5 x  3 = 15\t6 x  3 = 18\t7 x  3 = 21\t8 x  3 = 24\t9 x  3 = 27\t\n",
      "2 x  4 =  8\t3 x  4 = 12\t4 x  4 = 16\t5 x  4 = 20\t6 x  4 = 24\t7 x  4 = 28\t8 x  4 = 32\t9 x  4 = 36\t\n",
      "2 x  5 = 10\t3 x  5 = 15\t4 x  5 = 20\t5 x  5 = 25\t6 x  5 = 30\t7 x  5 = 35\t8 x  5 = 40\t9 x  5 = 45\t\n",
      "2 x  6 = 12\t3 x  6 = 18\t4 x  6 = 24\t5 x  6 = 30\t6 x  6 = 36\t7 x  6 = 42\t8 x  6 = 48\t9 x  6 = 54\t\n",
      "2 x  7 = 14\t3 x  7 = 21\t4 x  7 = 28\t5 x  7 = 35\t6 x  7 = 42\t7 x  7 = 49\t8 x  7 = 56\t9 x  7 = 63\t\n",
      "2 x  8 = 16\t3 x  8 = 24\t4 x  8 = 32\t5 x  8 = 40\t6 x  8 = 48\t7 x  8 = 56\t8 x  8 = 64\t9 x  8 = 72\t\n",
      "2 x  9 = 18\t3 x  9 = 27\t4 x  9 = 36\t5 x  9 = 45\t6 x  9 = 54\t7 x  9 = 63\t8 x  9 = 72\t9 x  9 = 81\t\n",
      "2 x 10 = 20\t3 x 10 = 30\t4 x 10 = 40\t5 x 10 = 50\t6 x 10 = 60\t7 x 10 = 70\t8 x 10 = 80\t9 x 10 = 90\t\n"
     ]
    }
   ],
   "source": [
    "def bang_cuu_chuong(start=2, end=9):\n",
    "    for i in range(1, 11):        \n",
    "        for n in range(start, end+1):\n",
    "            print(f\"{n} x {i:2} = {n*i:2}\", end=\"\\t\")\n",
    "        print()\n",
    "\n",
    "bang_cuu_chuong(2, 9)\n"
   ]
  }
 ],
 "metadata": {
  "kernelspec": {
   "display_name": "Python 3",
   "language": "python",
   "name": "python3"
  },
  "language_info": {
   "codemirror_mode": {
    "name": "ipython",
    "version": 3
   },
   "file_extension": ".py",
   "mimetype": "text/x-python",
   "name": "python",
   "nbconvert_exporter": "python",
   "pygments_lexer": "ipython3",
   "version": "3.13.5"
  }
 },
 "nbformat": 4,
 "nbformat_minor": 5
}
