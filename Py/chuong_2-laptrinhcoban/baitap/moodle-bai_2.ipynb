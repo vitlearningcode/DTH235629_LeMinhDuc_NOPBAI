{
 "cells": [
  {
   "cell_type": "markdown",
   "id": "250ee266",
   "metadata": {},
   "source": [
    "Câu 2: Tính giờ phút giây \n",
    " \n",
    "Yêu cầu: \n",
    "Nhập vào số giây bất kỳ t. Tính và xuất ra dạng  \n",
    "Giờ : Phút : Giây \n",
    "Ví dụ: Nhập 3750 thì xuất ra 1 : 2 : 30 AM  \n",
    "Nhập 51100 thì xuất ra 2 : 11 : 40 PM"
   ]
  },
  {
   "cell_type": "code",
   "execution_count": 1,
   "id": "18a711fe",
   "metadata": {},
   "outputs": [
    {
     "name": "stdout",
     "output_type": "stream",
     "text": [
      "0 : 33 : 20\n"
     ]
    }
   ],
   "source": [
    "t=int(input(\"Nhập số giây:\")) \n",
    "hour=(t//3600)%24 \n",
    "minute=(t%3600)//60 \n",
    "second=(t%3600)%60 \n",
    "print(hour,\":\",minute,\":\",second) "
   ]
  }
 ],
 "metadata": {
  "kernelspec": {
   "display_name": "Python 3",
   "language": "python",
   "name": "python3"
  },
  "language_info": {
   "codemirror_mode": {
    "name": "ipython",
    "version": 3
   },
   "file_extension": ".py",
   "mimetype": "text/x-python",
   "name": "python",
   "nbconvert_exporter": "python",
   "pygments_lexer": "ipython3",
   "version": "3.13.7"
  }
 },
 "nbformat": 4,
 "nbformat_minor": 5
}
