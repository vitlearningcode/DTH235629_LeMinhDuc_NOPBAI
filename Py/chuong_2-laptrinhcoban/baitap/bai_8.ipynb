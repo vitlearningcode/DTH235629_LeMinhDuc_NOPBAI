{
 "cells": [
  {
   "cell_type": "code",
   "execution_count": 1,
   "id": "45d1d524",
   "metadata": {},
   "outputs": [
    {
     "name": "stdout",
     "output_type": "stream",
     "text": [
      "2 x 1 = 2\n",
      "2 x 2 = 4\n",
      "2 x 3 = 6\n",
      "2 x 4 = 8\n",
      "2 x 5 = 10\n",
      "2 x 6 = 12\n",
      "2 x 7 = 14\n",
      "2 x 8 = 16\n",
      "2 x 9 = 18\n",
      "2 x 10 = 20\n"
     ]
    }
   ],
   "source": [
    "n = int(input(\"Nhập số nguyên (1 < n < 9): \"))\n",
    "if 1 < n < 9:\n",
    "    for i in range(1, 11):\n",
    "        print (f\"{n} x {i} = {n * i}\")\n",
    "else:\n",
    "    print(\"Số không hợp lệ\")\n"
   ]
  },
  {
   "cell_type": "code",
   "execution_count": 3,
   "id": "ddb3f6c0",
   "metadata": {},
   "outputs": [
    {
     "name": "stdout",
     "output_type": "stream",
     "text": [
      "Bảng cửu chương của 5:\n",
      " 5 x  1 =  5\n",
      " 5 x  2 = 10\n",
      " 5 x  3 = 15\n",
      " 5 x  4 = 20\n",
      " 5 x  5 = 25\n",
      " 5 x  6 = 30\n",
      " 5 x  7 = 35\n",
      " 5 x  8 = 40\n",
      " 5 x  9 = 45\n",
      " 5 x 10 = 50\n"
     ]
    }
   ],
   "source": [
    "def BCC (n):\n",
    "    if not (1 < n < 9):\n",
    "        return f\"lỗi: n = {n} không hợp lệ chỉ từ 2 đến 8\"\n",
    "    \n",
    "    print(f\"Bảng cửu chương của {n}:\")\n",
    "    for i in range(1, 11):\n",
    "        print (f\"{n:2} x {i:2} = {n * i:2}\")\n",
    "        \n",
    "try:\n",
    "    n = int(input(\"Nhập số nguyên (1 < n < 9): \"))\n",
    "    BCC(n)\n",
    "except ValueError:\n",
    "    print(\"Lỗi: Vui lòng nhập số nguyên hợp lệ\")"
   ]
  }
 ],
 "metadata": {
  "kernelspec": {
   "display_name": "Python 3",
   "language": "python",
   "name": "python3"
  },
  "language_info": {
   "codemirror_mode": {
    "name": "ipython",
    "version": 3
   },
   "file_extension": ".py",
   "mimetype": "text/x-python",
   "name": "python",
   "nbconvert_exporter": "python",
   "pygments_lexer": "ipython3",
   "version": "3.13.5"
  }
 },
 "nbformat": 4,
 "nbformat_minor": 5
}
