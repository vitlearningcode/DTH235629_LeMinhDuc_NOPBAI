{
 "cells": [
  {
   "cell_type": "code",
   "execution_count": 1,
   "id": "96919701",
   "metadata": {},
   "outputs": [
    {
     "name": "stdout",
     "output_type": "stream",
     "text": [
      "Tong S = 33.33333333333333\n"
     ]
    }
   ],
   "source": [
    "#1\n",
    "import math \n",
    "\n",
    "x = float(input(\"Nhap x: \"))\n",
    "n = int(input(\"Nhap n: \"))\n",
    "\n",
    "S = 0\n",
    "for i in range (1, n+1):\n",
    "    S += x**i / math.factorial(i)\n",
    "\n",
    "print(f\"Tong S = {S}\")\n"
   ]
  },
  {
   "cell_type": "code",
   "execution_count": 3,
   "id": "f5bba744",
   "metadata": {},
   "outputs": [
    {
     "name": "stdout",
     "output_type": "stream",
     "text": [
      "Tong S = 33.33333333333333\n"
     ]
    }
   ],
   "source": [
    "x = float(input(\"Nhap x: \"))\n",
    "n = int(input(\"Nhap n: \"))\n",
    "\n",
    "S = 0\n",
    "giai_thua = 1\n",
    "\n",
    "for i in range (1, n+1):\n",
    "    giai_thua *= i\n",
    "    S += x**i / giai_thua\n",
    "\n",
    "print(f\"Tong S = {S}\")\n"
   ]
  },
  {
   "cell_type": "code",
   "execution_count": null,
   "id": "53995fcb",
   "metadata": {},
   "outputs": [],
   "source": [
    "x = float(input (\"nhap x: \"))\n",
    "n = int(input (\"nhap n: \"))\n",
    "\n",
    "s , giai_thua, luy_thua = 0, 1, 1\n",
    "\n",
    "for i in range (1, n+1):\n",
    "    giai_thua *= i\n",
    "    luy_thua *= x\n",
    "    s += luy_thua / giai_thua"
   ]
  }
 ],
 "metadata": {
  "kernelspec": {
   "display_name": "Python 3",
   "language": "python",
   "name": "python3"
  },
  "language_info": {
   "codemirror_mode": {
    "name": "ipython",
    "version": 3
   },
   "file_extension": ".py",
   "mimetype": "text/x-python",
   "name": "python",
   "nbconvert_exporter": "python",
   "pygments_lexer": "ipython3",
   "version": "3.13.5"
  }
 },
 "nbformat": 4,
 "nbformat_minor": 5
}
