{
 "cells": [
  {
   "cell_type": "code",
   "execution_count": 10,
   "id": "ed53f2b7",
   "metadata": {},
   "outputs": [
    {
     "name": "stdout",
     "output_type": "stream",
     "text": [
      "Số nhị phân là:  101\n"
     ]
    }
   ],
   "source": [
    "n = int(input('Nhap n: '))\n",
    "print(\"Số nhị phân là: \", bin(n)[2:])\n"
   ]
  },
  {
   "cell_type": "code",
   "execution_count": 11,
   "id": "d129d536",
   "metadata": {},
   "outputs": [
    {
     "name": "stdout",
     "output_type": "stream",
     "text": [
      "Số nhị phân là: 11\n"
     ]
    }
   ],
   "source": [
    "n = int(input('Nhập vào n:'))\n",
    "if n == 0:\n",
    "    print(\"Số nhị phân là: 0\")\n",
    "else:\n",
    "    binary = ''\n",
    "    m = n\n",
    "    while m > 0:\n",
    "        binary = str(m % 2) + binary\n",
    "        m = m // 2\n",
    "    print(\"Số nhị phân là:\", binary)"
   ]
  },
  {
   "cell_type": "code",
   "execution_count": null,
   "id": "be2c03ae",
   "metadata": {},
   "outputs": [],
   "source": [
    "#dùng đệ quy\n",
    "def dec_to_bin(n):\n",
    "    if n == 0:\n",
    "        return ''\n",
    "    else:\n",
    "        return dec_to_bin(n // 2) + str(n % 2)\n",
    "\n",
    "n = int(input('Nhập vào n: '))\n",
    "print(\"Số nhị phân là:\", dec_to_bin(n) if n != 0 else '0')"
   ]
  }
 ],
 "metadata": {
  "kernelspec": {
   "display_name": "Python 3",
   "language": "python",
   "name": "python3"
  },
  "language_info": {
   "codemirror_mode": {
    "name": "ipython",
    "version": 3
   },
   "file_extension": ".py",
   "mimetype": "text/x-python",
   "name": "python",
   "nbconvert_exporter": "python",
   "pygments_lexer": "ipython3",
   "version": "3.13.5"
  }
 },
 "nbformat": 4,
 "nbformat_minor": 5
}
