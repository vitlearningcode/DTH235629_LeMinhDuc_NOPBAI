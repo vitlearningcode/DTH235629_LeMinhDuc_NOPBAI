{
 "cells": [
  {
   "cell_type": "code",
   "execution_count": null,
   "id": "4cc6d865",
   "metadata": {},
   "outputs": [],
   "source": [
    "a, b, c = map(float, input(\"Nhập 3 số dương a, b, c cách nhau bởi dấu phẩy: \").split(','))\n",
    "\n",
    "if a > 0 and b > 0 and c > 0 and (a + b > c) and (a + c > b) and (b + c > a):\n",
    "    print('Có thể tạo thành một tam giác')\n",
    "else:\n",
    "    print('Không thể tạo thành một tam giác')"
   ]
  },
  {
   "cell_type": "code",
   "execution_count": null,
   "id": "f66343d8",
   "metadata": {},
   "outputs": [],
   "source": [
    "def ktra_Tam_giac (a, b, c):\n",
    "    return a + b > c and a + c > b and b + c > a\n",
    "\n",
    "try:\n",
    "    a, b, c = map(float, input(\"Nhập 3 số dương a, b, c cách nhau bởi dấu phẩy:\").slit(','))\n",
    "    \n",
    "    if a <= 0 or b <= 0 or c <= 0:\n",
    "        print(\"Vui lòng nhập số dương\")\n",
    "    elif ktra_Tam_giac(a, b, c):\n",
    "        print(\"Có thể tạo thành một tam giác\")\n",
    "    else:\n",
    "        print(\"Không thể tạo thành một tam giác\")\n",
    "except ValueError:\n",
    "    print(\"Vui lòng nhập số hợp lệ\")"
   ]
  },
  {
   "cell_type": "code",
   "execution_count": null,
   "id": "2d4924d6",
   "metadata": {},
   "outputs": [],
   "source": [
    "try:\n",
    "    a, b, c = map(float, input(\"Nhập 3 số dương a, b, c (cách nhau bởi dấu phẩy): \").split(\",\"))\n",
    "    print(\"Có thể tạo thành một tam giác\" if all(x > 0 for x in (a, b, c)) and a+b>c and a+c>b and b+c>a else \"Không thể tạo thành một tam giác\")\n",
    "except:\n",
    "    print(\"Dữ liệu nhập vào không hợp lệ!\")\n"
   ]
  }
 ],
 "metadata": {
  "language_info": {
   "name": "python"
  }
 },
 "nbformat": 4,
 "nbformat_minor": 5
}
