{
 "cells": [
  {
   "cell_type": "code",
   "execution_count": null,
   "id": "194e7004",
   "metadata": {},
   "outputs": [],
   "source": [
    "import math\n",
    "\n",
    "# a) Thủ tục: tham số là n, in ra tổng 1+2+...+n\n",
    "def tong_n(n):\n",
    "    S = n * (n+1) // 2\n",
    "    print(f\"Tổng 1+2+...+{n} = {S}\")\n",
    "\n",
    "# b) Thủ tục: tham số m, n → kiểm tra nguyên tố cùng nhau\n",
    "def nguyen_to_cung_nhau(m, n):\n",
    "    if math.gcd(m, n) == 1:\n",
    "        print(\"Hai số này là nguyên tố cùng nhau\")\n",
    "    else:\n",
    "        print(\"Hai số này không là nguyên tố cùng nhau\")\n",
    "\n",
    "# c) Thủ tục: tham số s (số giây) → đổi sang giờ, phút, giây\n",
    "def doi_giay(s):\n",
    "    h = s // 3600\n",
    "    m = (s % 3600) // 60\n",
    "    g = s % 60\n",
    "    print(f\"{s} giây = {h} giờ, {m} phút, {g} giây\")\n",
    "\n",
    "# d) Thủ tục: tham số a, b → trả về |a-b|\n",
    "def tri_tuyet_doi(a, b):\n",
    "    return abs(a - b)\n",
    "\n",
    "# ===============================\n",
    "# Demo chạy thử\n",
    "tong_n(10)                   # a)\n",
    "nguyen_to_cung_nhau(14, 25)  # b)\n",
    "doi_giay(3671)               # c)\n",
    "print(\"|a-b| =\", tri_tuyet_doi(5.7, 2.3))  # d)\n"
   ]
  },
  {
   "cell_type": "code",
   "execution_count": null,
   "id": "710bd281",
   "metadata": {},
   "outputs": [],
   "source": [
    "import math\n",
    "\n",
    "# a) Tổng 1+2+...+n\n",
    "def tong_n(n: int) -> int:\n",
    "    return n * (n + 1) // 2\n",
    "\n",
    "# b) Kiểm tra nguyên tố cùng nhau\n",
    "def nguyen_to_cung_nhau(m: int, n: int) -> str:\n",
    "    return \"Hai số này là nguyên tố cùng nhau\" if math.gcd(m, n) == 1 else \"Hai số này không là nguyên tố cùng nhau\"\n",
    "\n",
    "# c) Đổi giây sang giờ, phút, giây\n",
    "def doi_giay(s: int) -> tuple[int, int, int]:\n",
    "    return divmod(s, 3600)[0], divmod(s % 3600, 60)[0], s % 60\n",
    "\n",
    "# d) |a-b|\n",
    "def tri_tuyet_doi(a: float, b: float) -> float:\n",
    "    return abs(a - b)\n",
    "\n",
    "\n",
    "# ==================== DEMO ====================\n",
    "n = 10\n",
    "print(\"a)\", tong_n(n))\n",
    "\n",
    "m, k = 14, 25\n",
    "print(\"b)\", nguyen_to_cung_nhau(m, k))\n",
    "\n",
    "s = 3671\n",
    "h, p, g = doi_giay(s)\n",
    "print(f\"c) {s} giây = {h} giờ, {p} phút, {g} giây\")\n",
    "\n",
    "a, b = 5.7, 2.3\n",
    "print(\"d) |a-b| =\", tri_tuyet_doi(a, b))\n"
   ]
  },
  {
   "cell_type": "code",
   "execution_count": null,
   "id": "0bbd256b",
   "metadata": {},
   "outputs": [],
   "source": [
    "import math\n",
    "\n",
    "tong_n = lambda n: n*(n+1)//2\n",
    "\n",
    "nguyen_to_cung_nhau = lambda m, n: \"Nguyên tố cùng nhau\" if math.gcd(m,n)==1 else \"Không nguyên tố cùng nhau\"\n",
    "\n",
    "doi_giay = lambda s: (s//3600, (s%3600)//60, s%60)\n",
    "\n",
    "tri_tuyet_doi = lambda a,b: abs(a-b)\n",
    "\n",
    "print(\"a)\", tong_n(10))\n",
    "print(\"b)\", nguyen_to_cung_nhau(14, 25))\n",
    "print(\"c)\", doi_giay(3671))\n",
    "print(\"d)\", tri_tuyet_doi(5.7, 2.3))\n"
   ]
  }
 ],
 "metadata": {
  "kernelspec": {
   "display_name": "Python 3",
   "language": "python",
   "name": "python3"
  },
  "language_info": {
   "codemirror_mode": {
    "name": "ipython",
    "version": 3
   },
   "file_extension": ".py",
   "mimetype": "text/x-python",
   "name": "python",
   "nbconvert_exporter": "python",
   "pygments_lexer": "ipython3",
   "version": "3.13.7"
  }
 },
 "nbformat": 4,
 "nbformat_minor": 5
}
