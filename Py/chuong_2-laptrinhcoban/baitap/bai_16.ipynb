{
 "cells": [
  {
   "cell_type": "code",
   "execution_count": null,
   "id": "14007eb7",
   "metadata": {},
   "outputs": [],
   "source": [
    "day     = int(input(\"Nhập ngày: \"))\n",
    "month   = int(input(\"Nhập tháng: \"))\n",
    "year    = int(input(\"Nhập năm: \"))\n",
    "\n",
    "def is_leap_year(y):\n",
    "    return (y % 4 == 0 and y % 100 != 0) or (y % 400 == 0)\n",
    "\n",
    "def is_valid_date(d, m, y):\n",
    "    if y < 1 or m < 1 or m > 12 or d < 1:\n",
    "        return False\n",
    "    days_in_month = [31, 29 if is_leap_year(y) else 28, 31, 30, 31, 30, 31, 31, 30, 31, 30, 31]\n",
    "    return d <= days_in_month[m-1]\n",
    "\n",
    "if is_valid_date(day, month, year):\n",
    "    print(\"Ngày hợp lệ.\")\n",
    "else:\n",
    "    print(\"Ngày không hợp lệ.\")"
   ]
  },
  {
   "cell_type": "code",
   "execution_count": null,
   "id": "5075671e",
   "metadata": {},
   "outputs": [],
   "source": [
    "da       = int(input(\"Nhập ngày: \"))\n",
    "month    = int(input(\"Nhập tháng: \"))\n",
    "year     = int(input(\"Nhập năm: \"))\n",
    "\n",
    "hop_le = True\n",
    "\n",
    "if year <= 0 or month <= 0 or day <= 0:\n",
    "    hop_le = False\n",
    "elif month > 12:\n",
    "    hop_le = False\n",
    "else:\n",
    "    if month in (1, 3, 5, 7, 8, 10, 12):\n",
    "        max_day = 31\n",
    "    elif month in (4, 6, 9, 11):\n",
    "        max_day = 30\n",
    "    else:  # Tháng 2\n",
    "        # Năm nhuận\n",
    "        if (year % 400 == 0) or (year % 4 == 0 and year % 100 != 0):\n",
    "            max_day = 29\n",
    "        else:\n",
    "            max_day = 28\n",
    "    if day > max_day:\n",
    "        hop_le = False\n",
    "\n",
    "print(\"Ngày hợp lệ\" if hop_le else \"Ngày không hợp lệ\")\n"
   ]
  },
  {
   "cell_type": "code",
   "execution_count": 1,
   "id": "8afcdf99",
   "metadata": {},
   "outputs": [
    {
     "name": "stdout",
     "output_type": "stream",
     "text": [
      "Ngày hợp lệ\n"
     ]
    }
   ],
   "source": [
    "from datetime import datetime\n",
    "\n",
    "try:\n",
    "    day = int(input(\"Nhập ngày: \"))\n",
    "    month = int(input(\"Nhập tháng: \"))\n",
    "    year = int(input(\"Nhập năm: \"))\n",
    "\n",
    "    datetime(year, month, day)  # Nếu không lỗi thì ngày hợp lệ\n",
    "    print(\"Ngày hợp lệ\")\n",
    "except ValueError:\n",
    "    print(\"Ngày không hợp lệ\")\n"
   ]
  }
 ],
 "metadata": {
  "kernelspec": {
   "display_name": "Python 3",
   "language": "python",
   "name": "python3"
  },
  "language_info": {
   "codemirror_mode": {
    "name": "ipython",
    "version": 3
   },
   "file_extension": ".py",
   "mimetype": "text/x-python",
   "name": "python",
   "nbconvert_exporter": "python",
   "pygments_lexer": "ipython3",
   "version": "3.13.7"
  }
 },
 "nbformat": 4,
 "nbformat_minor": 5
}
