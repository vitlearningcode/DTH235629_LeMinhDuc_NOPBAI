{
 "cells": [
  {
   "cell_type": "code",
   "execution_count": 1,
   "id": "33525b8c",
   "metadata": {},
   "outputs": [
    {
     "name": "stdout",
     "output_type": "stream",
     "text": [
      "diện tích hình tròn là:  28.274333882308138\n"
     ]
    }
   ],
   "source": [
    "'''\n",
    " Viết chương trình Python tính diện tích hình tròn với bán kính được \n",
    "nhập từ bàn phím\n",
    "'''\n",
    "\n",
    "#cơ bản\n",
    "import math\n",
    "r = float (input (\"nhập vào bán kính hình tròn (r): \"))\n",
    "s = math.pi * r**2\n",
    "print (\"diện tích hình tròn là: \", s)\n"
   ]
  },
  {
   "cell_type": "code",
   "execution_count": 4,
   "id": "287de48b",
   "metadata": {},
   "outputs": [
    {
     "name": "stdout",
     "output_type": "stream",
     "text": [
      "Diện tích hình tròn với bán kính 3.0 là: , 28.27\n"
     ]
    }
   ],
   "source": [
    "#nâng cao\n",
    "import math\n",
    "try:\n",
    "    r = float (input (\"Nhập vào bán kinh hình tròn (r): \"))\n",
    "    if r < 0:\n",
    "        print (\"Bán kính khôgn được âm, vui lòng nhập lại!\")\n",
    "        r = float (input (\"Nhập vào bán kinh hình tròn (r): \"))\n",
    "    else:\n",
    "        s  = math.pi * r**2\n",
    "        print (f\"Diện tích hình tròn với bán kính {r} là: , {s:.2f}\")\n",
    "except ValueError:\n",
    "    print (\"Vui lòng nhập số hợp lệ\")\n",
    "        "
   ]
  },
  {
   "cell_type": "code",
   "execution_count": 8,
   "id": "492b6672",
   "metadata": {},
   "outputs": [
    {
     "name": "stdout",
     "output_type": "stream",
     "text": [
      "Vui lòng nhập số hợp lệ và bán kính không được âm\n"
     ]
    }
   ],
   "source": [
    "#tối ưu\n",
    "import math\n",
    "\n",
    "def tinh_dien_tich_hinh_tron():\n",
    "    if r < 0:\n",
    "        raise ValueError(\"Bán kính không được âm\")\n",
    "    return math.pi * r**2\n",
    "\n",
    "try:\n",
    "    r = float (input (\"Nhập vào bán kinh hình tròn (r): \"))\n",
    "    dien_tich = tinh_dien_tich_hinh_tron()\n",
    "    print (f\"Diện tích hình tròn với bán kính {r} là: , {dien_tich:.2f}\")\n",
    "except ValueError:\n",
    "    print (\"Vui lòng nhập số hợp lệ và bán kính không được âm\")\n",
    "\n",
    "\n"
   ]
  },
  {
   "cell_type": "code",
   "execution_count": null,
   "id": "b0eb34b1",
   "metadata": {},
   "outputs": [],
   "source": []
  }
 ],
 "metadata": {
  "kernelspec": {
   "display_name": "Python 3",
   "language": "python",
   "name": "python3"
  },
  "language_info": {
   "codemirror_mode": {
    "name": "ipython",
    "version": 3
   },
   "file_extension": ".py",
   "mimetype": "text/x-python",
   "name": "python",
   "nbconvert_exporter": "python",
   "pygments_lexer": "ipython3",
   "version": "3.13.5"
  }
 },
 "nbformat": 4,
 "nbformat_minor": 5
}
