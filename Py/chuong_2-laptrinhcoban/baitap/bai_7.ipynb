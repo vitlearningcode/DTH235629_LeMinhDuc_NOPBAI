{
 "cells": [
  {
   "cell_type": "code",
   "execution_count": 1,
   "id": "79f2855e",
   "metadata": {},
   "outputs": [
    {
     "name": "stdout",
     "output_type": "stream",
     "text": [
      "Kết quả là: 39\n"
     ]
    }
   ],
   "source": [
    "n = int(input(\"Nhập vào số nguyên: \"))\n",
    "ketqua = n + n**2 + n**3\n",
    "print(\"Kết quả là:\", ketqua)"
   ]
  },
  {
   "cell_type": "code",
   "execution_count": 2,
   "id": "14b1d917",
   "metadata": {},
   "outputs": [
    {
     "name": "stdout",
     "output_type": "stream",
     "text": [
      "Vui lòng nhập một số nguyên hợp lệ.\n"
     ]
    }
   ],
   "source": [
    "def tinh_bieu_thuc (n):\n",
    "    return n + n**2 + n**3\n",
    "\n",
    "try:\n",
    "    n = int(input(\"Nhập vào số nguyên: \"))\n",
    "    ketqua = tinh_bieu_thuc(n)\n",
    "    print(\"Kết quả là:\", ketqua)\n",
    "except ValueError:\n",
    "    print(\"Vui lòng nhập một số nguyên hợp lệ.\")"
   ]
  }
 ],
 "metadata": {
  "kernelspec": {
   "display_name": "Python 3",
   "language": "python",
   "name": "python3"
  },
  "language_info": {
   "codemirror_mode": {
    "name": "ipython",
    "version": 3
   },
   "file_extension": ".py",
   "mimetype": "text/x-python",
   "name": "python",
   "nbconvert_exporter": "python",
   "pygments_lexer": "ipython3",
   "version": "3.13.5"
  }
 },
 "nbformat": 4,
 "nbformat_minor": 5
}
